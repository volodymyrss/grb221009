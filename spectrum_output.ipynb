{
 "cells": [
  {
   "cell_type": "code",
   "execution_count": 1,
   "id": "1b3f6a6c",
   "metadata": {
    "execution": {
     "iopub.execute_input": "2023-01-25T21:36:10.080704Z",
     "iopub.status.busy": "2023-01-25T21:36:10.079753Z",
     "iopub.status.idle": "2023-01-25T21:36:10.716626Z",
     "shell.execute_reply": "2023-01-25T21:36:10.715705Z"
    },
    "papermill": {
     "duration": 0.644005,
     "end_time": "2023-01-25T21:36:10.719374",
     "exception": false,
     "start_time": "2023-01-25T21:36:10.075369",
     "status": "completed"
    },
    "tags": []
   },
   "outputs": [],
   "source": [
    "# ! pip install ~/ogip\n",
    "from matplotlib import pylab as plt\n",
    "from astropy.io import fits\n",
    "import ogip"
   ]
  },
  {
   "cell_type": "code",
   "execution_count": 2,
   "id": "ab29210a",
   "metadata": {
    "execution": {
     "iopub.execute_input": "2023-01-25T21:36:10.727823Z",
     "iopub.status.busy": "2023-01-25T21:36:10.727279Z",
     "iopub.status.idle": "2023-01-25T21:36:10.731889Z",
     "shell.execute_reply": "2023-01-25T21:36:10.731058Z"
    },
    "papermill": {
     "duration": 0.011335,
     "end_time": "2023-01-25T21:36:10.734092",
     "exception": false,
     "start_time": "2023-01-25T21:36:10.722757",
     "status": "completed"
    },
    "tags": [
     "parameters"
    ]
   },
   "outputs": [],
   "source": [
    "# oda:version \"v1.8\""
   ]
  },
  {
   "cell_type": "code",
   "execution_count": 3,
   "id": "6006bd62",
   "metadata": {
    "execution": {
     "iopub.execute_input": "2023-01-25T21:36:10.740351Z",
     "iopub.status.busy": "2023-01-25T21:36:10.739420Z",
     "iopub.status.idle": "2023-01-25T21:36:11.218426Z",
     "shell.execute_reply": "2023-01-25T21:36:11.217517Z"
    },
    "papermill": {
     "duration": 0.484177,
     "end_time": "2023-01-25T21:36:11.220146",
     "exception": false,
     "start_time": "2023-01-25T21:36:10.735969",
     "status": "completed"
    },
    "tags": []
   },
   "outputs": [],
   "source": [
    "import ogip.core\n",
    "spi_rmf = ogip.core.open_something(\"spi/rmf_GRB2rGRB2022sgrsp10aCVGRB_photo_GRB221009A_avrg.fits\")\n",
    "spi_pha = ogip.core.open_something(\"spi/spectrum_GRB2rGRB2022sgrsp10aCVGRB_photo_GRB221009A_avrg.fits\")\n",
    "\n",
    "\n",
    "jmx1_pha = ogip.core.open_something(\"JMX1_spectrum_GRB221009A.fits\")\n",
    "jmx1_rmf = ogip.core.open_something(\"JMX1_rmf_GRB221009A.fits\")\n",
    "jmx1_arf = ogip.core.open_something(\"JMX1_arf_GRB221009A.fits\")\n",
    "\n",
    "jmx2_pha = ogip.core.open_something(\"JMX2_spectrum_GRB221009A.fits\")\n",
    "jmx2_rmf = ogip.core.open_something(\"JMX2_rmf_GRB221009A.fits\")\n",
    "jmx2_arf = ogip.core.open_something(\"JMX2_arf_GRB221009A.fits\")\n"
   ]
  },
  {
   "cell_type": "code",
   "execution_count": 4,
   "id": "3fd34d41",
   "metadata": {
    "execution": {
     "iopub.execute_input": "2023-01-25T21:36:11.225434Z",
     "iopub.status.busy": "2023-01-25T21:36:11.225148Z",
     "iopub.status.idle": "2023-01-25T21:36:12.174871Z",
     "shell.execute_reply": "2023-01-25T21:36:12.174113Z"
    },
    "papermill": {
     "duration": 0.955768,
     "end_time": "2023-01-25T21:36:12.177918",
     "exception": false,
     "start_time": "2023-01-25T21:36:11.222150",
     "status": "completed"
    },
    "tags": []
   },
   "outputs": [
    {
     "data": {
      "image/png": "[encoded data removed]",
      "text/plain": [
       "<Figure size 640x480 with 1 Axes>"
      ]
     },
     "metadata": {},
     "output_type": "display_data"
    }
   ],
   "source": [
    "from ogip.spec import PHAI, RMF, rebin, log_bins\n",
    "from ogip.tools import plot as plot_spec\n",
    "\n",
    "\n",
    "isgri_pha = PHAI.from_file_name(\"IBIS_spectrum_GRB221009A.fits\")\n",
    "isgri_rmf = RMF.from_file_name(\"IBIS_rmf_GRB221009A.fits\")\n",
    "\n",
    "isgri_pha_rebinned, isgri_rmf_rebinned = rebin(isgri_pha, isgri_rmf, log_bins(5, 25, 700))\n",
    "\n",
    "spi_pha_rebinned, spi_rmf_rebinned = rebin(spi_pha, spi_rmf, log_bins(3, 25, 1000))\n",
    "# spi_pha_rebinned, spi_rmf_rebinned = rebin(spi_pha, spi_rmf, log_bins(5, 25, 600))\n",
    "\n",
    "f = plt.figure(figsize=(12, 6))\n",
    "\n",
    "model = lambda x:(3e-5*(x/25.)**-1.7)\n",
    "\n",
    "plot_spec(isgri_pha_rebinned, model, isgri_rmf_rebinned, fig=f, label_prefix=\"ISGRI\")\n",
    "plot_spec(spi_pha_rebinned, model, spi_rmf_rebinned, fig=f, label_prefix=\"SPI\")\n",
    "# plot_spec(jmx1_pha, model, jmx1_rmf, arf=jmx1_arf, fig=f, label_prefix=\"JMX2\")\n",
    "plot_spec(jmx2_pha, model, jmx2_rmf, arf=jmx2_arf, fig=f, label_prefix=\"JMX2\")\n",
    "\n",
    "\n",
    "plt.ylabel(\"counts/s\")\n",
    "plt.xlabel(\"keV\")\n",
    "\n",
    "plt.xlim([1, 5e3])\n",
    "plt.ylim([1e-6, 1e4])\n",
    "# plt.loglog()\n",
    "\n",
    "plt.grid(alpha=0.5)\n",
    "\n",
    "plt.savefig(\"spec_afterglow.pdf\")\n",
    "\n",
    "# TODO: add in grey other data"
   ]
  },
  {
   "cell_type": "code",
   "execution_count": 5,
   "id": "f7d696d5",
   "metadata": {
    "execution": {
     "iopub.execute_input": "2023-01-25T21:36:12.186561Z",
     "iopub.status.busy": "2023-01-25T21:36:12.186288Z",
     "iopub.status.idle": "2023-01-25T21:36:12.190211Z",
     "shell.execute_reply": "2023-01-25T21:36:12.189348Z"
    },
    "papermill": {
     "duration": 0.010838,
     "end_time": "2023-01-25T21:36:12.192558",
     "exception": false,
     "start_time": "2023-01-25T21:36:12.181720",
     "status": "completed"
    },
    "tags": []
   },
   "outputs": [],
   "source": [
    "import numpy as np"
   ]
  },
  {
   "cell_type": "code",
   "execution_count": 6,
   "id": "0c08e4eb",
   "metadata": {
    "execution": {
     "iopub.execute_input": "2023-01-25T21:36:12.198295Z",
     "iopub.status.busy": "2023-01-25T21:36:12.197961Z",
     "iopub.status.idle": "2023-01-25T21:36:12.201957Z",
     "shell.execute_reply": "2023-01-25T21:36:12.200990Z"
    },
    "papermill": {
     "duration": 0.009497,
     "end_time": "2023-01-25T21:36:12.204359",
     "exception": false,
     "start_time": "2023-01-25T21:36:12.194862",
     "status": "completed"
    },
    "tags": [
     "outputs"
    ]
   },
   "outputs": [],
   "source": [
    "sn_max = 0 # np.max(d['RATE'] / d['STAT_ERR'])\n",
    "sn = 0 # np.max(d['RATE'] / d['STAT_ERR'])\n",
    "sn_total = 0 # np.sum(d['RATE']) / np.sum(d['STAT_ERR']**2)**0.5\n",
    "exposure = 0 # spec[2].header['EXPOSURE']\n",
    "ag_spec=\"spec_afterglow.pdf\""
   ]
  },
  {
   "cell_type": "code",
   "execution_count": 7,
   "id": "6b774ebb",
   "metadata": {
    "execution": {
     "iopub.execute_input": "2023-01-25T21:36:12.213869Z",
     "iopub.status.busy": "2023-01-25T21:36:12.213472Z",
     "iopub.status.idle": "2023-01-25T21:36:13.935941Z",
     "shell.execute_reply": "2023-01-25T21:36:13.935247Z"
    },
    "papermill": {
     "duration": 1.730054,
     "end_time": "2023-01-25T21:36:13.938283",
     "exception": false,
     "start_time": "2023-01-25T21:36:12.208229",
     "status": "completed"
    },
    "tags": [
     "injected-gather-outputs"
    ]
   },
   "outputs": [
    {
     "data": {
      "application/scrapbook.scrap.json+json": {
       "data": 0,
       "encoder": "json",
       "name": "sn_max",
       "version": 1
      }
     },
     "metadata": {
      "scrapbook": {
       "data": true,
       "display": false,
       "name": "sn_max"
      }
     },
     "output_type": "display_data"
    },
    {
     "data": {
      "application/scrapbook.scrap.json+json": {
       "data": 0,
       "encoder": "json",
       "name": "sn",
       "version": 1
      }
     },
     "metadata": {
      "scrapbook": {
       "data": true,
       "display": false,
       "name": "sn"
      }
     },
     "output_type": "display_data"
    },
    {
     "data": {
      "application/scrapbook.scrap.json+json": {
       "data": 0,
       "encoder": "json",
       "name": "sn_total",
       "version": 1
      }
     },
     "metadata": {
      "scrapbook": {
       "data": true,
       "display": false,
       "name": "sn_total"
      }
     },
     "output_type": "display_data"
    },
    {
     "data": {
      "application/scrapbook.scrap.json+json": {
       "data": 0,
       "encoder": "json",
       "name": "exposure",
       "version": 1
      }
     },
     "metadata": {
      "scrapbook": {
       "data": true,
       "display": false,
       "name": "exposure"
      }
     },
     "output_type": "display_data"
    },
    {
     "data": {
      "application/scrapbook.scrap.text+json": {
       "data": "spec_afterglow.pdf",
       "encoder": "text",
       "name": "ag_spec",
       "version": 1
      }
     },
     "metadata": {
      "scrapbook": {
       "data": true,
       "display": false,
       "name": "ag_spec"
      }
     },
     "output_type": "display_data"
    },
    {
     "data": {
      "application/scrapbook.scrap.text+json": {
       "data": "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",
       "encoder": "text",
       "name": "ag_spec_content",
       "version": 1
      }
     },
     "metadata": {
      "scrapbook": {
       "data": true,
       "display": false,
       "name": "ag_spec_content"
      }
     },
     "output_type": "display_data"
    }
   ],
   "source": [
    "\n",
    "import papermill as pm\n",
    "import scrapbook as sb\n",
    "import base64\n",
    "import json\n",
    "import os\n",
    "    \n",
    "from nb2workflow.nbadapter import denumpyfy\n",
    "from nb2workflow.json import CustomJSONEncoder\n",
    "\n",
    "\n",
    "try:\n",
    "    sb.glue(\"sn_max\",denumpyfy(sn_max))\n",
    "except Exception as e:\n",
    "    print(\"failed to glue sn_max\", sn_max)\n",
    "    print(\"will glue jsonified\")\n",
    "    sb.glue(\"sn_max\",json.dumps(denumpyfy(sn_max), cls=CustomJSONEncoder))\n",
    "\n",
    "isinstance(sn_max,str) and os.path.exists(sn_max) and sb.glue(\"sn_max_content\",base64.b64encode(open(sn_max,'rb').read()).decode())\n",
    "\n",
    "try:\n",
    "    sb.glue(\"sn\",denumpyfy(sn))\n",
    "except Exception as e:\n",
    "    print(\"failed to glue sn\", sn)\n",
    "    print(\"will glue jsonified\")\n",
    "    sb.glue(\"sn\",json.dumps(denumpyfy(sn), cls=CustomJSONEncoder))\n",
    "\n",
    "isinstance(sn,str) and os.path.exists(sn) and sb.glue(\"sn_content\",base64.b64encode(open(sn,'rb').read()).decode())\n",
    "\n",
    "try:\n",
    "    sb.glue(\"sn_total\",denumpyfy(sn_total))\n",
    "except Exception as e:\n",
    "    print(\"failed to glue sn_total\", sn_total)\n",
    "    print(\"will glue jsonified\")\n",
    "    sb.glue(\"sn_total\",json.dumps(denumpyfy(sn_total), cls=CustomJSONEncoder))\n",
    "\n",
    "isinstance(sn_total,str) and os.path.exists(sn_total) and sb.glue(\"sn_total_content\",base64.b64encode(open(sn_total,'rb').read()).decode())\n",
    "\n",
    "try:\n",
    "    sb.glue(\"exposure\",denumpyfy(exposure))\n",
    "except Exception as e:\n",
    "    print(\"failed to glue exposure\", exposure)\n",
    "    print(\"will glue jsonified\")\n",
    "    sb.glue(\"exposure\",json.dumps(denumpyfy(exposure), cls=CustomJSONEncoder))\n",
    "\n",
    "isinstance(exposure,str) and os.path.exists(exposure) and sb.glue(\"exposure_content\",base64.b64encode(open(exposure,'rb').read()).decode())\n",
    "\n",
    "try:\n",
    "    sb.glue(\"ag_spec\",denumpyfy(ag_spec))\n",
    "except Exception as e:\n",
    "    print(\"failed to glue ag_spec\", ag_spec)\n",
    "    print(\"will glue jsonified\")\n",
    "    sb.glue(\"ag_spec\",json.dumps(denumpyfy(ag_spec), cls=CustomJSONEncoder))\n",
    "\n",
    "isinstance(ag_spec,str) and os.path.exists(ag_spec) and sb.glue(\"ag_spec_content\",base64.b64encode(open(ag_spec,'rb').read()).decode())\n"
   ]
  }
 ],
 "metadata": {
  "kernelspec": {
   "display_name": "Python 3.10.6 64-bit",
   "language": "python",
   "name": "python3"
  },
  "language_info": {
   "codemirror_mode": {
    "name": "ipython",
    "version": 3
   },
   "file_extension": ".py",
   "mimetype": "text/x-python",
   "name": "python",
   "nbconvert_exporter": "python",
   "pygments_lexer": "ipython3",
   "version": "3.9.13"
  },
  "papermill": {
   "default_parameters": {},
   "duration": 6.45345,
   "end_time": "2023-01-25T21:36:14.461482",
   "environment_variables": {},
   "exception": null,
   "input_path": "/tmp/nb2w-ro8fpviw/spectrum_preproc.ipynb",
   "output_path": "/tmp/nb2w-ro8fpviw/spectrum_output.ipynb",
   "parameters": {},
   "start_time": "2023-01-25T21:36:08.008032",
   "version": "2.4.0"
  },
  "vscode": {
   "interpreter": {
    "hash": "916dbcbb3f70747c44a77c7bcd40155683ae19c65e1c03b4aa3499c5328201f1"
   }
  }
 },
 "nbformat": 4,
 "nbformat_minor": 5
}