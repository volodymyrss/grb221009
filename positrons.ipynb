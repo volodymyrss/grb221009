{
 "cells": [
  {
   "cell_type": "code",
   "execution_count": 1,
   "metadata": {},
   "outputs": [],
   "source": [
    "# from odafunction.executors import default_execute_to_value\n",
    "# from odafunction.func.urifunc import URIipynbFunction, URIValue\n",
    "\n",
    "# v = default_execute_to_value(URIipynbFunction.from_generic_uri(\"file:///home/savchenk/grb221009/grbbase.ipynb\")(focus_obs_name='r25589'), valueclass=URIValue, cached=True)"
   ]
  },
  {
   "cell_type": "code",
   "execution_count": 2,
   "metadata": {},
   "outputs": [],
   "source": [
    "import ogip.core\n",
    "\n",
    "spi_rmf = ogip.core.open_something(\"spi/rmf_GRB2rGRB2022sgrsp10aCVGRB_photo_GRB221009A_avrg.fits\")\n",
    "spi_pha = ogip.core.open_something(\"spi/spectrum_GRB2rGRB2022sgrsp10aCVGRB_photo_GRB221009A_avrg.fits\")"
   ]
  },
  {
   "cell_type": "code",
   "execution_count": 3,
   "metadata": {
    "tags": [
     "parameters"
    ]
   },
   "outputs": [],
   "source": [
    "# oda:version \"v0.1.5\""
   ]
  },
  {
   "cell_type": "code",
   "execution_count": 4,
   "metadata": {},
   "outputs": [
    {
     "data": {
      "text/plain": [
       "134228.193639351"
      ]
     },
     "execution_count": 4,
     "metadata": {},
     "output_type": "execute_result"
    }
   ],
   "source": [
    "spi_pha._exposure"
   ]
  },
  {
   "cell_type": "code",
   "execution_count": 5,
   "metadata": {},
   "outputs": [
    {
     "name": "stdout",
     "output_type": "stream",
     "text": [
      "516.25\n",
      "5.880443134031796e-10 erg / (cm2 s)\n"
     ]
    },
    {
     "data": {
      "text/latex": [
       "$3.9503218 \\times 10^{46} \\; \\mathrm{\\frac{erg}{s}}$"
      ],
      "text/plain": [
       "<Quantity 3.95032179e+46 erg / s>"
      ]
     },
     "execution_count": 5,
     "metadata": {},
     "output_type": "execute_result"
    }
   ],
   "source": [
    "import numpy as np\n",
    "from astropy import units as u\n",
    "\n",
    "print(spi_rmf._e_min[6])\n",
    "\n",
    "# provided a redshift of z = 0.151 (de Ugarte Postigo et al.\n",
    "# 2022; Castro-Tirado et al. 2022; Izzo et al. 2022), corre-\n",
    "# sponding to a distance of 749.3 Mpc\n",
    "\n",
    "D = 749.3 * u.Mpc\n",
    "\n",
    "\n",
    "ul_3s = spi_rmf._e_min[6] * u.keV * (spi_pha._rate[6] + spi_pha._stat_err[6]*3) / u.s / (spi_rmf._matrix[6,:].sum()*u.cm**2)\n",
    "\n",
    "print(ul_3s.to(u.erg/u.cm**2/u.s))\n",
    "\n",
    "L_ul = ul_3s * D**2*4*np.pi\n",
    "\n",
    "L_ul.to(u.erg/u.s)"
   ]
  },
  {
   "cell_type": "code",
   "execution_count": 6,
   "metadata": {},
   "outputs": [
    {
     "data": {
      "text/plain": [
       "0.0029670775924004198"
      ]
     },
     "execution_count": 6,
     "metadata": {},
     "output_type": "execute_result"
    }
   ],
   "source": [
    "from astropy import constants as const\n",
    "\n",
    "ul_positrons_msun_s = (L_ul / (const.m_e * const.c**2)) * const.m_e / const.M_sun\n",
    "ul_positrons_msun = spi_pha._exposure * ul_positrons_msun_s * u.s\n",
    "\n",
    "float(ul_positrons_msun)"
   ]
  },
  {
   "cell_type": "code",
   "execution_count": 7,
   "metadata": {
    "tags": [
     "outputs"
    ]
   },
   "outputs": [],
   "source": [
    "ul_3s_ecs = ul_3s.to(u.erg/u.cm**2/u.s).value\n",
    "ul_L_511keV = L_ul.to(u.erg/u.s).value\n",
    "ul_positrons_msun_s = ul_positrons_msun_s.to(u.s**-1).value\n",
    "ul_positrons_msun = float(ul_positrons_msun)"
   ]
  }
 ],
 "metadata": {
  "kernelspec": {
   "display_name": "base",
   "language": "python",
   "name": "python3"
  },
  "language_info": {
   "codemirror_mode": {
    "name": "ipython",
    "version": 3
   },
   "file_extension": ".py",
   "mimetype": "text/x-python",
   "name": "python",
   "nbconvert_exporter": "python",
   "pygments_lexer": "ipython3",
   "version": "3.9.13"
  },
  "orig_nbformat": 4,
  "vscode": {
   "interpreter": {
    "hash": "1892832a55cb9b21d693a1e0afb7563f6ad424a1b7b3da21728b3ea0874fe733"
   }
  }
 },
 "nbformat": 4,
 "nbformat_minor": 2
}
