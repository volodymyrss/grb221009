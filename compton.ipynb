{
 "cells": [
  {
   "cell_type": "code",
   "execution_count": 1,
   "id": "320ddc38",
   "metadata": {},
   "outputs": [
    {
     "name": "stderr",
     "output_type": "stream",
     "text": [
      "WARNING:root:please import oda_api.tools.plot instead of oda_api.plot_tools\n"
     ]
    }
   ],
   "source": [
    "# ! pip install --upgrade pip\n",
    "# ! pip install --upgrade git+https://github.com/oda-hub/oda_api@request-list pandas\n",
    "# ! pip install linked-data-latex\n",
    "# ! pip install ruamel.yaml\n",
    "# ! pip install pymosaic-fits\n",
    "\n",
    "\n",
    "import oda_api.api\n",
    "import oda_api.token\n",
    "import oda_api.plot_tools\n",
    "import requests\n",
    "import logging\n",
    "from matplotlib import pylab as plt\n",
    "from astropy.coordinates import SkyCoord\n",
    "from astropy import units as u\n",
    "from astropy.time import Time\n",
    "import pandas as pd\n",
    "import numpy as np\n",
    "from ddpaper.draftdata import DraftData\n",
    "import io\n",
    "\n",
    "# https://gcn.gsfc.nasa.gov/gcn3/32634.gcn3"
   ]
  },
  {
   "cell_type": "code",
   "execution_count": 2,
   "id": "eef3d765",
   "metadata": {
    "tags": [
     "parameters"
    ]
   },
   "outputs": [],
   "source": [
    "# oda:version \"dev1.1\""
   ]
  },
  {
   "cell_type": "code",
   "execution_count": 3,
   "id": "c1126769",
   "metadata": {},
   "outputs": [],
   "source": [
    "# #slightly more verbose\n",
    "logging.getLogger().setLevel(logging.INFO)\n",
    "# #all messages\n",
    "#logging.getLogger().setLevel(logging.DEBUG)\n",
    "\n",
    "logging.getLogger('oda_api').addHandler(logging.StreamHandler())"
   ]
  },
  {
   "cell_type": "code",
   "execution_count": 4,
   "id": "3d01be61",
   "metadata": {},
   "outputs": [],
   "source": [
    "# 120711 https://www.aanda.org/articles/aa/pdf/2014/07/aa20872-12.pdf\n",
    "# https://www.cosmos.esa.int/web/integral/schedule-information"
   ]
  },
  {
   "cell_type": "code",
   "execution_count": 5,
   "id": "9c1ce92c",
   "metadata": {},
   "outputs": [],
   "source": [
    "from matplotlib import pylab as plt\n",
    "from astropy.coordinates import SkyCoord\n",
    "from astropy import units as u\n",
    "from astropy.time import Time\n",
    "import pandas as pd\n",
    "import numpy as np"
   ]
  },
  {
   "cell_type": "code",
   "execution_count": 6,
   "id": "58749051",
   "metadata": {},
   "outputs": [],
   "source": [
    "T0_isot = \"2022-10-09T13:17:00\"\n",
    "T0_ijd = Time(T0_isot).mjd - 51544\n"
   ]
  },
  {
   "cell_type": "code",
   "execution_count": 7,
   "id": "5bc8bd6f",
   "metadata": {},
   "outputs": [],
   "source": [
    "acslc_r = requests.get(f\"https://www.astro.unige.ch/cdci/astrooda/dispatch-data/gw//integralhk/api/v1.0/genlc/ACS/{T0_ijd}/2000\")\n",
    "import pandas as pd\n",
    "import io\n",
    "\n",
    "acslc = pd.read_csv(io.StringIO(acslc_r.text), skiprows=5, names=['t', 'dt', 'c', 'ds'], delim_whitespace=True)\n",
    "acslc"
   ]
  },
  {
   "cell_type": "code",
   "execution_count": null,
   "id": "16d8c338",
   "metadata": {},
   "outputs": [],
   "source": [
    "src_coord = SkyCoord(\"19h 13m 03.43s\", \"+19d 46m 23.1s\", unit=u.deg)\n",
    "source_name = \"GRB221009A\"\n",
    "src_coord"
   ]
  },
  {
   "cell_type": "code",
   "execution_count": null,
   "id": "3e6bfbf9",
   "metadata": {},
   "outputs": [],
   "source": [
    "import subprocess\n",
    "import io\n",
    "\n",
    "def sshopen(fn):\n",
    "    f = io.BytesIO(subprocess.check_output(f\"ssh login01.astro.unige.ch tar cf - {fn} | tar xf - -O\", shell=True))\n",
    "    cfn = fn.replace(\"/\", \"_\")\n",
    "    with open(cfn, \"wb\") as F:\n",
    "        F.write(f.read())\n",
    "    return fits.open(cfn)\n",
    "\n",
    "sshopen(\"/isdc/pvphase/nrt/ops/scw/2558/255800290010.000/compton_events.fits.gz\")\n"
   ]
  },
  {
   "cell_type": "code",
   "execution_count": null,
   "id": "2235e5d6",
   "metadata": {},
   "outputs": [],
   "source": [
    "mce = dict()\n",
    "\n",
    "for i in range(8):\n",
    "    mce[i] = pd.read_csv(\n",
    "        io.StringIO(requests.get(f\"https://www.astro.unige.ch/mmoda/dispatch-data/gw/integralhk/api/v1.0/genlc/ISGRIRAW_MCE{i}/{T0_ijd}/2000\").text), \n",
    "        skiprows=5, names=['t', 'dt', 'c', 'ds'], delim_whitespace=True)\n",
    "\n",
    "\n",
    "np.sum([mce[i].c for i in range(8)], axis=0)"
   ]
  },
  {
   "cell_type": "code",
   "execution_count": null,
   "id": "0250a47c",
   "metadata": {},
   "outputs": [],
   "source": [
    "T0_ijd"
   ]
  },
  {
   "cell_type": "code",
   "execution_count": null,
   "id": "d0f69da8",
   "metadata": {},
   "outputs": [],
   "source": [
    "scw_dict_prompt = pd.DataFrame(requests.get(f\"https://www.astro.unige.ch/mmoda/dispatch-data/gw/timesystem/api/v1.0/scwlist/cons/{T0_ijd-500/24/3600}/{T0_ijd+2000/24/3600}?\"\n",
    "             f\"ra={src_coord.ra.deg}&dec={src_coord.dec.deg}&radius=200&return_columns=SWID,SW_TYPE,TELAPSE,TSTART,TSTOP\").json())\n"
   ]
  },
  {
   "cell_type": "code",
   "execution_count": null,
   "id": "caaf8a25",
   "metadata": {},
   "outputs": [],
   "source": [
    "# https://heasarc.gsfc.nasa.gov/docs/integral/ao19-docs-b/AO19_recommended_programme.pdf"
   ]
  },
  {
   "cell_type": "code",
   "execution_count": null,
   "id": "17a2b735",
   "metadata": {},
   "outputs": [],
   "source": [
    "plt.figure(figsize=(16, 6))\n",
    "\n",
    "from collections import defaultdict\n",
    "\n",
    "hs_by_et = defaultdict(list)\n",
    "cs_by_et = defaultdict(list)\n",
    "\n",
    "compton_event_file = {}\n",
    "isgri_event_file = {}\n",
    "\n",
    "\n",
    "for i, r in scw_dict_prompt.iterrows():\n",
    "    scwid = r.SWID\n",
    "\n",
    "    compton_event_file[scwid]  = sshopen(f\"/isdc/pvphase/nrt/ops/scw/{scwid[:4]}/{scwid}.000/compton_events.fits.gz\")\n",
    "    isgri_event_file[scwid]  = sshopen(f\"/isdc/pvphase/nrt/ops/scw/{scwid[:4]}/{scwid}.000/isgri_events.fits.gz\")    \n",
    "\n",
    "    for C, color, ext, norm in [\n",
    "                    # (isgri_event_file, 'y', \"ISGR-EVTS-ALL\", 1),\n",
    "                    (compton_event_file, 'g', \"COMP-MULE-ALL\", 1),\n",
    "                    (compton_event_file, 'r', 'COMP-SGLE-ALL', 1)\n",
    "                ]:\n",
    "        c = C[scwid]\n",
    "\n",
    "        label=ext + \" \" + scwid\n",
    "    \n",
    "\n",
    "        T = c[ext].data['TIME']\n",
    "\n",
    "        Ei = 0\n",
    "        Ep = 0\n",
    "\n",
    "        try:\n",
    "            Ei = c[ext].data['ISGRI_ENERGY']            \n",
    "        except:\n",
    "            pass\n",
    "        \n",
    "        try:\n",
    "            Ep = c[ext].data['PICSIT_ENERGY']\n",
    "        except:\n",
    "            pass\n",
    "\n",
    "        Ec = Ei + Ep\n",
    "\n",
    "        ijd2plot = lambda T: (T - T0_ijd)*24*3600\n",
    "\n",
    "        if ijd2plot(r.TSTART) > -100:\n",
    "            plt.axvline(\n",
    "                ijd2plot(r.TSTART), ls=\"--\",\n",
    "            )\n",
    "            plt.axvline(\n",
    "                ijd2plot(r.TSTOP), ls=\"--\",\n",
    "            )\n",
    "\n",
    "            plt.text(ijd2plot(r.TSTART), 10000, f\"{scwid[6:8]}\\n{scwid[10:12]}\")\n",
    "            # plt.text(ijd2plot(r.TSTART), 4000, scwid, rotation=90)\n",
    "\n",
    "\n",
    "        # plt.axvspan(\n",
    "        #     ijd2plot(r.TSTART),\n",
    "        #     ijd2plot(r.TSTOP),\n",
    "        #     alpha=0.2,\n",
    "        #     color='red'\n",
    "        # )\n",
    "    \n",
    "        h = np.histogram(ijd2plot(T), bins=1000)\n",
    "        c = (h[1][1:] + h[1][:-1]) / 2.\n",
    "\n",
    "        hs = hs_by_et[ext]\n",
    "        cs = cs_by_et[ext]\n",
    "\n",
    "        hs.append(h[0])\n",
    "        cs.append(c)\n",
    "\n",
    "        label = None\n",
    "\n",
    "for ext in hs_by_et:\n",
    "    hs = hs_by_et[ext]\n",
    "    cs = cs_by_et[ext]\n",
    "\n",
    "    h = np.concatenate(hs)\n",
    "    c = np.concatenate(cs)\n",
    "\n",
    "    scale = {\"ISGR-EVTS-ALL\": 10,\n",
    "             \"COMP-MULE-ALL\": 50,\n",
    "             'COMP-SGLE-ALL': 10 }[ext]\n",
    "\n",
    "\n",
    "    b = np.mean(h[(c < 200) & (c > 0)])\n",
    "    plt.step(c, (h - b)*scale, alpha=0.8, label=ext)\n",
    "    \n",
    "\n",
    "b = np.mean(acslc.c[(acslc.t- T0_ijd)*24*3600 < 200])\n",
    "plt.step((acslc.t- T0_ijd)*24*3600, (acslc.c - b)/2, label=\"SPI-ACS\")\n",
    "\n",
    "isgri_raw_total_rate = np.sum([mce[i].c for i in range(8)], axis=0 )\n",
    "b = np.mean(isgri_raw_total_rate[(mce[0].t- T0_ijd)*24*3600 < 200])\n",
    "plt.step((mce[0].t- T0_ijd)*24*3600, isgri_raw_total_rate - b, label=\"ISGRI RAW rate\", where='post')\n",
    "\n",
    "\n",
    "plt.legend()\n",
    "plt.xlabel(f\"seconds since {T0_isot}\")\n",
    "plt.xlim([0, 1000])\n",
    "plt.savefig(\"figs/compton.pdf\")\n"
   ]
  }
 ],
 "metadata": {
  "kernelspec": {
   "display_name": "Python 3.10.6 64-bit",
   "language": "python",
   "name": "python3"
  },
  "language_info": {
   "codemirror_mode": {
    "name": "ipython",
    "version": 3
   },
   "file_extension": ".py",
   "mimetype": "text/x-python",
   "name": "python",
   "nbconvert_exporter": "python",
   "pygments_lexer": "ipython3",
   "version": "3.10.6"
  },
  "vscode": {
   "interpreter": {
    "hash": "916dbcbb3f70747c44a77c7bcd40155683ae19c65e1c03b4aa3499c5328201f1"
   }
  }
 },
 "nbformat": 4,
 "nbformat_minor": 5
}
