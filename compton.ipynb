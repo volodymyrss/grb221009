{
 "cells": [
  {
   "cell_type": "code",
   "execution_count": 20,
   "id": "320ddc38",
   "metadata": {},
   "outputs": [],
   "source": [
    "# ! pip install --upgrade pip\n",
    "# ! pip install --upgrade git+https://github.com/oda-hub/oda_api@request-list pandas\n",
    "# ! pip install linked-data-latex\n",
    "# ! pip install ruamel.yaml\n",
    "# ! pip install pymosaic-fits\n",
    "\n",
    "\n",
    "import oda_api.api\n",
    "import oda_api.token\n",
    "import oda_api.plot_tools\n",
    "import requests\n",
    "import logging\n",
    "from matplotlib import pylab as plt\n",
    "from astropy.coordinates import SkyCoord\n",
    "from astropy import units as u\n",
    "from astropy.time import Time\n",
    "import pandas as pd\n",
    "import numpy as np\n",
    "from ddpaper.draftdata import DraftData\n",
    "import io\n",
    "\n",
    "# https://gcn.gsfc.nasa.gov/gcn3/32634.gcn3"
   ]
  },
  {
   "cell_type": "code",
   "execution_count": 21,
   "id": "eef3d765",
   "metadata": {
    "tags": [
     "parameters"
    ]
   },
   "outputs": [],
   "source": [
    "# oda:version \"dev1.3\""
   ]
  },
  {
   "cell_type": "code",
   "execution_count": 22,
   "id": "c1126769",
   "metadata": {},
   "outputs": [],
   "source": [
    "# #slightly more verbose\n",
    "logging.getLogger().setLevel(logging.INFO)\n",
    "# #all messages\n",
    "#logging.getLogger().setLevel(logging.DEBUG)\n",
    "\n",
    "logging.getLogger('oda_api').addHandler(logging.StreamHandler())"
   ]
  },
  {
   "cell_type": "code",
   "execution_count": 23,
   "id": "3d01be61",
   "metadata": {},
   "outputs": [],
   "source": [
    "# 120711 https://www.aanda.org/articles/aa/pdf/2014/07/aa20872-12.pdf\n",
    "# https://www.cosmos.esa.int/web/integral/schedule-information"
   ]
  },
  {
   "cell_type": "code",
   "execution_count": 24,
   "id": "9c1ce92c",
   "metadata": {},
   "outputs": [],
   "source": [
    "from matplotlib import pylab as plt\n",
    "from astropy.coordinates import SkyCoord\n",
    "from astropy import units as u\n",
    "from astropy.time import Time\n",
    "import pandas as pd\n",
    "import numpy as np"
   ]
  },
  {
   "cell_type": "code",
   "execution_count": 25,
   "id": "58749051",
   "metadata": {},
   "outputs": [],
   "source": [
    "T0_isot = \"2022-10-09T13:17:00\"\n",
    "T0_ijd = Time(T0_isot).mjd - 51544\n"
   ]
  },
  {
   "cell_type": "code",
   "execution_count": 26,
   "id": "5bc8bd6f",
   "metadata": {},
   "outputs": [
    {
     "data": {
      "text/html": [
       "<div>\n",
       "<style scoped>\n",
       "    .dataframe tbody tr th:only-of-type {\n",
       "        vertical-align: middle;\n",
       "    }\n",
       "\n",
       "    .dataframe tbody tr th {\n",
       "        vertical-align: top;\n",
       "    }\n",
       "\n",
       "    .dataframe thead th {\n",
       "        text-align: right;\n",
       "    }\n",
       "</style>\n",
       "<table border=\"1\" class=\"dataframe\">\n",
       "  <thead>\n",
       "    <tr style=\"text-align: right;\">\n",
       "      <th></th>\n",
       "      <th>t</th>\n",
       "      <th>dt</th>\n",
       "      <th>c</th>\n",
       "      <th>ds</th>\n",
       "    </tr>\n",
       "  </thead>\n",
       "  <tbody>\n",
       "    <tr>\n",
       "      <th>0</th>\n",
       "      <td>8317.530324</td>\n",
       "      <td>0.035319</td>\n",
       "      <td>5258.0</td>\n",
       "      <td>45750.851319</td>\n",
       "    </tr>\n",
       "    <tr>\n",
       "      <th>1</th>\n",
       "      <td>8317.530325</td>\n",
       "      <td>0.085318</td>\n",
       "      <td>5296.0</td>\n",
       "      <td>45750.901318</td>\n",
       "    </tr>\n",
       "    <tr>\n",
       "      <th>2</th>\n",
       "      <td>8317.530326</td>\n",
       "      <td>0.135319</td>\n",
       "      <td>5274.0</td>\n",
       "      <td>45750.951319</td>\n",
       "    </tr>\n",
       "    <tr>\n",
       "      <th>3</th>\n",
       "      <td>8317.530326</td>\n",
       "      <td>0.185319</td>\n",
       "      <td>5270.0</td>\n",
       "      <td>45751.001318</td>\n",
       "    </tr>\n",
       "    <tr>\n",
       "      <th>4</th>\n",
       "      <td>8317.530327</td>\n",
       "      <td>0.235318</td>\n",
       "      <td>5248.0</td>\n",
       "      <td>45751.051318</td>\n",
       "    </tr>\n",
       "    <tr>\n",
       "      <th>...</th>\n",
       "      <td>...</td>\n",
       "      <td>...</td>\n",
       "      <td>...</td>\n",
       "      <td>...</td>\n",
       "    </tr>\n",
       "    <tr>\n",
       "      <th>79995</th>\n",
       "      <td>8317.576618</td>\n",
       "      <td>3999.787994</td>\n",
       "      <td>5336.0</td>\n",
       "      <td>49750.603994</td>\n",
       "    </tr>\n",
       "    <tr>\n",
       "      <th>79996</th>\n",
       "      <td>8317.576618</td>\n",
       "      <td>3999.837995</td>\n",
       "      <td>5348.0</td>\n",
       "      <td>49750.653995</td>\n",
       "    </tr>\n",
       "    <tr>\n",
       "      <th>79997</th>\n",
       "      <td>8317.576619</td>\n",
       "      <td>3999.887997</td>\n",
       "      <td>5396.0</td>\n",
       "      <td>49750.703996</td>\n",
       "    </tr>\n",
       "    <tr>\n",
       "      <th>79998</th>\n",
       "      <td>8317.576620</td>\n",
       "      <td>3999.937996</td>\n",
       "      <td>5444.0</td>\n",
       "      <td>49750.753996</td>\n",
       "    </tr>\n",
       "    <tr>\n",
       "      <th>79999</th>\n",
       "      <td>8317.576620</td>\n",
       "      <td>3999.987995</td>\n",
       "      <td>5392.0</td>\n",
       "      <td>49750.803995</td>\n",
       "    </tr>\n",
       "  </tbody>\n",
       "</table>\n",
       "<p>80000 rows × 4 columns</p>\n",
       "</div>"
      ],
      "text/plain": [
       "                 t           dt       c            ds\n",
       "0      8317.530324     0.035319  5258.0  45750.851319\n",
       "1      8317.530325     0.085318  5296.0  45750.901318\n",
       "2      8317.530326     0.135319  5274.0  45750.951319\n",
       "3      8317.530326     0.185319  5270.0  45751.001318\n",
       "4      8317.530327     0.235318  5248.0  45751.051318\n",
       "...            ...          ...     ...           ...\n",
       "79995  8317.576618  3999.787994  5336.0  49750.603994\n",
       "79996  8317.576618  3999.837995  5348.0  49750.653995\n",
       "79997  8317.576619  3999.887997  5396.0  49750.703996\n",
       "79998  8317.576620  3999.937996  5444.0  49750.753996\n",
       "79999  8317.576620  3999.987995  5392.0  49750.803995\n",
       "\n",
       "[80000 rows x 4 columns]"
      ]
     },
     "execution_count": 26,
     "metadata": {},
     "output_type": "execute_result"
    }
   ],
   "source": [
    "acslc_r = requests.get(f\"https://www.astro.unige.ch/cdci/astrooda/dispatch-data/gw//integralhk/api/v1.0/genlc/ACS/{T0_ijd}/2000\")\n",
    "import pandas as pd\n",
    "import io\n",
    "\n",
    "acslc = pd.read_csv(io.StringIO(acslc_r.text), skiprows=5, names=['t', 'dt', 'c', 'ds'], delim_whitespace=True)\n",
    "acslc"
   ]
  },
  {
   "cell_type": "code",
   "execution_count": 27,
   "id": "16d8c338",
   "metadata": {},
   "outputs": [
    {
     "data": {
      "text/plain": [
       "<SkyCoord (ICRS): (ra, dec) in deg\n",
       "    (288.26429167, 19.77308333)>"
      ]
     },
     "execution_count": 27,
     "metadata": {},
     "output_type": "execute_result"
    }
   ],
   "source": [
    "src_coord = SkyCoord(\"19h 13m 03.43s\", \"+19d 46m 23.1s\", unit=u.deg)\n",
    "source_name = \"GRB221009A\"\n",
    "src_coord"
   ]
  },
  {
   "cell_type": "code",
   "execution_count": 28,
   "id": "3e6bfbf9",
   "metadata": {},
   "outputs": [
    {
     "data": {
      "text/plain": [
       "[<astropy.io.fits.hdu.image.PrimaryHDU object at 0x7f0753223790>, <astropy.io.fits.hdu.table.BinTableHDU object at 0x7f07534fce80>, <astropy.io.fits.hdu.table.BinTableHDU object at 0x7f07534fd600>, <astropy.io.fits.hdu.table.BinTableHDU object at 0x7f07534ff0a0>, <astropy.io.fits.hdu.table.BinTableHDU object at 0x7f07534fc520>]"
      ]
     },
     "execution_count": 28,
     "metadata": {},
     "output_type": "execute_result"
    }
   ],
   "source": [
    "import subprocess\n",
    "import io\n",
    "import pathlib\n",
    "from astropy.io import fits\n",
    "\n",
    "def sshopen(fn):\n",
    "    cfn = pathlib.Path(fn.replace(\"/\", \"_\"))\n",
    "\n",
    "    try:\n",
    "        of = fits.open(cfn)\n",
    "    except:\n",
    "        f = io.BytesIO(subprocess.check_output(f\"ssh login01.astro.unige.ch tar cf - {fn} | tar xf - -O\", shell=True))\n",
    "\n",
    "        with open(cfn, \"wb\") as F:\n",
    "            F.write(f.read())\n",
    "        \n",
    "        of = fits.open(cfn)\n",
    "    return of\n",
    "\n",
    "sshopen(\"/isdc/pvphase/nrt/ops/scw/2558/255800290010.000/compton_events.fits.gz\")\n"
   ]
  },
  {
   "cell_type": "code",
   "execution_count": 29,
   "id": "2235e5d6",
   "metadata": {},
   "outputs": [
    {
     "data": {
      "text/plain": [
       "array([ 9415,  9883,  9448,  9529,  9309,  9424,  9472,  9541,  9340,\n",
       "        9336,  9440,  9537,  9647,  9754,  9141,  9648,  9541,  9725,\n",
       "        9699,  9358,  9424,  9764,  9644,  9488,  9863,  9245,  9707,\n",
       "        9493,  9439,  9272,  9721,  9415,  9675,  9513,  9529,  9594,\n",
       "        9595,  9685,  9676,  9536,  9475,  9712,  9637,  9698,  9512,\n",
       "        9254,  9673,  9494,  9036,  9330,  9569,  9582,  9395,  9581,\n",
       "        9548,  9421,  9713,  9508,  9503,  9407,  9224,  9554,  9304,\n",
       "        9628,  9675,  9372,  9321,  9597,  9638,  9568,  9752,  9647,\n",
       "        9439,  9573,  9051,  9421,  9577,  9672,  9526,  9739,  9564,\n",
       "        9940,  9745,  9983,  9471,  9345,  9765,  9280,  9587,  9450,\n",
       "        9353,  9450,  9621,  9361,  9671,  9640,  9501,  9377,  9721,\n",
       "        9436,  9750,  9268,  9558,  9442,  9689,  9697,  9702,  9545,\n",
       "        9362,  9237,  9692,  9286,  9279,  9410,  9556,  9734,  9758,\n",
       "        9535,  9754,  9407,  9683,  9663,  9979,  9456,  9491, 10137,\n",
       "        9468,  9560,  9520,  9511,  9332,  9185,  9599,  9489,  9619,\n",
       "        9482,  9545,  9540,  9659,  9442,  9759,  9461,  9639,  9395,\n",
       "        9235,  9495,  9238,  9468,  9393,  9389,  9626,  9558,  9190,\n",
       "        9294,  9664,  9278,  9447,  9342,  9075,  9527,  9600,  9563,\n",
       "        9333,  9608,  9621,  9742,  9371,  9564,  9424,  9410,  9604,\n",
       "        9496,  9293,  9330,  9678,  9339,  9687,  9566,  9595,  9467,\n",
       "        9585,  9685,  9853,  9468,  9575,  9807,  9459,  9686,  9699,\n",
       "        9585,  9283,  9475,  9581,  9221,  9573,  9545,  9533,  9342,\n",
       "        9240,  9695,  9567,  9446,  9247,  9432,  9914,  9678,  9567,\n",
       "        9360,  9596,  9301,  9365,  9408,  9249,  9647,  9659,  9701,\n",
       "        9614,  9745,  9562,  9476,  9468,  9300,  9864,  9723,  8030,\n",
       "        8172,  8206,  7992,  8314,  8126,  8404,  8367,  8492,  8380,\n",
       "        8177,  8277,  8141,  8176,  8195,  8597,  8491,  8233,  8409,\n",
       "        8763,  8468,  8444,  8896,  8270,  8369,  8354,  8280,  9131,\n",
       "        9423,  9633,  9704,  9578,  9631,  9464, 10110,  9484,  9360,\n",
       "        9774,  9469,  9217,  9547,  9455,  9342,  9608,  9545,  9256,\n",
       "        9540,  9455,  9863,  9456,  9240,  9605,  9231,  9434,  9456,\n",
       "        9640,  9817, 12497, 15201, 11647, 10501, 17610, 54933, 65860,\n",
       "       48323, 25013, 47820, 60712, 28622, 19491, 15016, 11544, 10760,\n",
       "       10557,  9940, 10238, 10009, 10381,  9938, 10103,  9731,  9876,\n",
       "       10155, 11093, 11212, 11149, 10554, 10474, 10709, 10685, 11151,\n",
       "       11944, 11625, 13639, 11385, 12036, 11998, 15565, 27388, 16624,\n",
       "       15170, 12921, 11879, 11279, 11286, 11779, 11560, 11333, 10879,\n",
       "       10069,  9941,  9959,  9999,  9908,  9888,  9751,  9506,  9645,\n",
       "        9636,  9596,  9400,  9714,  9676,  9732,  9724,  9359, 10054,\n",
       "        9560,  9593,  9629,  9679,  9556,  9562,  9531,  9308,  9501,\n",
       "        9423,  9504,  9464,  9821,  9493,  9726,  9856,  9730,  9452,\n",
       "        9640,  9770,  9959,  9418,  9748,  9548,  9645,  9913,  9870,\n",
       "        9586,  9574,  9707,  9881,  9660,  9574,  9232,  9902,  9704,\n",
       "        9463,  9553, 10090,  9538,  9503,  9489,  9590,  9670,  9668,\n",
       "        9632,  9648,  9602,  9897,  9823,  9633,  9650,  9409,  9729,\n",
       "        9632,  9214,  9332,  9653,  9361,  9407,  9385,  9808,  9427,\n",
       "        9347,  9408,  9630,  9399,  9642,  9750, 10015,  9376,  9547,\n",
       "        9402,  9734,  9631,  9730,  9652,  9602,  9530,  9721,  9597,\n",
       "        9633,  9687,  9655,  9739,  9707,  9701,  9699,  9723,  9719,\n",
       "        9579,  9909,  9342,  9633,  9521,  9634,  9504,  9870,  9716,\n",
       "        9441,  9465,  9476,  9662,  9739,  9503,  9489,  9709,  9848,\n",
       "        9397,  9614,  9427,  9718,  9629,  9354,  9620,  9496,  9277,\n",
       "        9634,  9624,  9629,  9804,  9667,  9550,  9809,  9819,  9348,\n",
       "        9629,  9575,  9480,  9551,  9422,  9183,  9521,  9831,  9478,\n",
       "        9665,  9635,  9696,  9517,  9743,  9325,  9660,  9379,  9544,\n",
       "        9848,  9334,  9744,  9517,  9607])"
      ]
     },
     "execution_count": 29,
     "metadata": {},
     "output_type": "execute_result"
    }
   ],
   "source": [
    "mce = dict()\n",
    "\n",
    "for i in range(8):\n",
    "    mce[i] = pd.read_csv(\n",
    "        io.StringIO(requests.get(f\"https://www.astro.unige.ch/mmoda/dispatch-data/gw/integralhk/api/v1.0/genlc/ISGRIRAW_MCE{i}/{T0_ijd}/2000\").text), \n",
    "        skiprows=5, names=['t', 'dt', 'c', 'ds'], delim_whitespace=True)\n",
    "\n",
    "\n",
    "np.sum([mce[i].c for i in range(8)], axis=0)"
   ]
  },
  {
   "cell_type": "code",
   "execution_count": 30,
   "id": "0250a47c",
   "metadata": {},
   "outputs": [
    {
     "data": {
      "text/plain": [
       "8317.553472222222"
      ]
     },
     "execution_count": 30,
     "metadata": {},
     "output_type": "execute_result"
    }
   ],
   "source": [
    "T0_ijd"
   ]
  },
  {
   "cell_type": "code",
   "execution_count": 31,
   "id": "d0f69da8",
   "metadata": {},
   "outputs": [],
   "source": [
    "scw_dict_prompt = pd.DataFrame(requests.get(f\"https://www.astro.unige.ch/mmoda/dispatch-data/gw/timesystem/api/v1.0/scwlist/cons/{T0_ijd-500/24/3600}/{T0_ijd+2000/24/3600}?\"\n",
    "             f\"ra={src_coord.ra.deg}&dec={src_coord.dec.deg}&radius=200&return_columns=SWID,SW_TYPE,TELAPSE,TSTART,TSTOP\").json())\n"
   ]
  },
  {
   "cell_type": "code",
   "execution_count": 32,
   "id": "caaf8a25",
   "metadata": {},
   "outputs": [],
   "source": [
    "# https://heasarc.gsfc.nasa.gov/docs/integral/ao19-docs-b/AO19_recommended_programme.pdf"
   ]
  },
  {
   "cell_type": "code",
   "execution_count": 33,
   "id": "17a2b735",
   "metadata": {},
   "outputs": [
    {
     "data": {
      "image/png": "[encoded data removed]",
      "text/plain": [
       "<Figure size 1600x600 with 1 Axes>"
      ]
     },
     "metadata": {},
     "output_type": "display_data"
    }
   ],
   "source": [
    "plt.figure(figsize=(16, 6))\n",
    "\n",
    "from collections import defaultdict\n",
    "\n",
    "hs_by_et = defaultdict(list)\n",
    "cs_by_et = defaultdict(list)\n",
    "\n",
    "compton_event_file = {}\n",
    "isgri_event_file = {}\n",
    "\n",
    "\n",
    "for i, r in scw_dict_prompt.iterrows():\n",
    "    scwid = r.SWID\n",
    "\n",
    "    compton_event_file[scwid]  = sshopen(f\"/isdc/pvphase/nrt/ops/scw/{scwid[:4]}/{scwid}.000/compton_events.fits.gz\")\n",
    "    isgri_event_file[scwid]  = sshopen(f\"/isdc/pvphase/nrt/ops/scw/{scwid[:4]}/{scwid}.000/isgri_events.fits.gz\")    \n",
    "\n",
    "    for C, color, ext, norm in [\n",
    "                    # (isgri_event_file, 'y', \"ISGR-EVTS-ALL\", 1),\n",
    "                    (compton_event_file, 'g', \"COMP-MULE-ALL\", 1),\n",
    "                    (compton_event_file, 'r', 'COMP-SGLE-ALL', 1)\n",
    "                ]:\n",
    "        c = C[scwid]\n",
    "\n",
    "        label=ext + \" \" + scwid\n",
    "    \n",
    "\n",
    "        T = c[ext].data['TIME']\n",
    "\n",
    "        Ei = 0\n",
    "        Ep = 0\n",
    "\n",
    "        try:\n",
    "            Ei = c[ext].data['ISGRI_ENERGY']            \n",
    "        except:\n",
    "            pass\n",
    "        \n",
    "        try:\n",
    "            Ep = c[ext].data['PICSIT_ENERGY']\n",
    "        except:\n",
    "            pass\n",
    "\n",
    "        Ec = Ei + Ep\n",
    "\n",
    "        ijd2plot = lambda T: (T - T0_ijd)*24*3600\n",
    "\n",
    "        if ijd2plot(r.TSTART) > -100:\n",
    "            plt.axvline(\n",
    "                ijd2plot(r.TSTART), ls=\"--\",\n",
    "            )\n",
    "            plt.axvline(\n",
    "                ijd2plot(r.TSTOP), ls=\"--\",\n",
    "            )\n",
    "\n",
    "            plt.text(ijd2plot(r.TSTART), 10000, f\"{scwid[6:8]}\\n{scwid[10:12]}\")\n",
    "            # plt.text(ijd2plot(r.TSTART), 4000, scwid, rotation=90)\n",
    "\n",
    "\n",
    "        # plt.axvspan(\n",
    "        #     ijd2plot(r.TSTART),\n",
    "        #     ijd2plot(r.TSTOP),\n",
    "        #     alpha=0.2,\n",
    "        #     color='red'\n",
    "        # )\n",
    "    \n",
    "        h = np.histogram(ijd2plot(T), bins=1000)\n",
    "        c = (h[1][1:] + h[1][:-1]) / 2.\n",
    "\n",
    "        hs = hs_by_et[ext]\n",
    "        cs = cs_by_et[ext]\n",
    "\n",
    "        hs.append(h[0])\n",
    "        cs.append(c)\n",
    "\n",
    "        label = None\n",
    "\n",
    "for ext in hs_by_et:\n",
    "    hs = hs_by_et[ext]\n",
    "    cs = cs_by_et[ext]\n",
    "\n",
    "    h = np.concatenate(hs)\n",
    "    c = np.concatenate(cs)\n",
    "\n",
    "    scale = {\"ISGR-EVTS-ALL\": 10,\n",
    "             \"COMP-MULE-ALL\": 50,\n",
    "             'COMP-SGLE-ALL': 10 }[ext]\n",
    "\n",
    "\n",
    "    b = np.mean(h[(c < 200) & (c > 0)])\n",
    "    plt.step(c, (h - b)*scale, alpha=0.8, label=ext)\n",
    "    \n",
    "\n",
    "b = np.mean(acslc.c[(acslc.t- T0_ijd)*24*3600 < 200])\n",
    "plt.step((acslc.t- T0_ijd)*24*3600, (acslc.c - b)/2, label=\"SPI-ACS\")\n",
    "\n",
    "isgri_raw_total_rate = np.sum([mce[i].c for i in range(8)], axis=0 )\n",
    "b = np.mean(isgri_raw_total_rate[(mce[0].t- T0_ijd)*24*3600 < 200])\n",
    "plt.step((mce[0].t- T0_ijd)*24*3600, isgri_raw_total_rate - b, label=\"ISGRI RAW rate\", where='post')\n",
    "\n",
    "\n",
    "plt.legend()\n",
    "plt.xlabel(f\"seconds since {T0_isot}\")\n",
    "plt.ylabel(f\"counts s$^{-1}$\")\n",
    "plt.xlim([0, 1000])\n",
    "plt.savefig(\"figs/compton.pdf\")\n"
   ]
  },
  {
   "cell_type": "code",
   "execution_count": 34,
   "id": "a98c9692",
   "metadata": {
    "tags": [
     "outputs"
    ]
   },
   "outputs": [],
   "source": [
    "lc_pdf=\"figs/compton.pdf\""
   ]
  }
 ],
 "metadata": {
  "kernelspec": {
   "display_name": "Python 3.10.6 64-bit",
   "language": "python",
   "name": "python3"
  },
  "language_info": {
   "codemirror_mode": {
    "name": "ipython",
    "version": 3
   },
   "file_extension": ".py",
   "mimetype": "text/x-python",
   "name": "python",
   "nbconvert_exporter": "python",
   "pygments_lexer": "ipython3",
   "version": "3.10.6"
  },
  "vscode": {
   "interpreter": {
    "hash": "916dbcbb3f70747c44a77c7bcd40155683ae19c65e1c03b4aa3499c5328201f1"
   }
  }
 },
 "nbformat": 4,
 "nbformat_minor": 5
}
