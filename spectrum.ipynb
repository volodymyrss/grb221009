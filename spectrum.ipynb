{
 "cells": [
  {
   "cell_type": "code",
   "execution_count": 37,
   "metadata": {},
   "outputs": [
    {
     "name": "stdout",
     "output_type": "stream",
     "text": [
      "Processing /home/savchenk/ogip\n",
      "  Preparing metadata (setup.py) ... \u001b[?25ldone\n",
      "\u001b[?25hRequirement already satisfied: numpy>=1.16.0 in /home/savchenk/miniconda-recent/lib/python3.9/site-packages (from ogip==0.2.1) (1.23.4)\n",
      "Requirement already satisfied: astropy in /home/savchenk/miniconda-recent/lib/python3.9/site-packages (from ogip==0.2.1) (4.3.1)\n",
      "Requirement already satisfied: scipy in /home/savchenk/miniconda-recent/lib/python3.9/site-packages (from ogip==0.2.1) (1.8.0)\n",
      "Requirement already satisfied: click in /home/savchenk/miniconda-recent/lib/python3.9/site-packages (from ogip==0.2.1) (8.1.3)\n",
      "Requirement already satisfied: pyerfa>=1.7.3 in /home/savchenk/miniconda-recent/lib/python3.9/site-packages (from astropy->ogip==0.2.1) (2.0.0.1)\n",
      "Building wheels for collected packages: ogip\n",
      "  Building wheel for ogip (setup.py) ... \u001b[?25ldone\n",
      "\u001b[?25h  Created wheel for ogip: filename=ogip-0.2.1-py2.py3-none-any.whl size=9226 sha256=afd077517576482706c015c6ccb62afe682855550ed68323f03a90a5cb9bac14\n",
      "  Stored in directory: /tmp/pip-ephem-wheel-cache-hh9_ju4o/wheels/9e/7d/68/8c4ead01ff81d5c323908dd08ffa9cf389eed4d5526438f2c5\n",
      "Successfully built ogip\n",
      "Installing collected packages: ogip\n",
      "  Attempting uninstall: ogip\n",
      "    Found existing installation: ogip 0.2.1\n",
      "    Uninstalling ogip-0.2.1:\n",
      "      Successfully uninstalled ogip-0.2.1\n",
      "Successfully installed ogip-0.2.1\n"
     ]
    }
   ],
   "source": [
    "!pip install --upgrade ~/ogip\n",
    "# !pip install ~/odafunction\n",
    "\n",
    "import matplotlib as mpl\n",
    "\n",
    "mpl.use('Agg')\n",
    "\n",
    "from matplotlib import pylab as plt\n",
    "from astropy.io import fits\n",
    "import ogip\n",
    "import ogip.core"
   ]
  },
  {
   "cell_type": "code",
   "execution_count": 38,
   "metadata": {
    "tags": [
     "parameters"
    ]
   },
   "outputs": [],
   "source": [
    "# oda:version \"v1.15\""
   ]
  },
  {
   "attachments": {},
   "cell_type": "markdown",
   "metadata": {},
   "source": [
    "* Subject: \tRe: GRB221009A\n",
    "* Date: \tFri, 28 Oct 2022 17:37:00 +0200\n",
    "* From: \tejourdain <ejourdain@irap.omp.eu>\n",
    "* To: \tVolodymyr Savchenko [UNIGE] <Volodymyr.Savchenko@unige.ch>\n",
    "* CC: \tJean-Pierre Roques <jroques@irap.omp.eu>, Carlo Ferrigno <carlo.ferrigno@unige.ch>\n",
    "\n",
    "\n",
    "The spectrum in attachement is averaged over rev 2558 and 2559. Adding rev 2560 decreases the signal to noise ratio (which is not high anyway)\n",
    "\n",
    "The two broad channels below and above 551 keV may be used to test scenarii with broad shifted annihilation feature if relevant.\n",
    "\n",
    "\n",
    " \n"
   ]
  },
  {
   "cell_type": "code",
   "execution_count": 39,
   "metadata": {},
   "outputs": [
    {
     "name": "stderr",
     "output_type": "stream",
     "text": [
      "WARNING:odafunction.func.urifunc:asked to [red]write_to_uri[/] [b][URIPythonFunction][()][prov: [('partial', ('args', ()), ('kwargs', {'focus_obs_name': 'r25589'}), ([URIipynbFunction][(*, focus_obs_name='total_3p')]:[file:///home/savchenk/grb221009/grbbase.ipynb@oda_version=v0.2.25], None))]]:[file:///tmp/urivalue//44473248//home/savchenk/grb221009/grbbase/oda_version=v0.2.25][/] but this function has no persistent representation\n"
     ]
    }
   ],
   "source": [
    "from odafunction.executors import default_execute_to_value\n",
    "from odafunction.func.urifunc import URIipynbFunction, URIValue\n",
    "\n",
    "focus_obs_name='r25589'\n",
    "\n",
    "# TODO: set version restriction here\n",
    "# TODO: make nb2workflow store in remote storages\n",
    "\n",
    "v = default_execute_to_value(URIipynbFunction.from_generic_uri(\"file:///home/savchenk/grb221009/grbbase.ipynb\")(focus_obs_name=focus_obs_name), valueclass=URIValue, cached=True)"
   ]
  },
  {
   "cell_type": "code",
   "execution_count": 40,
   "metadata": {},
   "outputs": [],
   "source": [
    "#v['output_values']['data']"
   ]
  },
  {
   "cell_type": "code",
   "execution_count": 43,
   "metadata": {},
   "outputs": [
    {
     "name": "stdout",
     "output_type": "stream",
     "text": [
      "-rw-rw-r-- 1 savchenk  4472640 Feb  1 18:07 grbbase_fitspack_r25589/isgri_total_3p_mosaic.fits\n",
      "-rw-rw-r-- 1 savchenk 17262720 Feb  1 18:07 grbbase_fitspack_r25589/jemx1_total_3p_mosaic.fits\n",
      "-rw-rw-r-- 1 savchenk 17262720 Feb  1 18:07 grbbase_fitspack_r25589/jemx2_total_3p_mosaic.fits\n",
      "-rw-rw-r-- 1 savchenk    14400 Feb  1 18:07 grbbase_fitspack_r25589/JMX1_spectrum_GRB221009A.fits\n",
      "-rw-rw-r-- 1 savchenk    14400 Feb  1 18:07 grbbase_fitspack_r25589/JMX2_spectrum_GRB221009A.fits\n",
      "-rw-rw-r-- 1 savchenk    17280 Feb  1 18:07 grbbase_fitspack_r25589/IBIS_spectrum_GRB221009A.fits\n",
      "-rw-rw-r-- 1 savchenk  4011840 Feb  1 19:36 grbbase_fitspack_r2560/isgri_r2558_mosaic.fits\n",
      "-rw-rw-r-- 1 savchenk 14541120 Feb  1 19:36 grbbase_fitspack_r2560/jemx1_r2558_mosaic.fits\n",
      "-rw-rw-r-- 1 savchenk 14541120 Feb  1 19:36 grbbase_fitspack_r2560/jemx2_r2558_mosaic.fits\n",
      "-rw-rw-r-- 1 savchenk    17280 Feb  1 19:36 grbbase_fitspack_r2560/JMX1_arf_GRB221009A_r2558.fits\n",
      "-rw-rw-r-- 1 savchenk    95040 Feb  1 19:36 grbbase_fitspack_r2560/JMX1_rmf_GRB221009A_r2558.fits\n",
      "-rw-rw-r-- 1 savchenk    14400 Feb  1 19:36 grbbase_fitspack_r2560/JMX1_spectrum_GRB221009A_r2558.fits\n",
      "-rw-rw-r-- 1 savchenk    17280 Feb  1 19:36 grbbase_fitspack_r2560/JMX2_arf_GRB221009A_r2558.fits\n",
      "-rw-rw-r-- 1 savchenk    95040 Feb  1 19:36 grbbase_fitspack_r2560/JMX2_rmf_GRB221009A_r2558.fits\n",
      "-rw-rw-r-- 1 savchenk    14400 Feb  1 19:36 grbbase_fitspack_r2560/JMX2_spectrum_GRB221009A_r2558.fits\n",
      "-rw-rw-r-- 1 savchenk    40320 Feb  1 19:36 grbbase_fitspack_r2560/IBIS_arf_GRB221009A_r2558.fits\n",
      "-rw-rw-r-- 1 savchenk  2606400 Feb  1 19:36 grbbase_fitspack_r2560/IBIS_rmf_GRB221009A_r2558.fits\n",
      "-rw-rw-r-- 1 savchenk    17280 Feb  1 19:36 grbbase_fitspack_r2560/IBIS_spectrum_GRB221009A_r2558.fits\n",
      "-rw-rw-r-- 1 savchenk  4438080 Feb  1 19:41 grbbase_fitspack_r2560/isgri_r2560_mosaic.fits\n",
      "-rw-rw-r-- 1 savchenk 16326720 Feb  1 19:41 grbbase_fitspack_r2560/jemx1_r2560_mosaic.fits\n",
      "-rw-rw-r-- 1 savchenk 16326720 Feb  1 19:41 grbbase_fitspack_r2560/jemx2_r2560_mosaic.fits\n",
      "-rw-rw-r-- 1 savchenk 16326720 Feb  1 19:41 grbbase_fitspack_r2560/jemx1_mosaic.fits\n",
      "-rw-rw-r-- 1 savchenk 16326720 Feb  1 19:41 grbbase_fitspack_r2560/jemx2_mosaic.fits\n",
      "-rw-rw-r-- 1 savchenk  4438080 Feb  1 19:41 grbbase_fitspack_r2560/isgri_mosaic.fits\n",
      "-rw-rw-r-- 1 savchenk  4438080 Feb  1 19:41 grbbase_fitspack_r2560/isgrihe_mosaic.fits\n",
      "-rw-rw-r-- 1 savchenk    17280 Feb  1 19:41 grbbase_fitspack_r2560/JMX1_lc_GRB221009A.fits\n",
      "-rw-rw-r-- 1 savchenk    17280 Feb  1 19:41 grbbase_fitspack_r2560/JMX2_lc_GRB221009A.fits\n",
      "-rw-rw-r-- 1 savchenk    20160 Feb  1 19:41 grbbase_fitspack_r2560/IBIS_lc_GRB221009A.fits\n",
      "-rw-rw-r-- 1 savchenk    17280 Feb  1 19:41 grbbase_fitspack_r2560/JMX1_arf_GRB221009A_r2560.fits\n",
      "-rw-rw-r-- 1 savchenk    95040 Feb  1 19:41 grbbase_fitspack_r2560/JMX1_rmf_GRB221009A_r2560.fits\n",
      "-rw-rw-r-- 1 savchenk    14400 Feb  1 19:41 grbbase_fitspack_r2560/JMX1_spectrum_GRB221009A_r2560.fits\n",
      "-rw-rw-r-- 1 savchenk    17280 Feb  1 19:41 grbbase_fitspack_r2560/JMX2_arf_GRB221009A_r2560.fits\n",
      "-rw-rw-r-- 1 savchenk    95040 Feb  1 19:41 grbbase_fitspack_r2560/JMX2_rmf_GRB221009A_r2560.fits\n",
      "-rw-rw-r-- 1 savchenk    14400 Feb  1 19:41 grbbase_fitspack_r2560/JMX2_spectrum_GRB221009A_r2560.fits\n",
      "-rw-rw-r-- 1 savchenk    40320 Feb  1 19:41 grbbase_fitspack_r2560/IBIS_arf_GRB221009A_r2560.fits\n",
      "-rw-rw-r-- 1 savchenk  2606400 Feb  1 19:41 grbbase_fitspack_r2560/IBIS_rmf_GRB221009A_r2560.fits\n",
      "-rw-rw-r-- 1 savchenk    17280 Feb  1 19:41 grbbase_fitspack_r2560/IBIS_spectrum_GRB221009A_r2560.fits\n",
      "-rw-rw-r-- 1 savchenk  4173120 Feb  2 10:12 grbbase_fitspack_r25589/isgri_r25589_mosaic.fits\n",
      "-rw-rw-r-- 1 savchenk 15621120 Feb  2 10:12 grbbase_fitspack_r25589/jemx1_r25589_mosaic.fits\n",
      "-rw-rw-r-- 1 savchenk 15577920 Feb  2 10:12 grbbase_fitspack_r25589/jemx2_r25589_mosaic.fits\n",
      "-rw-rw-r-- 1 savchenk 15621120 Feb  2 10:12 grbbase_fitspack_r25589/jemx1_mosaic.fits\n",
      "-rw-rw-r-- 1 savchenk 15577920 Feb  2 10:12 grbbase_fitspack_r25589/jemx2_mosaic.fits\n",
      "-rw-rw-r-- 1 savchenk  4173120 Feb  2 10:12 grbbase_fitspack_r25589/isgri_mosaic.fits\n",
      "-rw-rw-r-- 1 savchenk  4173120 Feb  2 10:12 grbbase_fitspack_r25589/isgrihe_mosaic.fits\n",
      "-rw-rw-r-- 1 savchenk    17280 Feb  2 10:12 grbbase_fitspack_r25589/JMX1_lc_GRB221009A.fits\n",
      "-rw-rw-r-- 1 savchenk    17280 Feb  2 10:12 grbbase_fitspack_r25589/JMX2_lc_GRB221009A.fits\n",
      "-rw-rw-r-- 1 savchenk    20160 Feb  2 10:12 grbbase_fitspack_r25589/IBIS_lc_GRB221009A.fits\n",
      "-rw-rw-r-- 1 savchenk    17280 Feb  2 10:12 grbbase_fitspack_r25589/JMX1_arf_GRB221009A_r25589.fits\n",
      "-rw-rw-r-- 1 savchenk    95040 Feb  2 10:12 grbbase_fitspack_r25589/JMX1_rmf_GRB221009A_r25589.fits\n",
      "-rw-rw-r-- 1 savchenk    14400 Feb  2 10:12 grbbase_fitspack_r25589/JMX1_spectrum_GRB221009A_r25589.fits\n",
      "-rw-rw-r-- 1 savchenk    17280 Feb  2 10:12 grbbase_fitspack_r25589/JMX2_arf_GRB221009A_r25589.fits\n",
      "-rw-rw-r-- 1 savchenk    95040 Feb  2 10:12 grbbase_fitspack_r25589/JMX2_rmf_GRB221009A_r25589.fits\n",
      "-rw-rw-r-- 1 savchenk    14400 Feb  2 10:12 grbbase_fitspack_r25589/JMX2_spectrum_GRB221009A_r25589.fits\n",
      "-rw-rw-r-- 1 savchenk    40320 Feb  2 10:12 grbbase_fitspack_r25589/IBIS_arf_GRB221009A_r25589.fits\n",
      "-rw-rw-r-- 1 savchenk  2606400 Feb  2 10:12 grbbase_fitspack_r25589/IBIS_rmf_GRB221009A_r25589.fits\n",
      "-rw-rw-r-- 1 savchenk    17280 Feb  2 10:12 grbbase_fitspack_r25589/IBIS_spectrum_GRB221009A_r25589.fits\n"
     ]
    }
   ],
   "source": [
    "import io\n",
    "import tempfile\n",
    "import base64\n",
    "import tarfile\n",
    "    \n",
    "with tarfile.open(v['output_values']['fits_pack_url'].replace(\"file://\", \"\")) as tar:\n",
    "    tar.extractall(path=f\"grbbase_fitspack_{focus_obs_name}\")\n",
    "\n",
    "!ls -ltor grbbase_fitspack*/*fits"
   ]
  },
  {
   "cell_type": "code",
   "execution_count": null,
   "metadata": {},
   "outputs": [
    {
     "name": "stdout",
     "output_type": "stream",
     "text": [
      "-rw-rw-r-- 1 savchenk  4472640 Feb  1 18:07 grbbase_fitspack_r25589/isgri_total_3p_mosaic.fits\n",
      "-rw-rw-r-- 1 savchenk 17262720 Feb  1 18:07 grbbase_fitspack_r25589/jemx1_total_3p_mosaic.fits\n",
      "-rw-rw-r-- 1 savchenk 17262720 Feb  1 18:07 grbbase_fitspack_r25589/jemx2_total_3p_mosaic.fits\n",
      "-rw-rw-r-- 1 savchenk    14400 Feb  1 18:07 grbbase_fitspack_r25589/JMX1_spectrum_GRB221009A.fits\n",
      "-rw-rw-r-- 1 savchenk    14400 Feb  1 18:07 grbbase_fitspack_r25589/JMX2_spectrum_GRB221009A.fits\n",
      "-rw-rw-r-- 1 savchenk    17280 Feb  1 18:07 grbbase_fitspack_r25589/IBIS_spectrum_GRB221009A.fits\n",
      "-rw-rw-r-- 1 savchenk      475 Feb  1 22:03 grbbase_fitspack_r25589/all.xcm\n",
      "-rw-rw-r-- 1 savchenk    12642 Feb  1 22:05 grbbase_fitspack_r25589/pgplot.ps\n",
      "-rw-rw-r-- 1 savchenk  4173120 Feb  1 23:48 grbbase_fitspack_r25589/isgri_r25589_mosaic.fits\n",
      "-rw-rw-r-- 1 savchenk 15621120 Feb  1 23:48 grbbase_fitspack_r25589/jemx1_r25589_mosaic.fits\n",
      "-rw-rw-r-- 1 savchenk 15577920 Feb  1 23:48 grbbase_fitspack_r25589/jemx2_r25589_mosaic.fits\n",
      "-rw-rw-r-- 1 savchenk 15621120 Feb  1 23:48 grbbase_fitspack_r25589/jemx1_mosaic.fits\n",
      "-rw-rw-r-- 1 savchenk 15577920 Feb  1 23:48 grbbase_fitspack_r25589/jemx2_mosaic.fits\n",
      "-rw-rw-r-- 1 savchenk  4173120 Feb  1 23:48 grbbase_fitspack_r25589/isgri_mosaic.fits\n",
      "-rw-rw-r-- 1 savchenk  4173120 Feb  1 23:48 grbbase_fitspack_r25589/isgrihe_mosaic.fits\n",
      "-rw-rw-r-- 1 savchenk    17280 Feb  1 23:48 grbbase_fitspack_r25589/JMX1_lc_GRB221009A.fits\n",
      "-rw-rw-r-- 1 savchenk    17280 Feb  1 23:48 grbbase_fitspack_r25589/JMX2_lc_GRB221009A.fits\n",
      "-rw-rw-r-- 1 savchenk    20160 Feb  1 23:48 grbbase_fitspack_r25589/IBIS_lc_GRB221009A.fits\n",
      "-rw-rw-r-- 1 savchenk    17280 Feb  1 23:48 grbbase_fitspack_r25589/JMX1_arf_GRB221009A_r25589.fits\n",
      "-rw-rw-r-- 1 savchenk    95040 Feb  1 23:48 grbbase_fitspack_r25589/JMX1_rmf_GRB221009A_r25589.fits\n",
      "-rw-rw-r-- 1 savchenk    14400 Feb  1 23:48 grbbase_fitspack_r25589/JMX1_spectrum_GRB221009A_r25589.fits\n",
      "-rw-rw-r-- 1 savchenk    17280 Feb  1 23:48 grbbase_fitspack_r25589/JMX2_arf_GRB221009A_r25589.fits\n",
      "-rw-rw-r-- 1 savchenk    95040 Feb  1 23:48 grbbase_fitspack_r25589/JMX2_rmf_GRB221009A_r25589.fits\n",
      "-rw-rw-r-- 1 savchenk    14400 Feb  1 23:48 grbbase_fitspack_r25589/JMX2_spectrum_GRB221009A_r25589.fits\n",
      "-rw-rw-r-- 1 savchenk    40320 Feb  1 23:48 grbbase_fitspack_r25589/IBIS_arf_GRB221009A_r25589.fits\n",
      "-rw-rw-r-- 1 savchenk  2606400 Feb  1 23:48 grbbase_fitspack_r25589/IBIS_rmf_GRB221009A_r25589.fits\n",
      "-rw-rw-r-- 1 savchenk    17280 Feb  1 23:48 grbbase_fitspack_r25589/IBIS_spectrum_GRB221009A_r25589.fits\n"
     ]
    },
    {
     "data": {
      "text/plain": [
       "<ogip.spec.PHAI at 0x7f99e4cd5a60>"
      ]
     },
     "execution_count": 32,
     "metadata": {},
     "output_type": "execute_result"
    }
   ],
   "source": [
    "!ls -lotr grbbase_fitspack_{focus_obs_name}/*\n",
    "\n",
    "jmx1_pha = ogip.core.open_something(f\"grbbase_fitspack_{focus_obs_name}/JMX1_spectrum_GRB221009A_{focus_obs_name}.fits\")\n",
    "jmx1_pha"
   ]
  },
  {
   "cell_type": "code",
   "execution_count": null,
   "metadata": {},
   "outputs": [
    {
     "data": {
      "text/plain": [
       "(('2022-10-10T14:28:43.642', '2022-10-13T00:00:13.779'),\n",
       " ('2022-10-10T14:28:43.642', '2022-10-13T00:59:36.781'),\n",
       " ('2022-10-08T17:45:28.184', '2022-10-14T01:28:14.184'))"
      ]
     },
     "execution_count": 33,
     "metadata": {},
     "output_type": "execute_result"
    }
   ],
   "source": [
    "import ogip.core\n",
    "\n",
    "from ogip.spec import PHAI, RMF, rebin, log_bins\n",
    "from ogip.tools import plot as plot_spec\n",
    "\n",
    "\n",
    "import requests\n",
    "\n",
    "r8_t1, r8_t2 = map(float, requests.get(f'https://www.astro.unige.ch/mmoda/dispatch-data/gw/timesystem/api/v1.0/converttime/REVNUM/2558/IJD').text.split()[1:])\n",
    "r9_t1, r9_t2 = map(float, requests.get(f'https://www.astro.unige.ch/mmoda/dispatch-data/gw/timesystem/api/v1.0/converttime/REVNUM/2559/IJD').text.split()[1:])\n",
    "\n",
    "\n",
    "isgri_pha = PHAI.from_file_name(f\"grbbase_fitspack_{focus_obs_name}/IBIS_spectrum_GRB221009A_{focus_obs_name}.fits\")\n",
    "isgri_rmf = RMF.from_file_name(f\"grbbase_fitspack_{focus_obs_name}/IBIS_rmf_GRB221009A_{focus_obs_name}.fits\")\n",
    "\n",
    "# averaged over rev 2558 and 2559\n",
    "spi_rmf = ogip.core.open_something(\"spi/rmf_GRB2rGRB2022sgrsp10aCVGRB_photo_GRB221009A_avrg.fits\")\n",
    "spi_pha = ogip.core.open_something(\"spi/spectrum_GRB2rGRB2022sgrsp10aCVGRB_photo_GRB221009A_avrg.fits\")\n",
    "\n",
    "jmx1_pha = ogip.core.open_something(f\"grbbase_fitspack_{focus_obs_name}/JMX1_spectrum_GRB221009A_{focus_obs_name}.fits\")\n",
    "jmx1_rmf = ogip.core.open_something(f\"grbbase_fitspack_{focus_obs_name}/JMX1_rmf_GRB221009A_{focus_obs_name}.fits\")\n",
    "jmx1_arf = ogip.core.open_something(f\"grbbase_fitspack_{focus_obs_name}/JMX1_arf_GRB221009A_{focus_obs_name}.fits\")\n",
    "\n",
    "jmx2_pha = ogip.core.open_something(f\"grbbase_fitspack_{focus_obs_name}//JMX2_spectrum_GRB221009A_{focus_obs_name}.fits\")\n",
    "jmx2_rmf = ogip.core.open_something(f\"grbbase_fitspack_{focus_obs_name}//JMX2_rmf_GRB221009A_{focus_obs_name}.fits\")\n",
    "jmx2_arf = ogip.core.open_something(f\"grbbase_fitspack_{focus_obs_name}//JMX2_arf_GRB221009A_{focus_obs_name}.fits\")\n",
    "\n",
    "\n",
    "from astropy.time import Time\n",
    "\n",
    "ijd2isot = lambda ijd: Time(ijd + 51544, format='mjd').isot\n",
    "spec2isot12 = lambda spec: (ijd2isot(fits.open(spec.filename)[1].header['TSTART']), ijd2isot(fits.open(spec.filename)[1].header['TSTOP']))\n",
    "\n",
    "spec2isot12(jmx1_pha), spec2isot12(isgri_pha), (ijd2isot(r8_t1), ijd2isot(r9_t2))"
   ]
  },
  {
   "cell_type": "code",
   "execution_count": null,
   "metadata": {},
   "outputs": [
    {
     "data": {
      "image/png": "[encoded data removed]",
      "text/plain": [
       "<IPython.core.display.Image object>"
      ]
     },
     "execution_count": 34,
     "metadata": {},
     "output_type": "execute_result"
    }
   ],
   "source": [
    "from ogip.spec import PHAI, RMF, rebin, log_bins\n",
    "from ogip.tools import plot as plot_spec\n",
    "\n",
    "\n",
    "isgri_pha = PHAI.from_file_name(\"IBIS_spectrum_GRB221009A.fits\")\n",
    "isgri_rmf = RMF.from_file_name(\"IBIS_rmf_GRB221009A.fits\")\n",
    "\n",
    "isgri_pha_rebinned, isgri_rmf_rebinned = rebin(isgri_pha, isgri_rmf, log_bins(5, 25, 700))\n",
    "\n",
    "spi_pha_rebinned, spi_rmf_rebinned = rebin(spi_pha, spi_rmf, log_bins(3, 25, 1000))\n",
    "# spi_pha_rebinned, spi_rmf_rebinned = rebin(spi_pha, spi_rmf, log_bins(5, 25, 600))\n",
    "\n",
    "f = plt.figure(figsize=(12, 6))\n",
    "\n",
    "model = lambda x:(15e-5*(x/25.)**-1.9)\n",
    "\n",
    "for unfolded in True, False:\n",
    "    # unfolded = True\n",
    "    e_power = 2 if unfolded else 0\n",
    "\n",
    "    # plot_spec(isgri_pha, model, isgri_rmf, fig=f, label_prefix=\"ISGRI\", unfolded=unfolded, e_power=e_power)\n",
    "    # plot_spec(isgri_pha_rebinned, model, isgri_rmf_rebinned, fig=f, label_prefix=\"ISGRI\", unfolded=unfolded, e_power=e_power)\n",
    "\n",
    "    isgri_pha_rebinned.to_fits(\"isgri_rebinned_pha.fits\")\n",
    "    isgri_rmf_rebinned.to_fits(\"isgri_rebinned_rmf.fits\")\n",
    "\n",
    "    # plot_spec(spi_pha_rebinned, model, spi_rmf_rebinned, fig=f, label_prefix=\"SPI\", unfolded=unfolded, e_power=e_power)\n",
    "    # plot_spec(spi_pha, model, spi_rmf, fig=f, label_prefix=\"SPI\", unfolded=unfolded, e_power=e_power)\n",
    "    plot_spec(jmx1_pha, model, jmx1_rmf, arf=jmx1_arf, fig=f, label_prefix=\"JMX1\", unfolded=unfolded, e_power=e_power)\n",
    "    # plot_spec(jmx2_pha, model, jmx2_rmf, arf=jmx2_arf, fig=f, label_prefix=\"JMX2\", unfolded=unfolded, e_power=e_power)\n",
    "\n",
    "    # early and total jemxX spec are weird\n",
    "\n",
    "    if unfolded:\n",
    "        plt.ylabel(f\"keV**{e_power}/cm2/s/keV\")\n",
    "    else:\n",
    "        plt.ylabel(\"counts/s/keV\")\n",
    "\n",
    "    plt.xlabel(\"keV\")\n",
    "\n",
    "    plt.xlim([1, 5e3])\n",
    "    plt.ylim([1e-4, 1e4])\n",
    "    # plt.loglog()\n",
    "\n",
    "    plt.grid(alpha=0.5)\n",
    "\n",
    "    plt.savefig(f\"spec_afterglow_counts_{unfolded}.pdf\")\n",
    "    plt.savefig(f\"spec_afterglow_counts_{unfolded}.png\")\n",
    "\n",
    "from IPython.display import Image\n",
    "Image(\"spec_afterglow_counts_False.png\")\n",
    "\n",
    "    # TODO: add in grey other data\n",
    "    # TODO: plot by period"
   ]
  },
  {
   "cell_type": "code",
   "execution_count": null,
   "metadata": {},
   "outputs": [],
   "source": [
    "import numpy as np"
   ]
  },
  {
   "cell_type": "code",
   "execution_count": null,
   "metadata": {
    "tags": [
     "outputs"
    ]
   },
   "outputs": [],
   "source": [
    "sn_max = 0 # np.max(d['RATE'] / d['STAT_ERR'])\n",
    "sn = 0 # np.max(d['RATE'] / d['STAT_ERR'])\n",
    "sn_total = 0 # np.sum(d['RATE']) / np.sum(d['STAT_ERR']**2)**0.5\n",
    "exposure = 0 # spec[2].header['EXPOSURE']\n",
    "ag_spec=\"spec_afterglow_counts.pdf\""
   ]
  }
 ],
 "metadata": {
  "kernelspec": {
   "display_name": "base",
   "language": "python",
   "name": "python3"
  },
  "language_info": {
   "codemirror_mode": {
    "name": "ipython",
    "version": 3
   },
   "file_extension": ".py",
   "mimetype": "text/x-python",
   "name": "python",
   "nbconvert_exporter": "python",
   "pygments_lexer": "ipython3",
   "version": "3.9.13"
  },
  "vscode": {
   "interpreter": {
    "hash": "1892832a55cb9b21d693a1e0afb7563f6ad424a1b7b3da21728b3ea0874fe733"
   }
  }
 },
 "nbformat": 4,
 "nbformat_minor": 2
}
