{
 "cells": [
  {
   "cell_type": "code",
   "execution_count": 32,
   "metadata": {},
   "outputs": [
    {
     "name": "stdout",
     "output_type": "stream",
     "text": [
      "Defaulting to user installation because normal site-packages is not writeable\n",
      "Requirement already satisfied: ogip in /home/savchenk/.local/lib/python3.10/site-packages (0.2.1)\n",
      "Requirement already satisfied: scipy in /home/savchenk/.local/lib/python3.10/site-packages (from ogip) (1.9.3)\n",
      "Requirement already satisfied: numpy>=1.16.0 in /home/savchenk/.local/lib/python3.10/site-packages (from ogip) (1.23.4)\n",
      "Requirement already satisfied: click in /usr/lib/python3/dist-packages (from ogip) (8.0.3)\n",
      "Requirement already satisfied: astropy in /home/savchenk/.local/lib/python3.10/site-packages (from ogip) (5.1.1)\n",
      "Requirement already satisfied: pyerfa>=2.0 in /home/savchenk/.local/lib/python3.10/site-packages (from astropy->ogip) (2.0.0.1)\n",
      "Requirement already satisfied: packaging>=19.0 in /usr/lib/python3/dist-packages (from astropy->ogip) (21.3)\n",
      "Requirement already satisfied: PyYAML>=3.13 in /usr/lib/python3/dist-packages (from astropy->ogip) (5.4.1)\n"
     ]
    }
   ],
   "source": [
    "! pip install ogip\n",
    "from astropy.io import fits\n",
    "import ogip"
   ]
  },
  {
   "cell_type": "code",
   "execution_count": 33,
   "metadata": {},
   "outputs": [],
   "source": [
    "# oda:version \"v1.1\""
   ]
  },
  {
   "cell_type": "code",
   "execution_count": 34,
   "metadata": {},
   "outputs": [],
   "source": [
    "rmf = fits.open(\"spi/rmf_GRB2rGRB2022sgrsp10aCVGRB_photo_GRB221009A_avrg.fits\")\n",
    "spec = fits.open(\"spi/spectrum_GRB2rGRB2022sgrsp10aCVGRB_photo_GRB221009A_avrg.fits\")\n",
    "\n",
    "\n",
    "d = spec[2].data\n",
    "\n",
    "e1 = rmf['SPI.-EBDS-SET'].data['E_MIN']\n",
    "e2 = rmf['SPI.-EBDS-SET'].data['E_MAX']\n",
    "\n",
    "ce = (e1 + e2)*0.5\n",
    "de = (e2 - e1)*0.5"
   ]
  },
  {
   "cell_type": "code",
   "execution_count": 35,
   "metadata": {},
   "outputs": [
    {
     "data": {
      "text/plain": [
       "array([  12.5,   13. ,   13.5,   14. ,   14.5,   15. ,   15.5,   16. ,\n",
       "         16.5,   17. ,   18. ,   19. ,   20. ,   21. ,   22. ,   23. ,\n",
       "         24. ,   25. ,   26. ,   27. ,   28. ,   29. ,   30. ,   31. ,\n",
       "         32. ,   33. ,   34. ,   35. ,   36.5,   38. ,   39.5,   41. ,\n",
       "         42.5,   44. ,   45.5,   47. ,   48.5,   50. ,   51.5,   53. ,\n",
       "         54.5,   56. ,   57.5,   59. ,   60.5,   62. ,   63.5,   65.5,\n",
       "         67.5,   69.5,   71.5,   73.5,   75.5,   77.5,   79.5,   81.5,\n",
       "         83.5,   85.5,   87.5,   89.5,   91.5,   93.5,   95.5,   97.5,\n",
       "         99.5,  102. ,  104.5,  107. ,  109.5,  112. ,  114.5,  117. ,\n",
       "        119.5,  122. ,  124.5,  127. ,  129.5,  132. ,  134.5,  137. ,\n",
       "        139.5,  142. ,  144.5,  147. ,  150. ,  153. ,  156. ,  159. ,\n",
       "        162. ,  165. ,  168. ,  171. ,  174. ,  177. ,  180. ,  183. ,\n",
       "        186. ,  189. ,  192. ,  195. ,  198. ,  201. ,  204.5,  208. ,\n",
       "        211.5,  215. ,  218.5,  222. ,  225.5,  229. ,  232.5,  236. ,\n",
       "        239.5,  243. ,  246.5,  250. ,  253.5,  257. ,  260.5,  264. ,\n",
       "        267.5,  271.5,  275.5,  279.5,  283.5,  287.5,  291.5,  295.5,\n",
       "        299.5,  303.5,  307.5,  311.5,  315.5,  319.5,  323.5,  327.5,\n",
       "        331.5,  335.5,  339.5,  344. ,  348.5,  353. ,  357.5,  362. ,\n",
       "        366.5,  371. ,  375.5,  380. ,  384.5,  389. ,  393.5,  398. ,\n",
       "        402.5,  407. ,  411.5,  416. ,  420.5,  425. ,  430. ,  435. ,\n",
       "        440. ,  445. ,  450. ,  455. ,  460. ,  465. ,  470. ,  475. ,\n",
       "        480. ,  485. ,  490. ,  495. ,  500. ,  505. ,  510. ,  515. ,\n",
       "        520.5,  526. ,  531.5,  537. ,  542.5,  548. ,  553.5,  559. ,\n",
       "        564.5,  570. ,  575.5,  581. ,  586.5,  592. ,  597.5,  603. ,\n",
       "        608.5,  614. ,  619.5,  625.5,  631.5,  637.5,  643.5,  649.5,\n",
       "        655.5,  661.5,  667.5,  673.5,  679.5,  685.5,  691.5,  697.5,\n",
       "        703.5,  709.5,  715.5,  721.5,  727.5,  734. ,  740.5,  747. ,\n",
       "        753.5,  760. ,  766.5,  773. ,  779.5,  786. ,  792.5,  799. ,\n",
       "        805.5,  812. ,  818.5,  825. ,  831.5,  838. ,  844.5,  851. ,\n",
       "        858. ,  865. ,  872. ,  879. ,  886. ,  893. ,  900. ,  907. ,\n",
       "        914. ,  921. ,  928. ,  935. ,  942. ,  949. ,  956. ,  963. ,\n",
       "        970. ,  977. ,  984.5,  992. ,  999.5, 1007. , 1014.5, 1022. ],\n",
       "      dtype=float32)"
      ]
     },
     "execution_count": 35,
     "metadata": {},
     "output_type": "execute_result"
    }
   ],
   "source": [
    "spec = fits.open(\"IBIS_spectrum_GRB221009A.fits\")\n",
    "rmf = fits.open(\"IBIS_rmf_GRB221009A.fits\")\n",
    "\n",
    "rmf[1].data['E_MIN']"
   ]
  },
  {
   "cell_type": "code",
   "execution_count": 36,
   "metadata": {},
   "outputs": [
    {
     "data": {
      "image/png": "[encoded data removed]",
      "text/plain": [
       "<Figure size 640x480 with 1 Axes>"
      ]
     },
     "metadata": {},
     "output_type": "display_data"
    }
   ],
   "source": [
    "import matplotlib.pylab as plt\n",
    "\n",
    "plt.figure()\n",
    "\n",
    "plt.errorbar(\n",
    "    ce,\n",
    "    d['RATE'],\n",
    "    d['STAT_ERR'],\n",
    "    xerr=de,\n",
    "    ls=\"\"\n",
    ")\n",
    "\n",
    "plt.errorbar(\n",
    "    (rmf[1].data['E_MAX'] + rmf[1].data['E_MIN'])*0.5,\n",
    "    spec[1].data['RATE'],\n",
    "    spec[1].data['STAT_ERR'],\n",
    "    xerr=(rmf[1].data['E_MAX'] - rmf[1].data['E_MIN'])*0.5,\n",
    "    ls=\"\",\n",
    ")\n",
    "\n",
    "plt.ylabel(\"counts/s\")\n",
    "plt.ylabel(\"keV\")\n",
    "plt.loglog()\n",
    "\n",
    "plt.savefig(\"spec_afterglow.pdf\")\n",
    "\n",
    "# TODO: add in grey other data"
   ]
  },
  {
   "cell_type": "code",
   "execution_count": 37,
   "metadata": {},
   "outputs": [],
   "source": [
    "import numpy as np"
   ]
  },
  {
   "cell_type": "code",
   "execution_count": 39,
   "metadata": {
    "tags": [
     "outputs"
    ]
   },
   "outputs": [],
   "source": [
    "sn_max = np.max(d['RATE'] / d['STAT_ERR'])\n",
    "sn = np.max(d['RATE'] / d['STAT_ERR'])\n",
    "sn_total = np.sum(d['RATE']) / np.sum(d['STAT_ERR']**2)**0.5\n",
    "# exposure = spec[2].header['EXPOSURE']\n",
    "ag_spec=\"spec_afterglow.pdf\""
   ]
  }
 ],
 "metadata": {
  "kernelspec": {
   "display_name": "Python 3.10.6 64-bit",
   "language": "python",
   "name": "python3"
  },
  "language_info": {
   "codemirror_mode": {
    "name": "ipython",
    "version": 3
   },
   "file_extension": ".py",
   "mimetype": "text/x-python",
   "name": "python",
   "nbconvert_exporter": "python",
   "pygments_lexer": "ipython3",
   "version": "3.10.6"
  },
  "orig_nbformat": 4,
  "vscode": {
   "interpreter": {
    "hash": "916dbcbb3f70747c44a77c7bcd40155683ae19c65e1c03b4aa3499c5328201f1"
   }
  }
 },
 "nbformat": 4,
 "nbformat_minor": 2
}
