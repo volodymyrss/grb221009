{
 "cells": [
  {
   "cell_type": "code",
   "execution_count": 1,
   "metadata": {},
   "outputs": [],
   "source": [
    "import matplotlib as mpl\n",
    "\n",
    "mpl.use('Agg')\n",
    "\n",
    "from matplotlib import pylab as plt\n",
    "from astropy.io import fits\n",
    "import ogip\n",
    "import ogip.core"
   ]
  },
  {
   "cell_type": "code",
   "execution_count": 2,
   "metadata": {
    "tags": [
     "parameters"
    ]
   },
   "outputs": [],
   "source": [
    "# oda:version \"v0.1.24\"\n",
    "\n",
    "focus_obs_name='r2558'\n"
   ]
  },
  {
   "attachments": {},
   "cell_type": "markdown",
   "metadata": {},
   "source": [
    "* Subject: \tRe: GRB221009A\n",
    "* Date: \tFri, 28 Oct 2022 17:37:00 +0200\n",
    "* From: \tejourdain <ejourdain@irap.omp.eu>\n",
    "* To: \tVolodymyr Savchenko [UNIGE] <Volodymyr.Savchenko@unige.ch>\n",
    "* CC: \tJean-Pierre Roques <jroques@irap.omp.eu>, Carlo Ferrigno <carlo.ferrigno@unige.ch>\n",
    "\n",
    "\n",
    "The spectrum in attachement is averaged over rev 2558 and 2559. Adding rev 2560 decreases the signal to noise ratio (which is not high anyway)\n",
    "\n",
    "The two broad channels below and above 551 keV may be used to test scenarii with broad shifted annihilation feature if relevant.\n",
    "\n",
    "\n",
    " \n"
   ]
  },
  {
   "cell_type": "code",
   "execution_count": 3,
   "metadata": {},
   "outputs": [
    {
     "name": "stderr",
     "output_type": "stream",
     "text": [
      "WARNING:odafunction.func.urifunc:asked to [red]write_to_uri[/] [b][URIPythonFunction][()][prov: [('partial', ('args', ()), ('kwargs', {'focus_obs_name': 'r2558'}), ([URIipynbFunction][(*, focus_obs_name='total_3p')]:[file:///home/savchenk/grb221009/grbbase.ipynb@oda_version=v0.2.26], None))]]:[file:///tmp/urivalue//6d532aca//home/savchenk/grb221009/grbbase/oda_version=v0.2.26][/] but this function has no persistent representation\n"
     ]
    }
   ],
   "source": [
    "from odafunction.executors import default_execute_to_value\n",
    "from odafunction.func.urifunc import URIipynbFunction, URIValue\n",
    "\n",
    "# focus_obs_name='r25589'\n",
    "\n",
    "# TODO: set version restriction here\n",
    "# TODO: make nb2workflow store in remote storages\n",
    "# TODO: make possible to disrupt equivalence with indications\n",
    "# TODO: make common fd/fc depending on\n",
    "\n",
    "v = default_execute_to_value(URIipynbFunction.from_generic_uri(\"file:///home/savchenk/grb221009/grbbase.ipynb\")(focus_obs_name=focus_obs_name), valueclass=URIValue, cached=True)"
   ]
  },
  {
   "cell_type": "code",
   "execution_count": 4,
   "metadata": {},
   "outputs": [
    {
     "name": "stdout",
     "output_type": "stream",
     "text": [
      "-rw-rw-r-- 1 savchenk  4472640 Feb 10 23:14 grbbase_fitspack_lc_total_3p/isgri_total_3p_mosaic.fits\n",
      "-rw-rw-r-- 1 savchenk 17262720 Feb 10 23:14 grbbase_fitspack_lc_total_3p/jemx1_total_3p_mosaic.fits\n",
      "-rw-rw-r-- 1 savchenk 17262720 Feb 10 23:14 grbbase_fitspack_lc_total_3p/jemx2_total_3p_mosaic.fits\n",
      "-rw-rw-r-- 1 savchenk 17262720 Feb 10 23:18 grbbase_fitspack_lc_total_3p/jemx1_mosaic.fits\n",
      "-rw-rw-r-- 1 savchenk 17262720 Feb 10 23:18 grbbase_fitspack_lc_total_3p/jemx2_mosaic.fits\n",
      "-rw-rw-r-- 1 savchenk  4472640 Feb 10 23:18 grbbase_fitspack_lc_total_3p/isgri_mosaic.fits\n",
      "-rw-rw-r-- 1 savchenk  4472640 Feb 10 23:18 grbbase_fitspack_total_3p/isgrihe_mosaic.fits\n",
      "-rw-rw-r-- 1 savchenk  4472640 Feb 10 23:18 grbbase_fitspack_lc_total_3p/isgrihe_mosaic.fits\n",
      "-rw-rw-r-- 1 savchenk    23040 Feb 10 23:18 grbbase_fitspack_lc_total_3p/JMX1_lc_GRB221009A.fits\n",
      "-rw-rw-r-- 1 savchenk    23040 Feb 10 23:18 grbbase_fitspack_lc_total_3p/JMX2_lc_GRB221009A.fits\n",
      "-rw-rw-r-- 1 savchenk    28800 Feb 10 23:18 grbbase_fitspack_lc_total_3p/IBIS_lc_GRB221009A.fits\n",
      "-rw-rw-r-- 1 savchenk    17280 Feb 10 23:18 grbbase_fitspack_lc_total_3p/JMX1_arf_GRB221009A_total_3p.fits\n",
      "-rw-rw-r-- 1 savchenk    95040 Feb 10 23:18 grbbase_fitspack_lc_total_3p/JMX1_rmf_GRB221009A_total_3p.fits\n",
      "-rw-rw-r-- 1 savchenk    14400 Feb 10 23:18 grbbase_fitspack_lc_total_3p/JMX1_spectrum_GRB221009A_total_3p.fits\n",
      "-rw-rw-r-- 1 savchenk    17280 Feb 10 23:18 grbbase_fitspack_lc_total_3p/JMX2_arf_GRB221009A_total_3p.fits\n",
      "-rw-rw-r-- 1 savchenk    95040 Feb 10 23:18 grbbase_fitspack_lc_total_3p/JMX2_rmf_GRB221009A_total_3p.fits\n",
      "-rw-rw-r-- 1 savchenk    14400 Feb 10 23:18 grbbase_fitspack_lc_total_3p/JMX2_spectrum_GRB221009A_total_3p.fits\n",
      "-rw-rw-r-- 1 savchenk    40320 Feb 10 23:18 grbbase_fitspack_lc_total_3p/IBIS_arf_GRB221009A_total_3p.fits\n",
      "-rw-rw-r-- 1 savchenk  2606400 Feb 10 23:18 grbbase_fitspack_lc_total_3p/IBIS_rmf_GRB221009A_total_3p.fits\n",
      "-rw-rw-r-- 1 savchenk    17280 Feb 10 23:18 grbbase_fitspack_lc_total_3p/IBIS_spectrum_GRB221009A_total_3p.fits\n",
      "-rw-rw-r-- 1 savchenk  4011840 Feb 11 00:25 grbbase_fitspack_r2558/isgrihe_mosaic.fits\n",
      "-rw-rw-r-- 1 savchenk  4472640 Feb 22 21:32 grbbase_fitspack_total_3p/isgri_total_3p_mosaic.fits\n",
      "-rw-rw-r-- 1 savchenk 17262720 Feb 22 21:32 grbbase_fitspack_total_3p/jemx1_total_3p_mosaic.fits\n",
      "-rw-rw-r-- 1 savchenk 17262720 Feb 22 21:32 grbbase_fitspack_total_3p/jemx2_total_3p_mosaic.fits\n",
      "-rw-rw-r-- 1 savchenk 17262720 Feb 22 21:32 grbbase_fitspack_total_3p/jemx1_mosaic.fits\n",
      "-rw-rw-r-- 1 savchenk 17262720 Feb 22 21:32 grbbase_fitspack_total_3p/jemx2_mosaic.fits\n",
      "-rw-rw-r-- 1 savchenk  4472640 Feb 22 21:32 grbbase_fitspack_total_3p/isgri_mosaic.fits\n",
      "-rw-rw-r-- 1 savchenk    23040 Feb 22 21:32 grbbase_fitspack_total_3p/JMX1_lc_GRB221009A.fits\n",
      "-rw-rw-r-- 1 savchenk    23040 Feb 22 21:32 grbbase_fitspack_total_3p/JMX2_lc_GRB221009A.fits\n",
      "-rw-rw-r-- 1 savchenk    28800 Feb 22 21:32 grbbase_fitspack_total_3p/IBIS_lc_GRB221009A.fits\n",
      "-rw-rw-r-- 1 savchenk    17280 Feb 22 21:32 grbbase_fitspack_total_3p/JMX1_arf_GRB221009A_total_3p.fits\n",
      "-rw-rw-r-- 1 savchenk    95040 Feb 22 21:32 grbbase_fitspack_total_3p/JMX1_rmf_GRB221009A_total_3p.fits\n",
      "-rw-rw-r-- 1 savchenk    14400 Feb 22 21:32 grbbase_fitspack_total_3p/JMX1_spectrum_GRB221009A_total_3p.fits\n",
      "-rw-rw-r-- 1 savchenk    17280 Feb 22 21:32 grbbase_fitspack_total_3p/JMX2_arf_GRB221009A_total_3p.fits\n",
      "-rw-rw-r-- 1 savchenk    95040 Feb 22 21:32 grbbase_fitspack_total_3p/JMX2_rmf_GRB221009A_total_3p.fits\n",
      "-rw-rw-r-- 1 savchenk    14400 Feb 22 21:32 grbbase_fitspack_total_3p/JMX2_spectrum_GRB221009A_total_3p.fits\n",
      "-rw-rw-r-- 1 savchenk    40320 Feb 22 21:32 grbbase_fitspack_total_3p/IBIS_arf_GRB221009A_total_3p.fits\n",
      "-rw-rw-r-- 1 savchenk  2606400 Feb 22 21:32 grbbase_fitspack_total_3p/IBIS_rmf_GRB221009A_total_3p.fits\n",
      "-rw-rw-r-- 1 savchenk    17280 Feb 22 21:32 grbbase_fitspack_total_3p/IBIS_spectrum_GRB221009A_total_3p.fits\n",
      "-rw-rw-r-- 1 savchenk  4011840 Feb 23 10:51 grbbase_fitspack_r2558/isgri_r2558_mosaic.fits\n",
      "-rw-rw-r-- 1 savchenk 14541120 Feb 23 10:51 grbbase_fitspack_r2558/jemx1_r2558_mosaic.fits\n",
      "-rw-rw-r-- 1 savchenk 14541120 Feb 23 10:51 grbbase_fitspack_r2558/jemx2_r2558_mosaic.fits\n",
      "-rw-rw-r-- 1 savchenk 14541120 Feb 23 11:11 grbbase_fitspack_r2558/jemx1_mosaic.fits\n",
      "-rw-rw-r-- 1 savchenk 14541120 Feb 23 11:11 grbbase_fitspack_r2558/jemx2_mosaic.fits\n",
      "-rw-rw-r-- 1 savchenk  4011840 Feb 23 11:11 grbbase_fitspack_r2558/isgri_mosaic.fits\n",
      "-rw-rw-r-- 1 savchenk    14400 Feb 23 11:11 grbbase_fitspack_r2558/JMX1_lc_GRB221009A.fits\n",
      "-rw-rw-r-- 1 savchenk    14400 Feb 23 11:11 grbbase_fitspack_r2558/JMX2_lc_GRB221009A.fits\n",
      "-rw-rw-r-- 1 savchenk    14400 Feb 23 11:11 grbbase_fitspack_r2558/IBIS_lc_GRB221009A.fits\n",
      "-rw-rw-r-- 1 savchenk    17280 Feb 23 11:11 grbbase_fitspack_r2558/JMX1_arf_GRB221009A_r2558.fits\n",
      "-rw-rw-r-- 1 savchenk    95040 Feb 23 11:11 grbbase_fitspack_r2558/JMX1_rmf_GRB221009A_r2558.fits\n",
      "-rw-rw-r-- 1 savchenk    14400 Feb 23 11:11 grbbase_fitspack_r2558/JMX1_spectrum_GRB221009A_r2558.fits\n",
      "-rw-rw-r-- 1 savchenk    17280 Feb 23 11:11 grbbase_fitspack_r2558/JMX2_arf_GRB221009A_r2558.fits\n",
      "-rw-rw-r-- 1 savchenk    95040 Feb 23 11:11 grbbase_fitspack_r2558/JMX2_rmf_GRB221009A_r2558.fits\n",
      "-rw-rw-r-- 1 savchenk    14400 Feb 23 11:11 grbbase_fitspack_r2558/JMX2_spectrum_GRB221009A_r2558.fits\n",
      "-rw-rw-r-- 1 savchenk    40320 Feb 23 11:11 grbbase_fitspack_r2558/IBIS_arf_GRB221009A_r2558.fits\n",
      "-rw-rw-r-- 1 savchenk  2606400 Feb 23 11:11 grbbase_fitspack_r2558/IBIS_rmf_GRB221009A_r2558.fits\n",
      "-rw-rw-r-- 1 savchenk    17280 Feb 23 11:11 grbbase_fitspack_r2558/IBIS_spectrum_GRB221009A_r2558.fits\n",
      "-rw-rw-r-- 1 savchenk  4173120 Feb 23 15:05 grbbase_fitspack_r25589/isgri_r25589_mosaic.fits\n",
      "-rw-rw-r-- 1 savchenk 15621120 Feb 23 15:05 grbbase_fitspack_r25589/jemx1_r25589_mosaic.fits\n",
      "-rw-rw-r-- 1 savchenk 15577920 Feb 23 15:05 grbbase_fitspack_r25589/jemx2_r25589_mosaic.fits\n",
      "-rw-rw-r-- 1 savchenk 15621120 Feb 23 15:07 grbbase_fitspack_r25589/jemx1_mosaic.fits\n",
      "-rw-rw-r-- 1 savchenk 15577920 Feb 23 15:07 grbbase_fitspack_r25589/jemx2_mosaic.fits\n",
      "-rw-rw-r-- 1 savchenk  4173120 Feb 23 15:07 grbbase_fitspack_r25589/isgri_mosaic.fits\n",
      "-rw-rw-r-- 1 savchenk  4173120 Feb 23 15:07 grbbase_fitspack_r25589/isgrihe_mosaic.fits\n",
      "-rw-rw-r-- 1 savchenk    17280 Feb 23 15:07 grbbase_fitspack_r25589/JMX1_lc_GRB221009A.fits\n",
      "-rw-rw-r-- 1 savchenk    17280 Feb 23 15:07 grbbase_fitspack_r25589/JMX2_lc_GRB221009A.fits\n",
      "-rw-rw-r-- 1 savchenk    20160 Feb 23 15:07 grbbase_fitspack_r25589/IBIS_lc_GRB221009A.fits\n",
      "-rw-rw-r-- 1 savchenk    17280 Feb 23 15:07 grbbase_fitspack_r25589/JMX1_arf_GRB221009A_r25589.fits\n",
      "-rw-rw-r-- 1 savchenk    95040 Feb 23 15:07 grbbase_fitspack_r25589/JMX1_rmf_GRB221009A_r25589.fits\n",
      "-rw-rw-r-- 1 savchenk    14400 Feb 23 15:07 grbbase_fitspack_r25589/JMX1_spectrum_GRB221009A_r25589.fits\n",
      "-rw-rw-r-- 1 savchenk    17280 Feb 23 15:07 grbbase_fitspack_r25589/JMX2_arf_GRB221009A_r25589.fits\n",
      "-rw-rw-r-- 1 savchenk    95040 Feb 23 15:07 grbbase_fitspack_r25589/JMX2_rmf_GRB221009A_r25589.fits\n",
      "-rw-rw-r-- 1 savchenk    14400 Feb 23 15:07 grbbase_fitspack_r25589/JMX2_spectrum_GRB221009A_r25589.fits\n",
      "-rw-rw-r-- 1 savchenk    40320 Feb 23 15:07 grbbase_fitspack_r25589/IBIS_arf_GRB221009A_r25589.fits\n",
      "-rw-rw-r-- 1 savchenk  2606400 Feb 23 15:07 grbbase_fitspack_r25589/IBIS_rmf_GRB221009A_r25589.fits\n",
      "-rw-rw-r-- 1 savchenk    17280 Feb 23 15:07 grbbase_fitspack_r25589/IBIS_spectrum_GRB221009A_r25589.fits\n"
     ]
    }
   ],
   "source": [
    "import io\n",
    "import tempfile\n",
    "import base64\n",
    "import tarfile\n",
    "    \n",
    "with tarfile.open(v['output_values']['fits_pack_url'].replace(\"file://\", \"\")) as tar:\n",
    "    tar.extractall(path=f\"grbbase_fitspack_{focus_obs_name}\")\n",
    "\n",
    "!ls -ltor grbbase_fitspack*/*fits"
   ]
  },
  {
   "cell_type": "code",
   "execution_count": 5,
   "metadata": {},
   "outputs": [
    {
     "name": "stdout",
     "output_type": "stream",
     "text": [
      "-rw-rw-r-- 1 savchenk  4011840 Feb 11 00:25 grbbase_fitspack_r2558/isgrihe_mosaic.fits\n",
      "-rw-rw-r-- 1 savchenk  4011840 Feb 23 10:51 grbbase_fitspack_r2558/isgri_r2558_mosaic.fits\n",
      "-rw-rw-r-- 1 savchenk 14541120 Feb 23 10:51 grbbase_fitspack_r2558/jemx1_r2558_mosaic.fits\n",
      "-rw-rw-r-- 1 savchenk 14541120 Feb 23 10:51 grbbase_fitspack_r2558/jemx2_r2558_mosaic.fits\n",
      "-rw-rw-r-- 1 savchenk 14541120 Feb 23 11:11 grbbase_fitspack_r2558/jemx1_mosaic.fits\n",
      "-rw-rw-r-- 1 savchenk 14541120 Feb 23 11:11 grbbase_fitspack_r2558/jemx2_mosaic.fits\n",
      "-rw-rw-r-- 1 savchenk  4011840 Feb 23 11:11 grbbase_fitspack_r2558/isgri_mosaic.fits\n",
      "-rw-rw-r-- 1 savchenk    14400 Feb 23 11:11 grbbase_fitspack_r2558/JMX1_lc_GRB221009A.fits\n",
      "-rw-rw-r-- 1 savchenk    14400 Feb 23 11:11 grbbase_fitspack_r2558/JMX2_lc_GRB221009A.fits\n",
      "-rw-rw-r-- 1 savchenk    14400 Feb 23 11:11 grbbase_fitspack_r2558/IBIS_lc_GRB221009A.fits\n",
      "-rw-rw-r-- 1 savchenk    17280 Feb 23 11:11 grbbase_fitspack_r2558/JMX1_arf_GRB221009A_r2558.fits\n",
      "-rw-rw-r-- 1 savchenk    95040 Feb 23 11:11 grbbase_fitspack_r2558/JMX1_rmf_GRB221009A_r2558.fits\n",
      "-rw-rw-r-- 1 savchenk    14400 Feb 23 11:11 grbbase_fitspack_r2558/JMX1_spectrum_GRB221009A_r2558.fits\n",
      "-rw-rw-r-- 1 savchenk    17280 Feb 23 11:11 grbbase_fitspack_r2558/JMX2_arf_GRB221009A_r2558.fits\n",
      "-rw-rw-r-- 1 savchenk    95040 Feb 23 11:11 grbbase_fitspack_r2558/JMX2_rmf_GRB221009A_r2558.fits\n",
      "-rw-rw-r-- 1 savchenk    14400 Feb 23 11:11 grbbase_fitspack_r2558/JMX2_spectrum_GRB221009A_r2558.fits\n",
      "-rw-rw-r-- 1 savchenk    40320 Feb 23 11:11 grbbase_fitspack_r2558/IBIS_arf_GRB221009A_r2558.fits\n",
      "-rw-rw-r-- 1 savchenk  2606400 Feb 23 11:11 grbbase_fitspack_r2558/IBIS_rmf_GRB221009A_r2558.fits\n",
      "-rw-rw-r-- 1 savchenk    17280 Feb 23 11:11 grbbase_fitspack_r2558/IBIS_spectrum_GRB221009A_r2558.fits\n"
     ]
    },
    {
     "data": {
      "text/plain": [
       "<ogip.spec.PHAI at 0x7f1a3a85ec70>"
      ]
     },
     "execution_count": 5,
     "metadata": {},
     "output_type": "execute_result"
    }
   ],
   "source": [
    "!ls -lotr grbbase_fitspack_{focus_obs_name}/*\n",
    "\n",
    "jmx1_pha = ogip.core.open_something(f\"grbbase_fitspack_{focus_obs_name}/JMX1_spectrum_GRB221009A_{focus_obs_name}.fits\")\n",
    "jmx1_pha"
   ]
  },
  {
   "cell_type": "code",
   "execution_count": 6,
   "metadata": {},
   "outputs": [
    {
     "data": {
      "text/plain": [
       "(('2022-10-10T14:28:43.642', '2022-10-11T04:20:28.674'),\n",
       " ('2022-10-10T14:28:43.642', '2022-10-11T05:32:56.677'),\n",
       " ('2022-10-08T17:45:28.184', '2022-10-14T01:28:14.184'))"
      ]
     },
     "execution_count": 6,
     "metadata": {},
     "output_type": "execute_result"
    }
   ],
   "source": [
    "import ogip.core\n",
    "\n",
    "from ogip.spec import PHAI, RMF, rebin, log_bins\n",
    "from ogip.tools import plot as plot_spec\n",
    "\n",
    "\n",
    "import requests\n",
    "\n",
    "r8_t1, r8_t2 = map(float, requests.get(f'https://www.astro.unige.ch/mmoda/dispatch-data/gw/timesystem/api/v1.0/converttime/REVNUM/2558/IJD').text.split()[1:])\n",
    "r9_t1, r9_t2 = map(float, requests.get(f'https://www.astro.unige.ch/mmoda/dispatch-data/gw/timesystem/api/v1.0/converttime/REVNUM/2559/IJD').text.split()[1:])\n",
    "\n",
    "\n",
    "isgri_pha = PHAI.from_file_name(f\"grbbase_fitspack_{focus_obs_name}/IBIS_spectrum_GRB221009A_{focus_obs_name}.fits\")\n",
    "isgri_rmf = RMF.from_file_name(f\"grbbase_fitspack_{focus_obs_name}/IBIS_rmf_GRB221009A_{focus_obs_name}.fits\")\n",
    "# averaged over rev 2558 and 2559\n",
    "spi_rmf = ogip.core.open_something(\"spi/rmf_GRB2rGRB2022sgrsp10aCVGRB_photo_GRB221009A_avrg.fits\")\n",
    "spi_pha = ogip.core.open_something(\"spi/spectrum_GRB2rGRB2022sgrsp10aCVGRB_photo_GRB221009A_avrg.fits\")\n",
    "\n",
    "jmx1_pha = ogip.core.open_something(f\"grbbase_fitspack_{focus_obs_name}/JMX1_spectrum_GRB221009A_{focus_obs_name}.fits\")\n",
    "jmx1_rmf = ogip.core.open_something(f\"grbbase_fitspack_{focus_obs_name}/JMX1_rmf_GRB221009A_{focus_obs_name}.fits\")\n",
    "jmx1_arf = ogip.core.open_something(f\"grbbase_fitspack_{focus_obs_name}/JMX1_arf_GRB221009A_{focus_obs_name}.fits\")\n",
    "\n",
    "jmx2_pha = ogip.core.open_something(f\"grbbase_fitspack_{focus_obs_name}//JMX2_spectrum_GRB221009A_{focus_obs_name}.fits\")\n",
    "jmx2_rmf = ogip.core.open_something(f\"grbbase_fitspack_{focus_obs_name}//JMX2_rmf_GRB221009A_{focus_obs_name}.fits\")\n",
    "jmx2_arf = ogip.core.open_something(f\"grbbase_fitspack_{focus_obs_name}//JMX2_arf_GRB221009A_{focus_obs_name}.fits\")\n",
    "\n",
    "\n",
    "from astropy.time import Time\n",
    "\n",
    "ijd2isot = lambda ijd: Time(ijd + 51544, format='mjd').isot\n",
    "spec2isot12 = lambda spec: (ijd2isot(fits.open(spec.filename)[1].header['TSTART']), ijd2isot(fits.open(spec.filename)[1].header['TSTOP']))\n",
    "\n",
    "spec2isot12(jmx1_pha), spec2isot12(isgri_pha), (ijd2isot(r8_t1), ijd2isot(r9_t2))"
   ]
  },
  {
   "cell_type": "code",
   "execution_count": null,
   "metadata": {},
   "outputs": [],
   "source": []
  },
  {
   "cell_type": "code",
   "execution_count": 7,
   "metadata": {},
   "outputs": [
    {
     "name": "stdout",
     "output_type": "stream",
     "text": [
      "[ 1.e-09 -2.e+00]\n",
      "[ 1.1e-08 -2.0e+00]\n",
      "[ 1.00000000e-09 -1.99999999e+00]\n",
      "[ 1. -2.]\n",
      "[ 1.00000001 -2.        ]\n",
      "[ 1.         -1.99999999]\n",
      "[ 4.71508971e-05 -2.00000000e+00]\n",
      "[ 4.71608971e-05 -2.00000000e+00]\n",
      "[ 4.71508971e-05 -1.99999999e+00]\n",
      "[ 1.41374885e-04 -2.00000000e+00]\n",
      "[ 1.41384885e-04 -2.00000000e+00]\n",
      "[ 1.41374885e-04 -1.99999999e+00]\n",
      "[ 1.41421998e-04 -2.00000000e+00]\n",
      "[ 1.41431998e-04 -2.00000000e+00]\n",
      "[ 1.41421998e-04 -1.99999999e+00]\n",
      "[ 1.41429733e-04 -2.00000000e+00]\n",
      "[ 1.41439733e-04 -2.00000000e+00]\n",
      "[ 1.41429733e-04 -1.99999999e+00]\n",
      "[ 1.41423178e-04 -2.00000000e+00]\n",
      "[ 1.41433178e-04 -2.00000000e+00]\n",
      "[ 1.41423178e-04 -1.99999999e+00]\n",
      "[ 1.41423913e-04 -2.00000000e+00]\n",
      "[ 1.41433913e-04 -2.00000000e+00]\n",
      "[ 1.41423913e-04 -1.99999999e+00]\n",
      "[ 1.4142318e-04 -2.0000000e+00]\n",
      "[ 1.4143318e-04 -2.0000000e+00]\n",
      "[ 1.41423180e-04 -1.99999999e+00]\n",
      "[ 1.41423179e-04 -2.00000000e+00]\n",
      "[ 1.41433179e-04 -2.00000000e+00]\n",
      "[ 1.41423179e-04 -1.99999999e+00]\n",
      "[ 1.41423178e-04 -2.00000000e+00]\n",
      "[ 1.41433178e-04 -2.00000000e+00]\n",
      "[ 1.41423178e-04 -1.99999999e+00]\n",
      "[ 1.41423178e-04 -2.00000000e+00]\n",
      "[ 1.41433178e-04 -2.00000000e+00]\n",
      "[ 1.41423178e-04 -1.99999999e+00]\n",
      "[ 1.41423178e-04 -2.00000000e+00]\n",
      "[ 1.41433178e-04 -2.00000000e+00]\n",
      "[ 1.41423178e-04 -1.99999999e+00]\n",
      "[ 1.41423178e-04 -2.00000000e+00]\n",
      "[ 1.41433178e-04 -2.00000000e+00]\n",
      "[ 1.41423178e-04 -1.99999999e+00]\n",
      "[ 1.41423178e-04 -2.00000000e+00]\n",
      "[ 1.41433178e-04 -2.00000000e+00]\n",
      "[ 1.41423178e-04 -1.99999999e+00]\n",
      "[ 1.41423178e-04 -2.00000000e+00]\n",
      "[ 1.41433178e-04 -2.00000000e+00]\n",
      "[ 1.41423178e-04 -1.99999999e+00]\n",
      "[ 1.41423178e-04 -2.00000000e+00]\n",
      "[ 1.41433178e-04 -2.00000000e+00]\n",
      "[ 1.41423178e-04 -1.99999999e+00]\n",
      "[ 1.41423178e-04 -2.00000000e+00]\n",
      "[ 1.41433178e-04 -2.00000000e+00]\n",
      "[ 1.41423178e-04 -1.99999999e+00]\n",
      "      fun: -178.64331122863993\n",
      " hess_inv: <2x2 LbfgsInvHessProduct with dtype=float64>\n",
      "      jac: array([-76.85521837,   0.        ])\n",
      "  message: b'CONVERGENCE: REL_REDUCTION_OF_F_<=_FACTR*EPSMCH'\n",
      "     nfev: 54\n",
      "      nit: 5\n",
      "     njev: 18\n",
      "   status: 0\n",
      "  success: True\n",
      "        x: array([ 1.41423178e-04, -2.00000000e+00])\n"
     ]
    },
    {
     "data": {
      "image/png": "[encoded data removed]",
      "text/plain": [
       "<IPython.core.display.Image object>"
      ]
     },
     "execution_count": 7,
     "metadata": {},
     "output_type": "execute_result"
    }
   ],
   "source": [
    "import ogip.tools\n",
    "\n",
    "import importlib\n",
    "importlib.reload(ogip.tools)\n",
    "from astropy import units as u\n",
    "\n",
    "\n",
    "from ogip.spec import PHAI, RMF, rebin, log_bins\n",
    "from ogip.tools import plot as plot_spec\n",
    "\n",
    "\n",
    "\n",
    "# isgri_pha = PHAI.from_file_name(\"IBIS_spectrum_GRB221009A.fits\")\n",
    "# isgri_rmf = RMF.from_file_name(\"IBIS_rmf_GRB221009A.fits\")\n",
    "\n",
    "isgri_pha_rebinned, isgri_rmf_rebinned = rebin(isgri_pha, isgri_rmf, log_bins(10, 25, 700))\n",
    "\n",
    "spi_pha_rebinned, spi_rmf_rebinned = rebin(spi_pha, spi_rmf, log_bins(3, 25, 1000))\n",
    "# spi_pha_rebinned, spi_rmf_rebinned = rebin(spi_pha, spi_rmf, log_bins(5, 25, 600))\n",
    "\n",
    "\n",
    "model = lambda x:(7e-5*(x/25.)**-2)\n",
    "\n",
    "import logging\n",
    "logger = logging.getLogger()\n",
    "\n",
    "def model_generator(p):\n",
    "    logger.debug(\"generating model for %s\", p)\n",
    "\n",
    "    def mdl(x):\n",
    "        logger.debug(\"evaluating model for %s\", p)\n",
    "        if len(p) == 1:\n",
    "            return (p[0]*(x/25.)**-2)\n",
    "        else:\n",
    "            return (p[0]*(x/25.)**p[1])\n",
    "\n",
    "    return mdl\n",
    "\n",
    "allspec = [\n",
    "    (jmx1_pha, jmx1_rmf, jmx1_arf, (jmx1_rmf._e_min > 2) & (jmx1_rmf._e_min < 15)),\n",
    "    (jmx2_pha, jmx2_rmf, jmx2_arf, (jmx2_rmf._e_min > 2) & (jmx2_rmf._e_min < 15)),\n",
    "    (isgri_pha, isgri_rmf, None, (isgri_rmf._e_min > 28) & (isgri_rmf._e_min < 200)),\n",
    "    (spi_pha, spi_rmf, None, (spi_rmf._e_min > 15) & (spi_rmf._e_min < 300)),\n",
    "]\n",
    "\n",
    "import emcee\n",
    "\n",
    "p0 = [1e-9, -2]\n",
    "nwalkers = 100\n",
    "nsampler = 10\n",
    "\n",
    "def log_prob(p):\n",
    "    r = 0\n",
    "    for _ in allspec:\n",
    "        r += ogip.tools.get_mloglike(_[0], model_generator(p), rmf=_[1], arf=_[2], mask=_[3])\n",
    "    \n",
    "    return r\n",
    "\n",
    "# sampler = emcee.EnsembleSampler(nwalkers, len(p0), log_prob) #, pool=pool)\n",
    "# sampler.run_mcmc(p0, nsampler, progress=True)\n",
    "\n",
    "# fit_result, fitted_model = ogip.tools.fit(model_generator, [7e-5, -1.9], jmx1_pha, jmx1_rmf, None, \n",
    "#                                           mask=(jmx1_rmf._e_min > 5) & (jmx1_rmf._e_min < 20))\n",
    "\n",
    "# model_generator = lambda p:(lambda x:(p[0]*(x/25.)**-2))\n",
    "# fit_result, fitted_model = ogip.tools.fit(model_generator, [7e-10], isgri_pha, isgri_rmf, None, \n",
    "#                                           mask=(isgri_rmf._e_min > 35) & (isgri_rmf._e_min < 100))\n",
    "\n",
    "\n",
    "# model_generator = lambda p:(lambda x:(p[0]*(x/25.)**-2))\n",
    "fit_result, fitted_model = ogip.tools.fit(model_generator, [1e-9, -2], \n",
    "                                          allspec,\n",
    "                                        #   method='L-BFGS-B'\n",
    "                                          method='L-BFGS-B'\n",
    "                                          )\n",
    "\n",
    "print(fit_result)        \n",
    "\n",
    "model = fitted_model                                        \n",
    "\n",
    "ogip.tools.convolve(fitted_model, jmx1_rmf, jmx1_arf)\n",
    "\n",
    "for unfolded in True, False:\n",
    "# for unfolded in False,:\n",
    "    f = plt.figure(figsize=(8, 4))\n",
    "\n",
    "    \n",
    "# for unfolded in False, :\n",
    "    e_power = 2 if unfolded else 0\n",
    "\n",
    "    import numpy as np\n",
    "    en = np.logspace(np.log10(3), 3)\n",
    "    plt.plot(en, fitted_model(en)*en**2*u.keV.to(u.erg), lw=3, c='k', alpha=0.5, ls=\"--\")\n",
    "\n",
    "    from astropy import units as u\n",
    "    erg_in_keV = u.keV.to(u.erg)\n",
    "\n",
    "    # plot_spec(isgri_pha, model, isgri_rmf, fig=f, label_prefix=\"ISGRI\", unfolded=unfolded, e_power=e_power)\n",
    "    plot_spec(isgri_pha_rebinned, model, isgri_rmf_rebinned, fig=f, unfolded=unfolded, e_power=e_power, scale_factor=erg_in_keV,\n",
    "            plot_kwargs=dict(label=\"ISGRI\"))\n",
    "\n",
    "    isgri_pha_rebinned.to_fits(\"isgri_rebinned_pha.fits\")\n",
    "    isgri_rmf_rebinned.to_fits(\"isgri_rebinned_rmf.fits\")\n",
    "\n",
    "    # plot_spec(spi_pha_rebinned, model, spi_rmf_rebinned, fig=f, label_prefix=\"SPI\", unfolded=unfolded, e_power=e_power)\n",
    "\n",
    "    if 'r25589' in focus_obs_name:\n",
    "        plot_spec(spi_pha, model, spi_rmf, fig=f, plot_kwargs=dict(label=\"SPI\"), unfolded=unfolded, e_power=e_power, scale_factor=erg_in_keV)\n",
    "            \n",
    "    plot_spec(jmx1_pha, model, jmx1_rmf, arf=jmx1_arf, fig=f, unfolded=unfolded, e_power=e_power, scale_factor=erg_in_keV, \n",
    "            plot_kwargs=dict(label=\"JEM-X1\"))\n",
    "    plot_spec(jmx2_pha, model, jmx2_rmf, arf=jmx2_arf, fig=f, label_prefix=\"JMX2\", unfolded=unfolded, e_power=e_power, scale_factor=erg_in_keV,\n",
    "            plot_kwargs=dict(label=\"JEM-X2\"))\n",
    "\n",
    "    # early and total jemxX spec are weird\n",
    "\n",
    "    if unfolded:\n",
    "        plt.ylabel(f\"erg cm$^{{-2}}$ s$^{{-1}}$\" + (f\" keV$^{{{e_power-2}}}$\" if e_power!=2 else \"\"))\n",
    "    else:\n",
    "        plt.ylabel(\"counts/s/keV\")\n",
    "\n",
    "    plt.xlabel(\"keV\")\n",
    "\n",
    "    plt.xlim([1, 5e3])\n",
    "    plt.ylim([1e-11, 1e-8])\n",
    "    # plt.loglog()\n",
    "\n",
    "    plt.grid(alpha=0.5)\n",
    "\n",
    "    # plt.title(f\"{focus_obs_name} {spec2isot12(jmx1_pha)}\\n {spec2isot12(isgri_pha)} {fit_result.x} {fitted_model}\")\n",
    "    t1, t2 = spec2isot12(jmx1_pha)\n",
    "    t2pl = lambda t:t.replace(\"T\", \" \")[:16]\n",
    "    plt.title(f\"{t2pl(t1)} - {t2pl(t2)}\")\n",
    "\n",
    "    plt.legend()\n",
    "\n",
    "\n",
    "\n",
    "\n",
    "    fn_png = f\"spec_afterglow_counts_{'un' if unfolded else ''}folded.png\"\n",
    "    plt.savefig(fn_png.replace(\".png\", \".pdf\"))\n",
    "    plt.savefig(fn_png)\n",
    "\n",
    "\n",
    "from IPython.display import Image\n",
    "Image(\"spec_afterglow_counts_unfolded.png\")\n",
    "# Image(\"spec_afterglow_counts_folded.png\")\n",
    "\n",
    "    # TODO: add in grey other data\n",
    "    # TODO: plot by period"
   ]
  },
  {
   "cell_type": "code",
   "execution_count": 8,
   "metadata": {},
   "outputs": [
    {
     "data": {
      "text/plain": [
       "5.947440972358703e-10"
      ]
     },
     "execution_count": 8,
     "metadata": {},
     "output_type": "execute_result"
    }
   ],
   "source": [
    "from scipy.integrate import quad\n",
    "flux_3_200_keV_ecs = quad(lambda x:fitted_model(x)*x*u.keV.to(u.erg), 3, 200)[0]\n",
    "flux_3_200_keV_ecs"
   ]
  },
  {
   "cell_type": "code",
   "execution_count": 9,
   "metadata": {},
   "outputs": [],
   "source": [
    "if focus_obs_name == \"r2558\":\n",
    "    \"\"\"\n",
    "    Parameter   Confidence Range (2.706)\n",
    "     1      1.98567      2.13624    (-0.0718247,0.0787513)\n",
    "\n",
    "    Error range   0.02757 - 0.02998    (4.498e-10 - 5.034e-10)  (68.00% confidence)\n",
    "    \"\"\""
   ]
  },
  {
   "cell_type": "code",
   "execution_count": 10,
   "metadata": {
    "tags": [
     "outputs"
    ]
   },
   "outputs": [],
   "source": [
    "sn_max = 0 # np.max(d['RATE'] / d['STAT_ERR'])\n",
    "sn = 0 # np.max(d['RATE'] / d['STAT_ERR'])\n",
    "sn_total = 0 # np.sum(d['RATE']) / np.sum(d['STAT_ERR']**2)**0.5\n",
    "exposure = 0 # spec[2].header['EXPOSURE']\n",
    "ag_spec=\"spec_afterglow_counts_unfolded.pdf\"\n",
    "flux_3_200_keV_ecs=flux_3_200_keV_ecs"
   ]
  }
 ],
 "metadata": {
  "kernelspec": {
   "display_name": "base",
   "language": "python",
   "name": "python3"
  },
  "language_info": {
   "codemirror_mode": {
    "name": "ipython",
    "version": 3
   },
   "file_extension": ".py",
   "mimetype": "text/x-python",
   "name": "python",
   "nbconvert_exporter": "python",
   "pygments_lexer": "ipython3",
   "version": "3.9.13"
  },
  "vscode": {
   "interpreter": {
    "hash": "1892832a55cb9b21d693a1e0afb7563f6ad424a1b7b3da21728b3ea0874fe733"
   }
  }
 },
 "nbformat": 4,
 "nbformat_minor": 2
}
