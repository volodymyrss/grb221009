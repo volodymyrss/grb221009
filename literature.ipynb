{
 "cells": [
  {
   "cell_type": "code",
   "execution_count": 1,
   "metadata": {
    "tags": [
     "parameters"
    ]
   },
   "outputs": [],
   "source": [
    "# oda:version \"v0.1.3\""
   ]
  },
  {
   "cell_type": "code",
   "execution_count": 2,
   "metadata": {},
   "outputs": [
    {
     "name": "stdout",
     "output_type": "stream",
     "text": [
      "redshift 0.151 ref gcn:32648\n",
      "jet_break_s 79000 ref arXiv:2302.03642\n"
     ]
    }
   ],
   "source": [
    "refs = {\n",
    "    'gcn:32648': {\n",
    "        'redshift': 0.151\n",
    "    },\n",
    "    'arXiv:2302.03642': {\n",
    "        'jet_break_s': 79000 \n",
    "    }\n",
    "}\n",
    "\n",
    "\n",
    "facts = {\n",
    "    'distance_Mpc': 726.5147796385771, \n",
    "    'eiso_erg': 2.0e+54, 'eiso_erg_ref': 'gcn32648',\n",
    "    # https://ui.adsabs.harvard.edu/abs/2023ApJ...946L..31B/abstract Burns BOAT\n",
    "    'grb_waiting_time_yr': 10000, \n",
    "    # williamsGRB221009ADiscovery2023a\n",
    "    'opening_angle_deg': 4, \n",
    "}\n",
    "\n",
    "for r, d in refs.items():\n",
    "    for k, v in d.items():\n",
    "        print(k, v, \"ref\", r)\n",
    "        facts[k] = v\n",
    "        facts[k + \"_ref\"] = r\n"
   ]
  },
  {
   "cell_type": "code",
   "execution_count": 3,
   "metadata": {},
   "outputs": [],
   "source": [
    "from astropy.time import Time\n",
    "facts['T0_isot'] = '2022-10-09T13:17:00'\n",
    "facts['T0_ijd'] = Time(facts['T0_isot']).mjd - 51544"
   ]
  },
  {
   "cell_type": "code",
   "execution_count": 4,
   "metadata": {},
   "outputs": [
    {
     "data": {
      "text/plain": [
       "{'distance_Mpc': 726.5147796385771,\n",
       " 'eiso_erg': 2e+54,\n",
       " 'eiso_erg_ref': 'gcn32648',\n",
       " 'grb_waiting_time_yr': 10000,\n",
       " 'opening_angle_deg': 3.5,\n",
       " 'redshift': 0.151,\n",
       " 'redshift_ref': 'gcn:32648',\n",
       " 'jet_break_s': 79000,\n",
       " 'jet_break_s_ref': 'arXiv:2302.03642',\n",
       " 'T0_isot': '2022-10-09T13:17:00',\n",
       " 'T0_ijd': 8317.553472222222}"
      ]
     },
     "execution_count": 4,
     "metadata": {},
     "output_type": "execute_result"
    }
   ],
   "source": [
    "facts"
   ]
  },
  {
   "cell_type": "code",
   "execution_count": 5,
   "metadata": {
    "tags": [
     "outputs"
    ]
   },
   "outputs": [],
   "source": [
    "facts = facts"
   ]
  }
 ],
 "metadata": {
  "kernelspec": {
   "display_name": "Python 3.10.6 64-bit",
   "language": "python",
   "name": "python3"
  },
  "language_info": {
   "codemirror_mode": {
    "name": "ipython",
    "version": 3
   },
   "file_extension": ".py",
   "mimetype": "text/x-python",
   "name": "python",
   "nbconvert_exporter": "python",
   "pygments_lexer": "ipython3",
   "version": "3.10.12"
  },
  "orig_nbformat": 4,
  "vscode": {
   "interpreter": {
    "hash": "916dbcbb3f70747c44a77c7bcd40155683ae19c65e1c03b4aa3499c5328201f1"
   }
  }
 },
 "nbformat": 4,
 "nbformat_minor": 2
}
