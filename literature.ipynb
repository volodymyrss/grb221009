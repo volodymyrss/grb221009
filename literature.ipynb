{
 "cells": [
  {
   "cell_type": "code",
   "execution_count": null,
   "metadata": {
    "tags": [
     "parameters"
    ]
   },
   "outputs": [],
   "source": [
    "# oda:version \"v0.1.0\""
   ]
  },
  {
   "cell_type": "code",
   "execution_count": null,
   "metadata": {
    "tags": [
     "outputs"
    ]
   },
   "outputs": [],
   "source": [
    "\n",
    "facts = {\n",
    "    'distance_Mpc': 726.5147796385771, \n",
    "    'eiso_erg': 2.0e+54, 'eiso_erg_ref': 'gcn32648',\n",
    "    'grb_waiting_time_yr': 500, \n",
    "    'opening_angle_deg': 3.5, \n",
    "    'redshift': 0.151, \n",
    "    'redshift_ref': 'gcn32648'\n",
    "}\n",
    "\n",
    "gcn32648 = {\n",
    "    'redshift': 0.151\n",
    "}\n"
   ]
  }
 ],
 "metadata": {
  "language_info": {
   "name": "python"
  },
  "orig_nbformat": 4
 },
 "nbformat": 4,
 "nbformat_minor": 2
}
