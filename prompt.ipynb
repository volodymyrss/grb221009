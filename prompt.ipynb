{
 "cells": [
  {
   "cell_type": "code",
   "execution_count": 1,
   "id": "320ddc38",
   "metadata": {},
   "outputs": [],
   "source": [
    "# ! pip install --upgrade pip\n",
    "# ! pip install --upgrade git+https://github.com/oda-hub/oda_api@request-list pandas\n",
    "# ! pip install linked-data-latex\n",
    "# ! pip install ruamel.yaml\n",
    "# ! pip install pymosaic-fits\n",
    "\n",
    "\n",
    "import oda_api.api\n",
    "import oda_api.token\n",
    "import oda_api.plot_tools\n",
    "import requests\n",
    "import logging\n",
    "from matplotlib import pylab as plt\n",
    "from astropy.coordinates import SkyCoord\n",
    "from astropy import units as u\n",
    "from astropy.time import Time\n",
    "import pandas as pd\n",
    "import numpy as np\n",
    "from ddpaper.draftdata import DraftData\n",
    "import io\n",
    "\n",
    "# https://gcn.gsfc.nasa.gov/gcn3/32634.gcn3"
   ]
  },
  {
   "cell_type": "code",
   "execution_count": 2,
   "id": "ef81a64f",
   "metadata": {},
   "outputs": [],
   "source": [
    "# !pip install ~/linked-data-latex"
   ]
  },
  {
   "cell_type": "code",
   "execution_count": 3,
   "id": "eef3d765",
   "metadata": {
    "tags": [
     "parameters"
    ]
   },
   "outputs": [],
   "source": [
    "# oda:version \"dev1.1.33\""
   ]
  },
  {
   "cell_type": "code",
   "execution_count": 4,
   "id": "eaca445d",
   "metadata": {},
   "outputs": [],
   "source": [
    "#TODO: statistics on odaf failures at the and of compute"
   ]
  },
  {
   "cell_type": "code",
   "execution_count": 5,
   "id": "c1126769",
   "metadata": {},
   "outputs": [],
   "source": [
    "# #slightly more verbose\n",
    "logging.getLogger().setLevel(logging.INFO)\n",
    "# #all messages\n",
    "#logging.getLogger().setLevel(logging.DEBUG)\n",
    "\n",
    "logging.getLogger('oda_api').addHandler(logging.StreamHandler())"
   ]
  },
  {
   "cell_type": "code",
   "execution_count": 6,
   "id": "3d01be61",
   "metadata": {},
   "outputs": [],
   "source": [
    "# 120711 https://www.aanda.org/articles/aa/pdf/2014/07/aa20872-12.pdf\n",
    "# https://www.cosmos.esa.int/web/integral/schedule-information"
   ]
  },
  {
   "cell_type": "code",
   "execution_count": 7,
   "id": "9c1ce92c",
   "metadata": {},
   "outputs": [],
   "source": [
    "from matplotlib import pylab as plt\n",
    "from astropy.coordinates import SkyCoord\n",
    "from astropy import units as u\n",
    "from astropy.time import Time\n",
    "import pandas as pd\n",
    "import numpy as np"
   ]
  },
  {
   "cell_type": "code",
   "execution_count": 8,
   "id": "5f5a14d7",
   "metadata": {},
   "outputs": [],
   "source": [
    "# !pip install requests-cache\n",
    "import requests_cache\n",
    "\n",
    "import pathlib\n",
    "import os\n",
    "\n",
    "cached_session = requests_cache.CachedSession(pathlib.Path(os.getenv('HOME')) / '.cache/odacache', backend='filesystem', expire_after=None)"
   ]
  },
  {
   "cell_type": "code",
   "execution_count": 9,
   "id": "58749051",
   "metadata": {},
   "outputs": [
    {
     "data": {
      "text/plain": [
       "<SkyCoord (ICRS): (ra, dec) in deg\n",
       "    (288.26429167, 19.77308333)>"
      ]
     },
     "execution_count": 9,
     "metadata": {},
     "output_type": "execute_result"
    }
   ],
   "source": [
    "T0_isot = \"2022-10-09T13:17:00\"\n",
    "T0_ijd = Time(T0_isot, scale='utc').tt.mjd - 51544\n",
    "\n",
    "src_coord = SkyCoord(\"19h 13m 03.43s\", \"+19d 46m 23.1s\", unit=u.deg)\n",
    "source_name = \"GRB221009A\"\n",
    "src_coord"
   ]
  },
  {
   "cell_type": "code",
   "execution_count": 10,
   "id": "166ad849",
   "metadata": {},
   "outputs": [
    {
     "data": {
      "text/plain": [
       "0.0"
      ]
     },
     "execution_count": 10,
     "metadata": {},
     "output_type": "execute_result"
    }
   ],
   "source": [
    "float(Time(51544, format='mjd', scale='ut1').mjd) - Time(51544, format='mjd', scale='tai').mjd"
   ]
  },
  {
   "cell_type": "code",
   "execution_count": 11,
   "id": "73fd6324",
   "metadata": {},
   "outputs": [
    {
     "data": {
      "text/plain": [
       "(65.81131216259752, 67.68686829882438)"
      ]
     },
     "execution_count": 11,
     "metadata": {},
     "output_type": "execute_result"
    }
   ],
   "source": [
    "with DraftData() as dd:\n",
    "    dd['sc'] = cached_session.get(f\"https://www.astro.unige.ch/mmoda/dispatch-data/gw/scsystem/api/v1.0/sc/{T0_isot}/{src_coord.ra.deg}/{src_coord.dec.deg}\").json()\n",
    "    dd['sc_second_pointing'] = cached_session.get(f\"https://www.astro.unige.ch/mmoda/dispatch-data/gw/scsystem/api/v1.0/sc/{Time(Time(T0_isot).mjd + 700./24/3600, format='mjd').isot}/{src_coord.ra.deg}/{src_coord.dec.deg}\").json()\n",
    "\n",
    "dd['sc']['theta'],dd['sc_second_pointing']['theta']"
   ]
  },
  {
   "cell_type": "code",
   "execution_count": 12,
   "id": "5bc8bd6f",
   "metadata": {},
   "outputs": [
    {
     "data": {
      "text/html": [
       "<div>\n",
       "<style scoped>\n",
       "    .dataframe tbody tr th:only-of-type {\n",
       "        vertical-align: middle;\n",
       "    }\n",
       "\n",
       "    .dataframe tbody tr th {\n",
       "        vertical-align: top;\n",
       "    }\n",
       "\n",
       "    .dataframe thead th {\n",
       "        text-align: right;\n",
       "    }\n",
       "</style>\n",
       "<table border=\"1\" class=\"dataframe\">\n",
       "  <thead>\n",
       "    <tr style=\"text-align: right;\">\n",
       "      <th></th>\n",
       "      <th>t</th>\n",
       "      <th>dt</th>\n",
       "      <th>c</th>\n",
       "      <th>ds</th>\n",
       "    </tr>\n",
       "  </thead>\n",
       "  <tbody>\n",
       "    <tr>\n",
       "      <th>0</th>\n",
       "      <td>8317.531125</td>\n",
       "      <td>0.001364</td>\n",
       "      <td>5264.0</td>\n",
       "      <td>45820.001364</td>\n",
       "    </tr>\n",
       "    <tr>\n",
       "      <th>1</th>\n",
       "      <td>8317.531125</td>\n",
       "      <td>0.051363</td>\n",
       "      <td>5102.0</td>\n",
       "      <td>45820.051363</td>\n",
       "    </tr>\n",
       "    <tr>\n",
       "      <th>2</th>\n",
       "      <td>8317.531126</td>\n",
       "      <td>0.101364</td>\n",
       "      <td>5234.0</td>\n",
       "      <td>45820.101364</td>\n",
       "    </tr>\n",
       "    <tr>\n",
       "      <th>3</th>\n",
       "      <td>8317.531127</td>\n",
       "      <td>0.151363</td>\n",
       "      <td>5374.0</td>\n",
       "      <td>45820.151363</td>\n",
       "    </tr>\n",
       "    <tr>\n",
       "      <th>4</th>\n",
       "      <td>8317.531127</td>\n",
       "      <td>0.201365</td>\n",
       "      <td>5244.0</td>\n",
       "      <td>45820.201364</td>\n",
       "    </tr>\n",
       "    <tr>\n",
       "      <th>...</th>\n",
       "      <td>...</td>\n",
       "      <td>...</td>\n",
       "      <td>...</td>\n",
       "      <td>...</td>\n",
       "    </tr>\n",
       "    <tr>\n",
       "      <th>79995</th>\n",
       "      <td>8317.577418</td>\n",
       "      <td>3999.754042</td>\n",
       "      <td>5322.0</td>\n",
       "      <td>49819.754042</td>\n",
       "    </tr>\n",
       "    <tr>\n",
       "      <th>79996</th>\n",
       "      <td>8317.577419</td>\n",
       "      <td>3999.804041</td>\n",
       "      <td>5130.0</td>\n",
       "      <td>49819.804041</td>\n",
       "    </tr>\n",
       "    <tr>\n",
       "      <th>79997</th>\n",
       "      <td>8317.577419</td>\n",
       "      <td>3999.854042</td>\n",
       "      <td>5376.0</td>\n",
       "      <td>49819.854042</td>\n",
       "    </tr>\n",
       "    <tr>\n",
       "      <th>79998</th>\n",
       "      <td>8317.577420</td>\n",
       "      <td>3999.904042</td>\n",
       "      <td>5426.0</td>\n",
       "      <td>49819.904041</td>\n",
       "    </tr>\n",
       "    <tr>\n",
       "      <th>79999</th>\n",
       "      <td>8317.577421</td>\n",
       "      <td>3999.954043</td>\n",
       "      <td>5292.0</td>\n",
       "      <td>49819.954043</td>\n",
       "    </tr>\n",
       "  </tbody>\n",
       "</table>\n",
       "<p>80000 rows × 4 columns</p>\n",
       "</div>"
      ],
      "text/plain": [
       "                 t           dt       c            ds\n",
       "0      8317.531125     0.001364  5264.0  45820.001364\n",
       "1      8317.531125     0.051363  5102.0  45820.051363\n",
       "2      8317.531126     0.101364  5234.0  45820.101364\n",
       "3      8317.531127     0.151363  5374.0  45820.151363\n",
       "4      8317.531127     0.201365  5244.0  45820.201364\n",
       "...            ...          ...     ...           ...\n",
       "79995  8317.577418  3999.754042  5322.0  49819.754042\n",
       "79996  8317.577419  3999.804041  5130.0  49819.804041\n",
       "79997  8317.577419  3999.854042  5376.0  49819.854042\n",
       "79998  8317.577420  3999.904042  5426.0  49819.904041\n",
       "79999  8317.577421  3999.954043  5292.0  49819.954043\n",
       "\n",
       "[80000 rows x 4 columns]"
      ]
     },
     "execution_count": 12,
     "metadata": {},
     "output_type": "execute_result"
    }
   ],
   "source": [
    "acslc_r = cached_session.get(f\"https://www.astro.unige.ch/cdci/astrooda/dispatch-data/gw//integralhk/api/v1.0/genlc/ACS/{T0_ijd}/2000\")\n",
    "import pandas as pd\n",
    "import io\n",
    "\n",
    "acslc = pd.read_csv(io.StringIO(acslc_r.text), skiprows=5, names=['t', 'dt', 'c', 'ds'], delim_whitespace=True)\n",
    "acslc"
   ]
  },
  {
   "cell_type": "code",
   "execution_count": 13,
   "id": "005fc11f",
   "metadata": {},
   "outputs": [
    {
     "data": {
      "text/plain": [
       "{'t1': {'ijd': 8317.55682507935, 't_rel_s': 220.50285607692786},\n",
       " 't2': {'ijd': 8317.557361538058, 't_rel_s': 266.85288850567304}}"
      ]
     },
     "execution_count": 13,
     "metadata": {},
     "output_type": "execute_result"
    }
   ],
   "source": [
    "acs_saturation_t = acslc.t[acslc.c > 90000]\n",
    "\n",
    "acs_saturation = {\n",
    "    't1': {'ijd': acs_saturation_t.min(), 't_rel_s': (acs_saturation_t.min() - T0_ijd)*24*3600},\n",
    "    't2': {'ijd': acs_saturation_t.max(), 't_rel_s': (acs_saturation_t.max() - T0_ijd)*24*3600}\n",
    "}\n",
    "\n",
    "acs_saturation"
   ]
  },
  {
   "cell_type": "code",
   "execution_count": 14,
   "id": "16d8c338",
   "metadata": {},
   "outputs": [
    {
     "data": {
      "text/plain": [
       "<SkyCoord (ICRS): (ra, dec) in deg\n",
       "    (288.26429167, 19.77308333)>"
      ]
     },
     "execution_count": 14,
     "metadata": {},
     "output_type": "execute_result"
    }
   ],
   "source": [
    "src_coord = SkyCoord(\"19h 13m 03.43s\", \"+19d 46m 23.1s\", unit=u.deg)\n",
    "source_name = \"GRB221009A\"\n",
    "src_coord"
   ]
  },
  {
   "cell_type": "code",
   "execution_count": 15,
   "id": "3e6bfbf9",
   "metadata": {},
   "outputs": [
    {
     "data": {
      "text/plain": [
       "[<astropy.io.fits.hdu.image.PrimaryHDU object at 0x7f9dca0932e0>, <astropy.io.fits.hdu.table.BinTableHDU object at 0x7f9dca0de560>, <astropy.io.fits.hdu.table.BinTableHDU object at 0x7f9dca0dd4b0>, <astropy.io.fits.hdu.table.BinTableHDU object at 0x7f9e0561ffd0>, <astropy.io.fits.hdu.table.BinTableHDU object at 0x7f9e0561dd50>]"
      ]
     },
     "execution_count": 15,
     "metadata": {},
     "output_type": "execute_result"
    }
   ],
   "source": [
    "import subprocess\n",
    "import io\n",
    "import pathlib\n",
    "from astropy.io import fits\n",
    "\n",
    "def sshopen(fn):\n",
    "    cfn = pathlib.Path(\"/tmp/sshopen-cache/\") / fn.replace(\"/\", \"_\")\n",
    "    cfn.parent.mkdir(exist_ok=True)\n",
    "\n",
    "    try:\n",
    "        of = fits.open(cfn)\n",
    "    except:\n",
    "        f = io.BytesIO(subprocess.check_output(f\"ssh login01.astro.unige.ch tar cf - {fn} | tar xf - -O\", shell=True))\n",
    "\n",
    "        with open(cfn, \"wb\") as F:\n",
    "            F.write(f.read())\n",
    "        \n",
    "        of = fits.open(cfn)\n",
    "    return of\n",
    "\n",
    "sshopen(\"/isdc/arc/rev_3/scw/2558/255800290010.001/compton_events.fits.gz\")\n"
   ]
  },
  {
   "cell_type": "code",
   "execution_count": 16,
   "id": "a8bd2995",
   "metadata": {},
   "outputs": [
    {
     "data": {
      "text/plain": [
       "[<astropy.io.fits.hdu.image.PrimaryHDU object at 0x7f9dca092920>, <astropy.io.fits.hdu.table.BinTableHDU object at 0x7f9dca091870>, <astropy.io.fits.hdu.table.BinTableHDU object at 0x7f9dca0dc340>, <astropy.io.fits.hdu.table.BinTableHDU object at 0x7f9dca0debf0>, <astropy.io.fits.hdu.table.BinTableHDU object at 0x7f9e0561dae0>]"
      ]
     },
     "execution_count": 16,
     "metadata": {},
     "output_type": "execute_result"
    }
   ],
   "source": [
    "sshopen(\"/isdc/arc/rev_3/scw/2558/255800290010.001/compton_events.fits.gz\")"
   ]
  },
  {
   "cell_type": "code",
   "execution_count": 17,
   "id": "16b2abe0",
   "metadata": {},
   "outputs": [],
   "source": [
    "hklc = {}"
   ]
  },
  {
   "cell_type": "code",
   "execution_count": 18,
   "id": "3535ec08",
   "metadata": {},
   "outputs": [
    {
     "name": "stdout",
     "output_type": "stream",
     "text": [
      "fetching SPI_VETOGATE\n",
      "took 0.002223968505859375 s\n",
      "fetching SPI_VETONONSAT\n",
      "took 0.0019073486328125 s\n",
      "fetching SPI_VETOSAT\n",
      "took 0.0019884109497070312 s\n",
      "fetching SPI_GEDRATE0\n",
      "took 0.0019366741180419922 s\n",
      "fetching SPI_GEDRATE1\n",
      "took 1.9904828071594238 s\n",
      "fetching SPI_GEDRATE2\n",
      "took 1.6061420440673828 s\n",
      "fetching SPI_GEDRATE3\n",
      "took 0.00531768798828125 s\n",
      "fetching SPI_GEDRATE4\n",
      "took 0.0017206668853759766 s\n",
      "fetching SPI_GEDRATE5\n",
      "took 0.0019173622131347656 s\n",
      "fetching SPI_GEDRATE6\n",
      "took 0.001592874526977539 s\n",
      "fetching SPI_GEDRATE7\n",
      "took 0.0014913082122802734 s\n",
      "fetching SPI_GEDRATE8\n",
      "took 0.0016982555389404297 s\n",
      "fetching SPI_GEDRATE9\n",
      "took 0.001486063003540039 s\n",
      "fetching SPI_GEDRATE10\n",
      "took 0.0016851425170898438 s\n",
      "fetching SPI_GEDRATE11\n",
      "took 0.0016589164733886719 s\n",
      "fetching SPI_GEDRATE12\n",
      "took 0.0017015933990478516 s\n",
      "fetching SPI_GEDRATE13\n",
      "took 0.0018420219421386719 s\n",
      "fetching SPI_GEDRATE14\n",
      "took 0.0017342567443847656 s\n",
      "fetching SPI_GEDRATE15\n",
      "took 0.0015752315521240234 s\n",
      "fetching SPI_GEDRATE16\n",
      "took 0.0019059181213378906 s\n",
      "fetching SPI_GEDRATE17\n",
      "took 0.0015368461608886719 s\n",
      "fetching SPI_GEDRATE18\n",
      "took 0.0014903545379638672 s\n",
      "fetching SPI_GEDSAT0\n",
      "took 0.002112865447998047 s\n",
      "fetching SPI_GEDSAT1\n",
      "took 1.5849723815917969 s\n",
      "fetching SPI_GEDSAT2\n",
      "took 1.5789475440979004 s\n",
      "fetching SPI_GEDSAT3\n",
      "took 0.005483150482177734 s\n",
      "fetching SPI_GEDSAT4\n",
      "took 0.0017552375793457031 s\n",
      "fetching SPI_GEDSAT5\n",
      "took 1.604961633682251 s\n",
      "fetching SPI_GEDSAT6\n",
      "took 0.005557060241699219 s\n",
      "fetching SPI_GEDSAT7\n",
      "took 0.002118349075317383 s\n",
      "fetching SPI_GEDSAT8\n",
      "took 0.0017287731170654297 s\n",
      "fetching SPI_GEDSAT9\n",
      "took 0.0016548633575439453 s\n",
      "fetching SPI_GEDSAT10\n",
      "took 0.0015063285827636719 s\n",
      "fetching SPI_GEDSAT11\n",
      "took 0.001967191696166992 s\n",
      "fetching SPI_GEDSAT12\n",
      "took 0.002127408981323242 s\n",
      "fetching SPI_GEDSAT13\n",
      "took 0.0021033287048339844 s\n",
      "fetching SPI_GEDSAT14\n",
      "took 0.001750946044921875 s\n",
      "fetching SPI_GEDSAT15\n",
      "took 0.001569986343383789 s\n",
      "fetching SPI_GEDSAT16\n",
      "took 0.0015473365783691406 s\n",
      "fetching SPI_GEDSAT17\n",
      "took 1.657416820526123 s\n",
      "fetching SPI_GEDSAT18\n",
      "took 0.005147457122802734 s\n"
     ]
    }
   ],
   "source": [
    "import time\n",
    "\n",
    "def gethklc(n):\n",
    "    t0 = time.time()\n",
    "    r = cached_session.get(f\"https://www.astro.unige.ch/cdci/astrooda/dispatch-data/gw//integralhk/api/v1.0/genlc/{n}/{T0_ijd}/4000\")\n",
    "    print(f\"took {time.time() - t0} s\")\n",
    "    return pd.read_csv(io.StringIO(r.text), skiprows=5, names=['t', 'dt', 'c', 'ds'], delim_whitespace=True)\n",
    "\n",
    "# IBIS_VETO\n",
    "for n in ['SPI_VETOGATE', 'SPI_VETONONSAT', 'SPI_VETOSAT'] + \\\n",
    "         [f'SPI_GEDRATE{i}' for i in range(19)] + \\\n",
    "         [f'SPI_GEDSAT{i}' for i in range(19)]:\n",
    "        #   'FEE{i}' for i in range(1, 92)]:\n",
    "    print(\"fetching\", n)\n",
    "\n",
    "    # if n not in hklc:\n",
    "    hklc[n] = gethklc(n)\n",
    "    \n",
    "    "
   ]
  },
  {
   "cell_type": "code",
   "execution_count": 19,
   "id": "b4cdbfe2",
   "metadata": {},
   "outputs": [
    {
     "name": "stdout",
     "output_type": "stream",
     "text": [
      "new\n",
      "264.547875\n",
      "adding SPI_GEDSAT3 268.05325\n",
      "532.601125\n",
      "adding SPI_GEDSAT4 269.027875\n",
      "801.629\n",
      "adding SPI_GEDSAT6 269.82975\n",
      "1071.45875\n",
      "adding SPI_GEDSAT7 268.325125\n",
      "1339.783875\n",
      "adding SPI_GEDSAT8 273.515375\n",
      "1613.29925\n",
      "adding SPI_GEDSAT9 270.658875\n",
      "1883.958125\n",
      "adding SPI_GEDSAT10 274.1995\n",
      "2158.157625\n",
      "adding SPI_GEDSAT11 272.245375\n",
      "2430.403\n",
      "adding SPI_GEDSAT12 265.418625\n",
      "2695.821625\n",
      "adding SPI_GEDSAT13 266.2955\n",
      "2962.117125\n",
      "adding SPI_GEDSAT14 273.288625\n",
      "3235.40575\n",
      "adding SPI_GEDSAT15 271.909625\n",
      "3507.315375\n",
      "adding SPI_GEDSAT16 272.605\n",
      "3779.920375\n",
      "adding SPI_GEDSAT18 275.232125\n",
      "4055.1525\n",
      "new\n",
      "1378.504625\n",
      "adding SPI_GEDRATE3 1371.39575\n",
      "2749.900375\n",
      "adding SPI_GEDRATE4 1378.346875\n",
      "4128.24725\n",
      "adding SPI_GEDRATE5 281.214875\n",
      "4409.462125\n",
      "adding SPI_GEDRATE6 1372.4335\n",
      "5781.895625\n",
      "adding SPI_GEDRATE7 1307.51825\n",
      "7089.413875\n",
      "adding SPI_GEDRATE8 1302.22475\n",
      "8391.638625\n",
      "adding SPI_GEDRATE9 1326.951\n",
      "9718.589625\n",
      "adding SPI_GEDRATE10 1304.06375\n",
      "11022.653375\n",
      "adding SPI_GEDRATE11 1319.887875\n",
      "12342.54125\n",
      "adding SPI_GEDRATE12 1274.911625\n",
      "13617.452875\n",
      "adding SPI_GEDRATE13 1303.934875\n",
      "14921.38775\n",
      "adding SPI_GEDRATE14 1300.48\n",
      "16221.86775\n",
      "adding SPI_GEDRATE15 1312.709\n",
      "17534.57675\n",
      "adding SPI_GEDRATE16 1290.87525\n",
      "18825.452\n",
      "adding SPI_GEDRATE17 0.02525\n",
      "18825.47725\n",
      "adding SPI_GEDRATE18 1293.6965\n",
      "20119.17375\n"
     ]
    }
   ],
   "source": [
    "for p in 'SPI_GEDSAT', 'SPI_GEDRATE':\n",
    "\n",
    "    if p in hklc:\n",
    "        hklc.__delitem__(p) # = None\n",
    "\n",
    "    for k, v in list(hklc.items()):\n",
    "        if len(v.t) < 10: continue\n",
    "        if k.startswith(p) and k!=p:\n",
    "            if p not in hklc:\n",
    "                hklc[p] = v.copy(deep=True)\n",
    "                print(\"new\")\n",
    "            else:\n",
    "                print(\"adding\", k, v.c.mean())\n",
    "                hklc[p].c = np.array(hklc[p].c).copy() + np.array(v.c).copy() \n",
    "\n",
    "            if p in hklc:    \n",
    "                print(hklc[p].c.mean())"
   ]
  },
  {
   "cell_type": "code",
   "execution_count": 46,
   "id": "fdb15e1f",
   "metadata": {},
   "outputs": [],
   "source": []
  },
  {
   "cell_type": "code",
   "execution_count": 47,
   "id": "d12fcf35",
   "metadata": {},
   "outputs": [
    {
     "name": "stdout",
     "output_type": "stream",
     "text": [
      "SPI_GEDSAT 220 240 24195.9\n",
      "SPI_GEDSAT 250 270 5024.9\n",
      "SPI_GEDSAT 490 550 1449.7\n",
      "SPI_GEDRATE 220 240 1.5702e+06\n",
      "SPI_GEDRATE 250 270 678602\n",
      "SPI_GEDRATE 490 550 77445\n"
     ]
    },
    {
     "data": {
      "image/png": "[encoded data removed]",
      "text/plain": [
       "<Figure size 1200x600 with 1 Axes>"
      ]
     },
     "metadata": {},
     "output_type": "display_data"
    }
   ],
   "source": [
    "import re\n",
    "\n",
    "colors = ['#1f77b4', '#ff7f0e']\n",
    "\n",
    "def plot_spirates(ax=None):\n",
    "    N = None\n",
    "\n",
    "    groups = [\n",
    "        # [\n",
    "        #     'VETOSAT', \n",
    "        #     'SPI_VETOGATE', \n",
    "        #     'SPI_VETONONSAT'\n",
    "        # ],\n",
    "        [\n",
    "            # 'GEDRATE$',\n",
    "            # 'GEDSAT$',\n",
    "            # 'GEDRATE$',\n",
    "            # 'GEDSAT7',\n",
    "            # 'GEDSAT18',\n",
    "            # 'GEDRATE18',\n",
    "            'GEDSAT$',\n",
    "            'GEDRATE$',\n",
    "            # 'GEDSAT1',\n",
    "            # 'GEDRATE1',\n",
    "        ],\n",
    "        # ['GEDSAT0']    \n",
    "    ]\n",
    "\n",
    "    if ax is None:\n",
    "        f, axes = plt.subplots(len(groups), 1, figsize=(12, 6), sharex=True)\n",
    "\n",
    "        if len(groups) == 1:\n",
    "            axes = [axes]\n",
    "    else:\n",
    "        axes = [ax]\n",
    "\n",
    "\n",
    "    for ax, group in zip(axes, groups):\n",
    "        for k in group:            \n",
    "            for l, lc in hklc.items():\n",
    "                if re.search(k, l):\n",
    "                    if len(lc.t) < 10: continue\n",
    "\n",
    "                    t_rel_s = (lc.t - T0_ijd)*24*3600\n",
    "                    m_bkg = t_rel_s < 200\n",
    "                    bkg = np.nanmean(lc.c[m_bkg])\n",
    "                    s_bkg = np.nanstd(lc.c[m_bkg])\n",
    "                    ev_bkg = s_bkg/bkg**0.5\n",
    "                    mx = (np.nanmax(lc.c) - bkg)\n",
    "                    sn = (np.nanmax(lc.c) - bkg) / s_bkg\n",
    "\n",
    "                    if sn < 20: continue\n",
    "            \n",
    "                    m_n = t_rel_s > 250\n",
    "                    m_n &= t_rel_s < 280\n",
    "                    \n",
    "                    n = np.nanmax((lc.c - bkg)[m_n])\n",
    "                    if N is None:\n",
    "                        N = n\n",
    "                        n = 1\n",
    "                        label = l\n",
    "                    else:\n",
    "                        n /= N\n",
    "                        label = f\"{l} x {int(n**-1)}\"\n",
    "                        \n",
    "                    label += f\" (EV: {ev_bkg:.2f} SD: {s_bkg:.2f} S/N {sn:.2f}) MX: {mx:.2f}\" \n",
    "                    tag = \"na\"                    \n",
    "\n",
    "                    if 'GEDRATE' in label:\n",
    "                        label = \"SPI GeD total rate < 8 MeV\"\n",
    "                        tag = \"gedrate\"\n",
    "                    else:\n",
    "                        label = \"SPI GeD total rate > 8 MeV\"\n",
    "                        tag = \"gedsat\"\n",
    "\n",
    "                    # bkg =0\n",
    "\n",
    "                    # colors.append(\n",
    "                    ax.step(\n",
    "                        t_rel_s,\n",
    "                        (lc.c - bkg)/n,\n",
    "                        # lc.c**0.5,\n",
    "                        # xerr=1 + np.array(lc.t)*0,\n",
    "                        lw=2,\n",
    "                        # ls=\"\",\n",
    "                        label=label,\n",
    "                        c=colors.pop()\n",
    "                    )\n",
    "                    #[0].get_color())                        \n",
    "\n",
    "\n",
    "\n",
    "    # break\n",
    "\n",
    "plt.figure(figsize=(12, 6))\n",
    "\n",
    "plot_spirates(plt.gca())\n",
    "\n",
    "plt.legend()\n",
    "# for ax in axes:\n",
    "#     ax.legend()\n",
    "\n",
    "# plt.sca(axes[-1])\n",
    "\n",
    "# plt.subplots_adjust(hspace=0)\n",
    "\n",
    "\n",
    "plt.xlim([200, 300])\n",
    "# plt.xlim([0, 600])\n",
    "# plt.xlim([0, 600])\n",
    "plt.xlabel(f\"seconds since T$_0$ ({T0_isot})\")\n",
    "plt.ylabel(\"scaled counts s$^{-1}$\")\n",
    "# axes[0].set_title(\"bottom: background-subtracted\")\n",
    "# plt.savefig(\"many_hk_rates.pdf\")\n",
    "plt.savefig(\"spi_rates.pdf\")\n",
    "\n",
    "#TODO: noise by sat"
   ]
  },
  {
   "cell_type": "code",
   "execution_count": 22,
   "id": "d0f5f93a",
   "metadata": {},
   "outputs": [
    {
     "data": {
      "text/plain": [
       "[]"
      ]
     },
     "execution_count": 22,
     "metadata": {},
     "output_type": "execute_result"
    }
   ],
   "source": [
    "colors"
   ]
  },
  {
   "cell_type": "code",
   "execution_count": 23,
   "id": "c28554f9",
   "metadata": {},
   "outputs": [],
   "source": [
    "ijd2plot = lambda T: (T - T0_ijd)*24*3600\n",
    "ijd2plot_d = lambda T: (T - T0_ijd)"
   ]
  },
  {
   "cell_type": "code",
   "execution_count": 24,
   "id": "453f85d8",
   "metadata": {},
   "outputs": [
    {
     "data": {
      "text/plain": [
       "{'dec': -41.012, 'ra': 261.096}"
      ]
     },
     "execution_count": 24,
     "metadata": {},
     "output_type": "execute_result"
    }
   ],
   "source": [
    "T0_pointing_coord = dd['sc']['scx']\n",
    "T0_pointing_coord"
   ]
  },
  {
   "cell_type": "code",
   "execution_count": 25,
   "id": "2235e5d6",
   "metadata": {},
   "outputs": [
    {
     "data": {
      "text/plain": [
       "array([ 9336,  9440,  9537,  9647,  9754,  9141,  9648,  9541,  9725,\n",
       "        9699,  9358,  9424,  9764,  9644,  9488,  9863,  9245,  9707,\n",
       "        9493,  9439,  9272,  9721,  9415,  9675,  9513,  9529,  9594,\n",
       "        9595,  9685,  9676,  9536,  9475,  9712,  9637,  9698,  9512,\n",
       "        9254,  9673,  9494,  9036,  9330,  9569,  9582,  9395,  9581,\n",
       "        9548,  9421,  9713,  9508,  9503,  9407,  9224,  9554,  9304,\n",
       "        9628,  9675,  9372,  9321,  9597,  9638,  9568,  9752,  9647,\n",
       "        9439,  9573,  9051,  9421,  9577,  9672,  9526,  9739,  9564,\n",
       "        9940,  9745,  9983,  9471,  9345,  9765,  9280,  9587,  9450,\n",
       "        9353,  9450,  9621,  9361,  9671,  9640,  9501,  9377,  9721,\n",
       "        9436,  9750,  9268,  9558,  9442,  9689,  9697,  9702,  9545,\n",
       "        9362,  9237,  9692,  9286,  9279,  9410,  9556,  9734,  9758,\n",
       "        9535,  9754,  9407,  9683,  9663,  9979,  9456,  9491, 10137,\n",
       "        9468,  9560,  9520,  9511,  9332,  9185,  9599,  9489,  9619,\n",
       "        9482,  9545,  9540,  9659,  9442,  9759,  9461,  9639,  9395,\n",
       "        9235,  9495,  9238,  9468,  9393,  9389,  9626,  9558,  9190,\n",
       "        9294,  9664,  9278,  9447,  9342,  9075,  9527,  9600,  9563,\n",
       "        9333,  9608,  9621,  9742,  9371,  9564,  9424,  9410,  9604,\n",
       "        9496,  9293,  9330,  9678,  9339,  9687,  9566,  9595,  9467,\n",
       "        9585,  9685,  9853,  9468,  9575,  9807,  9459,  9686,  9699,\n",
       "        9585,  9283,  9475,  9581,  9221,  9573,  9545,  9533,  9342,\n",
       "        9240,  9695,  9567,  9446,  9247,  9432,  9914,  9678,  9567,\n",
       "        9360,  9596,  9301,  9365,  9408,  9249,  9647,  9659,  9701,\n",
       "        9614,  9745,  9562,  9476,  9468,  9300,  9864,  9723,  8030,\n",
       "        8172,  8206,  7992,  8314,  8126,  8404,  8367,  8492,  8380,\n",
       "        8177,  8277,  8141,  8176,  8195,  8597,  8491,  8233,  8409,\n",
       "        8763,  8468,  8444,  8896,  8270,  8369,  8354,  8280,  9131,\n",
       "        9423,  9633,  9704,  9578,  9631,  9464, 10110,  9484,  9360,\n",
       "        9774,  9469,  9217,  9547,  9455,  9342,  9608,  9545,  9256,\n",
       "        9540,  9455,  9863,  9456,  9240,  9605,  9231,  9434,  9456,\n",
       "        9640,  9817, 12497, 15201, 11647, 10501, 17610, 54933, 65860,\n",
       "       48323, 25013, 47820, 60712, 28622, 19491, 15016, 11544, 10760,\n",
       "       10557,  9940, 10238, 10009, 10381,  9938, 10103,  9731,  9876,\n",
       "       10155, 11093, 11212, 11149, 10554, 10474, 10709, 10685, 11151,\n",
       "       11944, 11625, 13639, 11385, 12036, 11998, 15565, 27388, 16624,\n",
       "       15170, 12921, 11879, 11279, 11286, 11779, 11560, 11333, 10879,\n",
       "       10069,  9941,  9959,  9999,  9908,  9888,  9751,  9506,  9645,\n",
       "        9636,  9596,  9400,  9714,  9676,  9732,  9724,  9359, 10054,\n",
       "        9560,  9593,  9629,  9679,  9556,  9562,  9531,  9308,  9501,\n",
       "        9423,  9504,  9464,  9821,  9493,  9726,  9856,  9730,  9452,\n",
       "        9640,  9770,  9959,  9418,  9748,  9548,  9645,  9913,  9870,\n",
       "        9586,  9574,  9707,  9881,  9660,  9574,  9232,  9902,  9704,\n",
       "        9463,  9553, 10090,  9538,  9503,  9489,  9590,  9670,  9668,\n",
       "        9632,  9648,  9602,  9897,  9823,  9633,  9650,  9409,  9729,\n",
       "        9632,  9214,  9332,  9653,  9361,  9407,  9385,  9808,  9427,\n",
       "        9347,  9408,  9630,  9399,  9642,  9750, 10015,  9376,  9547,\n",
       "        9402,  9734,  9631,  9730,  9652,  9602,  9530,  9721,  9597,\n",
       "        9633,  9687,  9655,  9739,  9707,  9701,  9699,  9723,  9719,\n",
       "        9579,  9909,  9342,  9633,  9521,  9634,  9504,  9870,  9716,\n",
       "        9441,  9465,  9476,  9662,  9739,  9503,  9489,  9709,  9848,\n",
       "        9397,  9614,  9427,  9718,  9629,  9354,  9620,  9496,  9277,\n",
       "        9634,  9624,  9629,  9804,  9667,  9550,  9809,  9819,  9348,\n",
       "        9629,  9575,  9480,  9551,  9422,  9183,  9521,  9831,  9478,\n",
       "        9665,  9635,  9696,  9517,  9743,  9325,  9660,  9379,  9544,\n",
       "        9848,  9334,  9744,  9517,  9607,  9428,  9577,  9562,  9573,\n",
       "        9664,  9669,  9326,  9397,  9508])"
      ]
     },
     "execution_count": 25,
     "metadata": {},
     "output_type": "execute_result"
    }
   ],
   "source": [
    "mce = dict()\n",
    "\n",
    "for i in range(8):\n",
    "    mce[i] = pd.read_csv(\n",
    "        io.StringIO(cached_session.get(f\"https://www.astro.unige.ch/mmoda/dispatch-data/gw/integralhk/api/v1.0/genlc/ISGRIRAW_MCE{i}/{T0_ijd}/2000\").text), \n",
    "        skiprows=5, names=['t', 'dt', 'c', 'ds'], delim_whitespace=True)\n",
    "\n",
    "\n",
    "np.sum([mce[i].c for i in range(8)], axis=0)"
   ]
  },
  {
   "cell_type": "code",
   "execution_count": 26,
   "id": "d0f69da8",
   "metadata": {},
   "outputs": [],
   "source": [
    "scw_dict_prompt = pd.DataFrame(cached_session.get(f\"https://www.astro.unige.ch/mmoda/dispatch-data/gw/timesystem/api/v1.0/scwlist/cons/{T0_ijd-500/24/3600}/{T0_ijd+2000/24/3600}?\"\n",
    "             f\"ra={src_coord.ra.deg}&dec={src_coord.dec.deg}&radius=200&return_columns=SWID,SW_TYPE,TELAPSE,TSTART,TSTOP\").json())\n"
   ]
  },
  {
   "cell_type": "code",
   "execution_count": 27,
   "id": "caaf8a25",
   "metadata": {},
   "outputs": [],
   "source": [
    "# https://heasarc.gsfc.nasa.gov/docs/integral/ao19-docs-b/AO19_recommended_programme.pdf"
   ]
  },
  {
   "cell_type": "code",
   "execution_count": 28,
   "id": "6a963b0c",
   "metadata": {},
   "outputs": [
    {
     "name": "stdout",
     "output_type": "stream",
     "text": [
      "expected total ISGRI RAW rate = 40904.353870386076 1 / s\n",
      "expected total ISGRI RAW waiting time = 5.113044233798259 1 / ms\n"
     ]
    }
   ],
   "source": [
    "# expected isgri raw rate\n",
    "\n",
    "isgri_pixel_eff_area = u.cm**2 * 0.4*0.4 * 1 # opacity 1 approximate\n",
    "isgri_mdu_eff_area = 64 * 32* isgri_pixel_eff_area \n",
    "isgri_eff_area = 128*128* isgri_pixel_eff_area \n",
    "\n",
    "flux_neax_peak = 5e4 * 1.5e-10 * u.erg/u.cm**2/u.s\n",
    "\n",
    "print(\"expected total ISGRI RAW rate =\", ((flux_neax_peak * isgri_eff_area)/(u.keV * 200)).to(u.s**-1))\n",
    "print(\"expected total ISGRI RAW waiting time =\", ((flux_neax_peak * isgri_mdu_eff_area)/(u.keV * 200)).to(u.ms**-1))"
   ]
  },
  {
   "cell_type": "code",
   "execution_count": 29,
   "id": "50b60f1a",
   "metadata": {},
   "outputs": [
    {
     "data": {
      "text/plain": [
       "(0.0, 1000.0)"
      ]
     },
     "execution_count": 29,
     "metadata": {},
     "output_type": "execute_result"
    },
    {
     "data": {
      "image/png": "[encoded data removed]",
      "text/plain": [
       "<Figure size 640x480 with 1 Axes>"
      ]
     },
     "metadata": {},
     "output_type": "display_data"
    }
   ],
   "source": [
    "picsit_lc = pd.read_csv(\"picsit/grb221009a_afterglow_picsit_lc.txt\", delim_whitespace=True, names=[\"mjd\", \"flux\"])\n",
    "picsit_lc_1s = pd.read_csv(\"picsit/grb221009a_picsit_lc_1s.txt\", delim_whitespace=True, names=[\"mjd\", \"flux\", \"flux_err\"])\n",
    "picist_hr = pd.read_csv(\"picsit/grb221009a_afterglow_picsit_hr.txt\", delim_whitespace=True, names=[\"mjd\", \"hr\"])\n",
    "\n",
    "# plt.plot(\n",
    "#     (picist_hr.mjd - (T0_ijd + 51544))*24, \n",
    "#     picist_hr.hr, \n",
    "# )\n",
    "\n",
    "t_since_t0 = np.array(picsit_lc_1s.mjd) - (T0_ijd + 51544)\n",
    "\n",
    "plt.errorbar(\n",
    "    t_since_t0*24*3600, \n",
    "    picsit_lc_1s.flux\n",
    "    # (t_since_t0[1:] - t_since_t0[:-1])*24*3600, \n",
    ")\n",
    "plt.xlim([0, 1000])\n",
    "# plt.ylim([0, 100])\n",
    "\n",
    "# plt.title('difference between subsequent PICsIT bins in \"grb221009a_afterglow_picsit_lc.txt\"')\n",
    "# plt.ylabel('seconds')\n",
    "\n",
    "\n",
    "# plt.loglog()"
   ]
  },
  {
   "cell_type": "code",
   "execution_count": 62,
   "id": "17a2b735",
   "metadata": {},
   "outputs": [
    {
     "name": "stdout",
     "output_type": "stream",
     "text": [
      "gedrate 2411808.9999999995 200 290 2.41181e+06\n",
      "gedrate 77444.99999999997 490 550 77445\n",
      "SPI-ACS 200 290 1.24508e+08\n",
      "SPI-ACS 490 550 1.95617e+07\n",
      "gedrate 2411808.9999999995 200 290 2.41181e+06\n",
      "gedrate 77444.99999999997 490 550 77445\n",
      "SPI-ACS 200 290 1.24508e+08\n",
      "SPI-ACS 490 550 1.95617e+07\n"
     ]
    },
    {
     "data": {
      "image/png": "[encoded data removed]",
      "text/plain": [
       "<Figure size 1600x800 with 1 Axes>"
      ]
     },
     "metadata": {},
     "output_type": "display_data"
    }
   ],
   "source": [
    "\n",
    "from collections import defaultdict\n",
    "\n",
    "\n",
    "time_ranges_of_interest=[(200, 290), (490, 550)]\n",
    "# time_ranges_of_interest=[(220, 280), (490, 550)]\n",
    "summary_by_time_range = defaultdict(dict)\n",
    "\n",
    "\n",
    "plt.figure(figsize=(16, 8))\n",
    "\n",
    "from collections import defaultdict\n",
    "\n",
    "hs_by_et = defaultdict(list)\n",
    "cs_by_et = defaultdict(list)\n",
    "\n",
    "compton_event_file = {}\n",
    "isgri_event_file = {}\n",
    "\n",
    "events_by_ext = {}\n",
    "\n",
    "\n",
    "def plot_all(ax):    \n",
    "    \n",
    "    ax.axhline(0, lw=3, ls=\"--\", alpha=0.3)\n",
    "    \n",
    "    ijd2plot = lambda T: (T - T0_ijd)*24*3600\n",
    "\n",
    "    for i, r in scw_dict_prompt.iterrows():\n",
    "        scwid = r.SWID\n",
    "\n",
    "        compton_event_file[scwid]  = sshopen(f\"/isdc/arc/rev_3/scw/{scwid[:4]}/{scwid}.001/compton_events.fits.gz\")\n",
    "        isgri_event_file[scwid]  = sshopen(f\"/isdc/arc/rev_3/scw/{scwid[:4]}/{scwid}.001/isgri_events.fits.gz\")    \n",
    "        # compton_event_file[scwid]  = sshopen(f\"/isdc/pvphase/nrt/ops/scw/{scwid[:4]}/{scwid}.000/compton_events.fits.gz\")\n",
    "        # isgri_event_file[scwid]  = sshopen(f\"/isdc/pvphase/nrt/ops/scw/{scwid[:4]}/{scwid}.000/isgri_events.fits.gz\")    \n",
    "\n",
    "\n",
    "        for C, color, ext in [\n",
    "                        # (isgri_event_file, 'y', \"ISGR-EVTS-ALL\"),\n",
    "                        # (compton_event_file, 'g', \"COMP-MULE-ALL\"),\n",
    "                        # (compton_event_file, 'r', 'COMP-SGLE-ALL')\n",
    "                    ]:\n",
    "            data = C[scwid][ext].data\n",
    "\n",
    "            label=ext + \" \" + scwid\n",
    "        \n",
    "\n",
    "\n",
    "\n",
    "            if ijd2plot(r.TSTART) > -100:\n",
    "                ax.axvline(\n",
    "                    ijd2plot(r.TSTART), ls=\"--\", c='k', alpha=0.5\n",
    "                )\n",
    "                # ax.axvline(\n",
    "                #     ijd2plot(r.TSTOP), ls=\"--\", c='k', alpha=0.5\n",
    "                # )\n",
    "\n",
    "                # plt.text(ijd2plot(r.TSTART), 10000, f\"{scwid[6:8]}\\n{scwid[10:12]}\")\n",
    "                # plt.text(ijd2plot(r.TSTART), 4000, scwid, rotation=90)\n",
    "\n",
    "\n",
    "            # plt.axvspan(\n",
    "            #     ijd2plot(r.TSTART),\n",
    "            #     ijd2plot(r.TSTOP),\n",
    "            #     alpha=0.2,\n",
    "            #     color='red'\n",
    "            # )\n",
    "\n",
    "            if ext in events_by_ext:\n",
    "                print(\"adding to\", ext, len(data))\n",
    "                events_by_ext[ext] = np.concatenate([events_by_ext[ext], data])\n",
    "            else:\n",
    "                print(\"first to\", ext, len(data))\n",
    "                events_by_ext[ext] = data\n",
    "\n",
    "            \n",
    "            label = None\n",
    "\n",
    "\n",
    "    F = 250\n",
    "    b = np.nanmean(hklc['SPI_GEDRATE'].c[(hklc['SPI_GEDRATE'].t - T0_ijd)*24*3600 < 200])\n",
    "    t_rel_s = ijd2plot(hklc['SPI_GEDRATE'].t)\n",
    "    c = ax.step(\n",
    "        t_rel_s, \n",
    "        (hklc['SPI_GEDRATE'].c - b)*F, \n",
    "        # picsit_lc_1s.flux / 0.8e-9, \n",
    "        label=rf\"SPI GeD rate x {F}\"\n",
    "    )[0].get_color()\n",
    "   \n",
    "\n",
    "    for r_t1, r_t2 in time_ranges_of_interest:\n",
    "        ax.axvspan(r_t1, r_t2, color='k', alpha=0.1)\n",
    "        total_counts = np.nansum(hklc['SPI_GEDRATE'].c[(t_rel_s > r_t1) & (t_rel_s < r_t2)] - b)\n",
    "        print(f\"gedrate {total_counts} {r_t1} {r_t2} {total_counts:g}\")\n",
    "        summary_by_time_range['gedrate'][(r_t1, r_t2)] = total_counts\n",
    "\n",
    "        # plt.axvspan(ijd2plot(r_t1), ijd2plot(r_t2), color=c, alpha=0.2)\n",
    "\n",
    "\n",
    "    for ext, data in events_by_ext.items():\n",
    "        T = data['TIME']\n",
    "\n",
    "        Ei = 0\n",
    "        Ep = 0\n",
    "\n",
    "        try:\n",
    "            Ei = data['ISGRI_ENERGY']            \n",
    "        except:\n",
    "            pass\n",
    "        \n",
    "        try:\n",
    "            Ep = data['PICSIT_ENERGY']\n",
    "        except:\n",
    "            pass\n",
    "\n",
    "        Ec = Ei + Ep\n",
    "\n",
    "        tbin = 0.3\n",
    "\n",
    "        h = np.histogram(ijd2plot(T), bins=np.linspace(-10, 800, int(810/tbin)))\n",
    "        dt = (h[1][1:] - h[1][:-1])\n",
    "        tc = (h[1][1:] + h[1][:-1]) / 2.\n",
    "        rate = h[0] / dt\n",
    "\n",
    "        \n",
    "        scale = {\"ISGR-EVTS-ALL\": 30,\n",
    "                \"COMP-MULE-ALL\": 4000,\n",
    "                'COMP-SGLE-ALL': 600 }[ext]\n",
    "        \n",
    "        b = np.mean(rate[(tc < 150) & (tc > 50) & (rate>0)])\n",
    "\n",
    "        print(\"bkg for\", ext, \"=\", b)\n",
    "\n",
    "        N = np.sum(((rate - b)*dt)[(rate - b>0) & (tc > 100) & (tc <700)])\n",
    "        \n",
    "        # ax.step(tc, (rate - b)*scale, alpha=0.8, label=f\"{ext} x {scale:d}. {N:.0f} events\")\n",
    "        ax.step(tc, (rate - b)*scale, alpha=0.8, label=f\"{ext} x {scale:d}\")\n",
    "        \n",
    "    ijd2plot = lambda t:(t- T0_ijd)*24*3600\n",
    "\n",
    "    # acs_cts2es = 1.5e-10\n",
    "\n",
    "    b = np.mean(acslc.c[(acslc.t- T0_ijd)*24*3600 < 200])\n",
    "    ax.step(ijd2plot(acslc.t), (acslc.c - b)*20, label=\"SPI-ACS\")\n",
    "\n",
    "    for r_t1, r_t2 in time_ranges_of_interest:\n",
    "        ax.axvspan(r_t1, r_t2, color='k', alpha=0.1)\n",
    "        total_counts = np.nansum(acslc.c[(acslc.t - T0_ijd)*24*3600 > r_t1] - b)\n",
    "        print(f\"SPI-ACS {r_t1} {r_t2} {total_counts:g}\")\n",
    "        summary_by_time_range['acs'][(r_t1, r_t2)] = total_counts\n",
    "\n",
    "    # isgri_raw_total_rate = np.sum([mce[i].c for i in range(8)], axis=0 )\n",
    "    # b = np.mean(isgri_raw_total_rate[(mce[0].t- T0_ijd)*24*3600 < 200])\n",
    "    # F = 10\n",
    "    # ax.step((mce[0].t- T0_ijd)*24*3600, isgri_raw_total_rate - b, label=f\"ISGRI RAW rate x {F}\", where='post')\n",
    "\n",
    "    # picsit\n",
    "\n",
    "    b = np.nanmean(picsit_lc_1s.flux[(picsit_lc_1s.mjd - 51544 - T0_ijd)*24*3600 < 200])\n",
    "\n",
    "    picsit_factor = 80\n",
    "    ax.step(\n",
    "        ijd2plot(picsit_lc_1s.mjd - 51544) + 69.2, \n",
    "        (picsit_lc_1s.flux - b)*picsit_factor, \n",
    "        # picsit_lc_1s.flux / 0.8e-9, \n",
    "        label=f\"PICsIT x {picsit_factor}\"\n",
    "    )\n",
    "\n",
    "\n",
    "    # plt.axhspan(-1e10, 0, color='k', alpha=0.2)\n",
    "    ax.set_ylim([-1e4, 6e4])\n",
    "\n",
    "    ax.set_xlabel(f\"seconds since T$_{{0}}$ ({T0_isot})\")\n",
    "    ax.set_ylabel(\"scaled counts s$^{-1}$\")\n",
    "\n",
    "\n",
    "    # F = 1000\n",
    "    # b = np.nanmean(hklc['SPI_GEDSAT0'].c[(hklc['SPI_GEDSAT0'].t - T0_ijd)*24*3600 < 200])\n",
    "    # c = ax.step(\n",
    "    #     ijd2plot(hklc['SPI_GEDSAT0'].t), \n",
    "    #     (hklc['SPI_GEDSAT0'].c - b)*F, \n",
    "    #     # picsit_lc_1s.flux / 0.8e-9, \n",
    "    #     label=rf\"SPI SAT rate x {F}\"\n",
    "    # )[0].get_color()\n",
    "\n",
    "    # # plt.axhspan(-1e10, 0, color='k', alpha=0.2)\n",
    "    # ax.set_ylim([-1e4, 6e4])\n",
    "\n",
    "    # ax.set_xlabel(f\"seconds since {T0_isot}\")\n",
    "    # ax.set_ylabel(f\"counts s$^{-1}$\")\n",
    "    \n",
    "plot_all(plt.gca())\n",
    "\n",
    "# axy2 = plt.twinx()\n",
    "# axy2.plot(ijd2plot(att_hist['TIME']), scx.separation(src_coord).deg)\n",
    "# axy2.scatter(ijd2plot(att_hist['TIME']), scx.separation(src_coord).deg)\n",
    "# axy2.set_ylim([60,75])\n",
    "\n",
    "# plt.grid(False)\n",
    "\n",
    "plt.legend(loc=\"upper left\")\n",
    "plt.ylim([-5e4, 6e7])\n",
    "plt.xlim([150, 600])\n",
    "\n",
    "plt.xlim([250, 400])\n",
    "plt.savefig(\"figs/prompt_p1.pdf\")\n",
    "\n",
    "plt.xlim([-10, 10])\n",
    "plt.ylim([-1e3, 1e3])\n",
    "plt.savefig(\"figs/precursor.pdf\")\n",
    "\n",
    "\n",
    "bax = plt.gca()\n",
    "\n",
    "plt.xlim([-40, 1000])\n",
    "\n",
    "# plt.xlim([150, 600])\n",
    "# plt.xlim([270, 300])\n",
    "\n",
    "# plt.xlim([450, 600])\n",
    "plt.ylim([-2.5e5, 35e5])\n",
    "\n",
    "\n",
    "ax = plt.gca().inset_axes([580, 8e5, 400, 2.5e6], transform=plt.gca().transData)\n",
    "# ax = plt.gca().inset_axes([350, 1e5, 600, 5e5], transform=plt.gca().transData)\n",
    "\n",
    "\n",
    "plot_all(ax) #, ['compton'])\n",
    "ax.set_ylim([-2e5, 5.2e7])\n",
    "# ax.set_ylim([-1e5, 7e5])\n",
    "\n",
    "# F = 50\n",
    "# b = np.nanmean(hklc['SPI_GEDRATE0'].c[(hklc['SPI_GEDRATE0'].t - T0_ijd)*24*3600 < 200])\n",
    "# ax.step(\n",
    "#     ijd2plot(hklc['SPI_GEDRATE0'].t), \n",
    "#     (hklc['SPI_GEDRATE0'].c - b)*F, \n",
    "#     # picsit_lc_1s.flux / 0.8e-9, \n",
    "#     label=rf\"SPI rate x {F}\",\n",
    "#     c=c\n",
    "# )\n",
    "\n",
    "ax.set_xlim(bax.get_xlim())\n",
    "ax.set_xlabel(None)\n",
    "\n",
    "plt.savefig(\"figs/prompt.pdf\")\n",
    "\n",
    "\n",
    "# ax = plt.gca().inset_axes([-80, 6e5, 220, 1.7e6], transform=plt.gca().transData)\n",
    "# plot_spirates(ax)\n",
    "# ax.set_xlim(bax.get_xlim())\n",
    "# ax.set_xlim([200, 300])\n",
    "\n",
    "# plt.xlim([300, 310])\n",
    "# plt.ylim([-0.5e3, 3e3])\n",
    "\n",
    "\n",
    "# TODO: also show early one\n",
    "# TODO: search for smaller excesses allover\n",
    "# TODO: check if saturation is by ISGRI module, else why smooth transitions in compton rate\n",
    "# TODO: search for long-term in compton, good sensitivity\n",
    "# TODO: check detector plane near compton saturations, module?"
   ]
  },
  {
   "cell_type": "code",
   "execution_count": 65,
   "id": "93642412",
   "metadata": {},
   "outputs": [
    {
     "data": {
      "text/plain": [
       "defaultdict(dict,\n",
       "            {'gedrate': {(200, 290): 2411808.9999999995,\n",
       "              (490, 550): 77444.99999999997},\n",
       "             'acs': {(200, 290): 124507769.63636361,\n",
       "              (490, 550): 19561690.872727267}})"
      ]
     },
     "execution_count": 65,
     "metadata": {},
     "output_type": "execute_result"
    }
   ],
   "source": [
    "# summary[(220, 240)]['gedrate']['N'] / summary[(250, 270)]['SPI_GEDRATE']['N']\n",
    "summary_by_time_range"
   ]
  },
  {
   "cell_type": "code",
   "execution_count": 73,
   "id": "ba19c39e",
   "metadata": {},
   "outputs": [
    {
     "data": {
      "text/plain": [
       "0.00293425363090909"
      ]
     },
     "execution_count": 73,
     "metadata": {},
     "output_type": "execute_result"
    }
   ],
   "source": [
    "acs_fluence_second = summary_by_time_range['acs'][(490, 550)] * 1.5e-10\n",
    "acs_fluence_second"
   ]
  },
  {
   "cell_type": "code",
   "execution_count": 74,
   "id": "7b5598fe",
   "metadata": {},
   "outputs": [
    {
     "data": {
      "text/plain": [
       "31.142217057266453"
      ]
     },
     "execution_count": 74,
     "metadata": {},
     "output_type": "execute_result"
    }
   ],
   "source": [
    "ged_episode_ratio = summary_by_time_range['gedrate'][(200, 290)] / summary_by_time_range['gedrate'][(490, 550)]\n",
    "ged_episode_ratio"
   ]
  },
  {
   "cell_type": "code",
   "execution_count": 77,
   "id": "85716776",
   "metadata": {},
   "outputs": [
    {
     "data": {
      "text/plain": [
       "0.0913791634748431"
      ]
     },
     "execution_count": 77,
     "metadata": {},
     "output_type": "execute_result"
    }
   ],
   "source": [
    "fluence_estimate = acs_fluence_second * ged_episode_ratio\n",
    "fluence_estimate"
   ]
  },
  {
   "cell_type": "code",
   "execution_count": 32,
   "id": "43eae02a",
   "metadata": {},
   "outputs": [],
   "source": [
    "\n",
    "# for scwid in isgri_event_file.keys():\n",
    "#     for d, n in [(isgri_event_file[scwid][3].data, 'isgri'), (compton_event_file[scwid]['COMP-SGLE-ALL'].data, 'compton')]:\n",
    "#         plt.figure()\n",
    "\n",
    "#         m = d['TIME'] > T0_ijd + 150./3600./24\n",
    "#         m &= d['TIME'] < T0_ijd + 550/3600./24\n",
    "\n",
    "#         _ = plt.hist2d(d['ISGRI_Y'][m], d['ISGRI_Z'][m], (128, 128))\n",
    "#         plt.title(f\"{scwid} {n}\")"
   ]
  },
  {
   "cell_type": "code",
   "execution_count": 33,
   "id": "3eefd4cc",
   "metadata": {},
   "outputs": [],
   "source": [
    "# !pip install tables"
   ]
  },
  {
   "cell_type": "code",
   "execution_count": 34,
   "id": "cfbf6246",
   "metadata": {},
   "outputs": [],
   "source": [
    "with  pd.HDFStore(\"hklc.h5\", \"w\") as store:\n",
    "\n",
    "    for k, v in hklc.items():\n",
    "        v.to_hdf(store, k)\n"
   ]
  },
  {
   "cell_type": "code",
   "execution_count": 35,
   "id": "b793ddbf",
   "metadata": {},
   "outputs": [],
   "source": [
    "scw_dict_prompt['tstart_since_t0_s'] = ijd2plot(scw_dict_prompt.TSTART)\n",
    "scw_dict_prompt['tstop_since_t0_s'] = ijd2plot(scw_dict_prompt.TSTOP)"
   ]
  },
  {
   "cell_type": "code",
   "execution_count": 36,
   "id": "9baee78a",
   "metadata": {},
   "outputs": [
    {
     "data": {
      "text/plain": [
       "137648.7"
      ]
     },
     "execution_count": 36,
     "metadata": {},
     "output_type": "execute_result"
    }
   ],
   "source": [
    "dd['sc']['bodies']['earth']['separation']"
   ]
  },
  {
   "cell_type": "code",
   "execution_count": 72,
   "id": "1a40bed2",
   "metadata": {},
   "outputs": [
    {
     "data": {
      "text/plain": [
       "[(200, 290), (490, 550)]"
      ]
     },
     "execution_count": 72,
     "metadata": {},
     "output_type": "execute_result"
    }
   ],
   "source": [
    "time_ranges_of_interest"
   ]
  },
  {
   "cell_type": "code",
   "execution_count": 37,
   "id": "a98c9692",
   "metadata": {
    "tags": [
     "outputs"
    ]
   },
   "outputs": [],
   "source": [
    "hklc_h5=\"hklc.h5\"\n",
    "lc_pdf=\"figs/prompt.pdf\"\n",
    "lc_p1_pdf=\"figs/prompt_p1.pdf\"\n",
    "spi_rates_lc_pdf=\"spi_rates.pdf\"\n",
    "T0_isot=T0_isot\n",
    "data=dict(dd)\n",
    "scws=scw_dict_prompt.to_dict()\n",
    "T0_pointing_coord=dd['sc']['scx']\n",
    "sc=dd['sc']\n",
    "sc_second_pointing=dd['sc_second_pointing']\n",
    "acs_saturation=acs_saturation\n",
    "ged_episode_ratio=ged_episode_ratio\n",
    "acs_fluence_second=acs_fluence_second\n",
    "fluence_estimate=fluence_estimate\n",
    "troi_1_t1 = time_ranges_of_interest[0][0]\n",
    "troi_1_t2 = time_ranges_of_interest[0][1]\n",
    "troi_2_t1 = time_ranges_of_interest[1][0]\n",
    "troi_2_t2 = time_ranges_of_interest[1][1]"
   ]
  }
 ],
 "metadata": {
  "kernelspec": {
   "display_name": "base",
   "language": "python",
   "name": "python3"
  },
  "language_info": {
   "codemirror_mode": {
    "name": "ipython",
    "version": 3
   },
   "file_extension": ".py",
   "mimetype": "text/x-python",
   "name": "python",
   "nbconvert_exporter": "python",
   "pygments_lexer": "ipython3",
   "version": "3.10.12"
  },
  "vscode": {
   "interpreter": {
    "hash": "1892832a55cb9b21d693a1e0afb7563f6ad424a1b7b3da21728b3ea0874fe733"
   }
  }
 },
 "nbformat": 4,
 "nbformat_minor": 5
}
