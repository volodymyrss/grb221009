{
 "cells": [
  {
   "cell_type": "code",
   "execution_count": 1,
   "metadata": {},
   "outputs": [],
   "source": [
    "# ! pip install ddaclient>=1.1.6\n",
    "import ddaclient\n",
    "\n",
    "ddac = ddaclient.RemoteDDA(service_url=\"private=https://dda-interface-private.obsuks1.unige.ch,public=http://dda-interface-public.obsuks1.unige.ch\", ddcache_root_local=\"/mnt/sshfs/lesta/projects/astro/integral/data/reduced/ddcache-public-usr_astro_in-p1\")"
   ]
  },
  {
   "cell_type": "code",
   "execution_count": 2,
   "metadata": {},
   "outputs": [
    {
     "name": "stderr",
     "output_type": "stream",
     "text": [
      "INFO:numexpr.utils:NumExpr defaulting to 8 threads.\n",
      "DEBUG:urllib3.connectionpool:Starting new HTTPS connection (1): www.astro.unige.ch:443\n",
      "DEBUG:urllib3.connectionpool:https://www.astro.unige.ch:443 \"GET /mmoda/dispatch-data/gw/timesystem/api/v1.0/scwlist/cons/2022-10-09T00:00:00/2023-10-23T00:00:00?ra=288.26429166666657&dec=19.773083333333332&radius=15&return_columns=SWID,SW_TYPE,TELAPSE,TSTART,TSTOP HTTP/1.1\" 200 28680\n"
     ]
    }
   ],
   "source": [
    "import pandas as pd\n",
    "import requests\n",
    "from astropy.coordinates import SkyCoord\n",
    "from astropy import units as u\n",
    "\n",
    "src_coord = SkyCoord(\"19h 13m 03.43s\", \"+19d 46m 23.1s\", unit=u.deg)\n",
    "\n",
    "scw_dict_all = pd.DataFrame(requests.get(f\"https://www.astro.unige.ch/mmoda/dispatch-data/gw/timesystem/api/v1.0/scwlist/cons/2022-10-09T00:00:00/2023-10-23T00:00:00?\"\n",
    "             f\"ra={src_coord.ra.deg}&dec={src_coord.dec.deg}&radius=15&return_columns=SWID,SW_TYPE,TELAPSE,TSTART,TSTOP\").json())\n"
   ]
  },
  {
   "cell_type": "code",
   "execution_count": 3,
   "metadata": {},
   "outputs": [],
   "source": [
    "cat = [\"SourceCatalog\", {\"autoversion\": True, \"catalog\": [\n",
    "            {\"NAME\":\"SGR 1935+2154\", \"RA\": 293.73200 , \"DEC\":  21.89672},\n",
    "            {\"NAME\":\"GRB 221009A\", \"RA\": src_coord.ra.deg , \"DEC\":  src_coord.dec.deg}\n",
    "]}]"
   ]
  },
  {
   "cell_type": "code",
   "execution_count": 5,
   "metadata": {},
   "outputs": [
    {
     "name": "stderr",
     "output_type": "stream",
     "text": [
      "INFO:ddaclient:(('modules', 'git://ddosa/staging-1-3,git://findic/staging-1-3-icversion,git://ddosa11/staging-1-3,git://integral_all_private,git://ii_light,git://gencat'), {})\n",
      "INFO:ddaclient:(('assume', 'ddosa.ScWData(input_scwid=\"{scw}.001\")'), {})\n",
      "INFO:ddaclient:(('service url:', 'https://dda-interface-private.obsuks1.unige.ch'), {})\n",
      "INFO:ddaclient:(('target:', 'ii_light'), {})\n",
      "INFO:ddaclient:(('inject:', [['SourceCatalog', {'autoversion': True, 'catalog': [{'NAME': 'SGR 1935+2154', 'RA': 293.732, 'DEC': 21.89672}, {'NAME': 'GRB 221009A', 'RA': 288.26429166666657, 'DEC': 19.773083333333332}]}]]), {})\n",
      "INFO:ddaclient:request to pipeline with parameters: {'url': 'https://dda-interface-private.obsuks1.unige.ch/api/v2.0/ii_light', 'params': {'modules': 'git://ddosa,git://ddosa/staging-1-3,git://findic/staging-1-3-icversion,git://ddosa11/staging-1-3,git://integral_all_private,git://ii_light,git://gencat', 'assume': 'ddosa.ScWData(input_scwid=\"{scw}.001\")', 'inject': '[[\"SourceCatalog\", {\"autoversion\": true, \"catalog\": [{\"NAME\": \"SGR 1935+2154\", \"RA\": 293.732, \"DEC\": 21.89672}, {\"NAME\": \"GRB 221009A\", \"RA\": 288.26429166666657, \"DEC\": 19.773083333333332}]}]]'}}\n",
      "INFO:ddaclient:request to pipeline: https://dda-interface-private.obsuks1.unige.ch/api/v2.0/ii_light?modules=git%3A%2F%2Fddosa%2Cgit%3A%2F%2Fddosa%2Fstaging-1-3%2Cgit%3A%2F%2Ffindic%2Fstaging-1-3-icversion%2Cgit%3A%2F%2Fddosa11%2Fstaging-1-3%2Cgit%3A%2F%2Fintegral_all_private%2Cgit%3A%2F%2Fii_light%2Cgit%3A%2F%2Fgencat&assume=ddosa.ScWData%28input_scwid%3D%22%7Bscw%7D.001%22%29&inject=%5B%5B%22SourceCatalog%22%2C+%7B%22autoversion%22%3A+true%2C+%22catalog%22%3A+%5B%7B%22NAME%22%3A+%22SGR+1935%2B2154%22%2C+%22RA%22%3A+293.732%2C+%22DEC%22%3A+21.89672%7D%2C+%7B%22NAME%22%3A+%22GRB+221009A%22%2C+%22RA%22%3A+288.26429166666657%2C+%22DEC%22%3A+19.773083333333332%7D%5D%7D%5D%5D\n",
      "DEBUG:urllib3.connectionpool:Starting new HTTPS connection (1): dda-interface-private.obsuks1.unige.ch:443\n"
     ]
    },
    {
     "name": "stdout",
     "output_type": "stream",
     "text": [
      "255800700010\n"
     ]
    },
    {
     "name": "stderr",
     "output_type": "stream",
     "text": [
      "DEBUG:urllib3.connectionpool:https://dda-interface-private.obsuks1.unige.ch:443 \"POST /api/v2.0/ii_light HTTP/1.1\" 200 1217\n",
      "DEBUG:ddaclient:{\"assume\":\"ddosa.ScWData(input_scwid=\\\"{scw}.001\\\")\",\"cached_path\":\"unreable\",\"data\":\"unreadable-object-data\",\"exceptions\":{\"comment\":null,\"delegation_state\":\"submitted\",\"exception\":\"[AnalysisDelegatedException: None; ; submitted]\",\"exception_type\":\"delegation\",\"hashe\":null,\"origin\":null,\"resources\":[],\"source_exceptions\":null},\"hashe\":\"unreable\",\"modules\":[\"git://ddosa\",\"git://ddosa/staging-1-3\",\"git://findic/staging-1-3-icversion\",\"git://ddosa11/staging-1-3\",\"git://integral_all_private\",\"git://ii_light\",\"git://gencat\"],\"result\":\"INFO:from_uri:found ODAHUB URI option: https://crux-private.obsuks1.unige.ch@default\\nINFO:[ QueueProxy: leader=https://crux-private.obsuks1.unige.ch queue=default ]:initialized\\nINFO:from_uri:probing connection...\\nINFO:from_uri:succeeded!\\ninitialized dqueue: [ QueueProxy: leader=https://crux-private.obsuks1.unige.ch queue=default ]\\nTraceback (most recent call last):\\n  File \\\"/pyenv/versions/3.8.2/bin/rundda.py\\\", line 8, in <module>\\n    sys.exit(main())\\n  File \\\"/pyenv/versions/3.8.2/lib/python3.8/site-packages/dataanalysis/rundda.py\\\", line 175, in main\\n    raise e\\ndataanalysis.core.AnalysisDelegatedException: [AnalysisDelegatedException: None; ; submitted]\\n\"}\n",
      "\n",
      "DEBUG:DDAproduct:<ddaclient.DDAproduct object at 0x7fc49aff2f40> to parse \u001b[34mINFO:from_uri:found ODAHUB URI option: https://crux-private.obsuks1.unige.ch@default\n",
      "INFO:[ QueueProxy: leader=https://crux-private.obsuks1.unige.ch queue=default ]:initialized\n",
      "INFO:from_uri:probing connection...\n",
      "INFO:from_uri:succeeded!\n",
      "initialized dqueue: [ QueueProxy: leader=https://crux-private.obsuks1.unige.ch queue=default ]\n",
      "Traceback (most recent call last):\n",
      "  File \"/pyenv/versions/3.8.2/bin/rundda.py\", line 8, in <module>\n",
      "    sys.exit(main())\n",
      "  File \"/pyenv/versions/3.8.2/lib/python3.8/site-packages/dataanalysis/rundda.py\", line 175, in main\n",
      "    raise e\n",
      "dataanalysis.core.AnalysisDelegatedException: [AnalysisDelegatedException: None; ; submitted]\n",
      "\u001b[0m\n",
      "INFO:DDAproduct:found result keys: ['assume', 'cached_path', 'data', 'exceptions', 'hashe', 'modules', 'result']\n",
      "INFO:ddaclient:passing through delegated exception: submitted\n",
      "INFO:ddaclient:passing through delegated exception: submitted\n"
     ]
    },
    {
     "ename": "AnalysisDelegatedException",
     "evalue": "submitted",
     "output_type": "error",
     "traceback": [
      "\u001b[0;31m---------------------------------------------------------------------------\u001b[0m",
      "\u001b[0;31mAnalysisDelegatedException\u001b[0m                Traceback (most recent call last)",
      "\u001b[1;32m/home/savchenk/grb221009/iilight.ipynb Cell 4\u001b[0m in \u001b[0;36m<cell line: 1>\u001b[0;34m()\u001b[0m\n\u001b[1;32m      <a href='vscode-notebook-cell:/home/savchenk/grb221009/iilight.ipynb#W1sZmlsZQ%3D%3D?line=0'>1</a>\u001b[0m \u001b[39mfor\u001b[39;00m scw \u001b[39min\u001b[39;00m scw_dict_all[scw_dict_all\u001b[39m.\u001b[39mSW_TYPE\u001b[39m.\u001b[39mstr\u001b[39m.\u001b[39mstrip()\u001b[39m==\u001b[39m\u001b[39m'\u001b[39m\u001b[39mPOINTING\u001b[39m\u001b[39m'\u001b[39m]\u001b[39m.\u001b[39mSWID:\n\u001b[1;32m      <a href='vscode-notebook-cell:/home/savchenk/grb221009/iilight.ipynb#W1sZmlsZQ%3D%3D?line=1'>2</a>\u001b[0m     \u001b[39mprint\u001b[39m(scw)\n\u001b[0;32m----> <a href='vscode-notebook-cell:/home/savchenk/grb221009/iilight.ipynb#W1sZmlsZQ%3D%3D?line=3'>4</a>\u001b[0m     ddac\u001b[39m.\u001b[39;49mquery(target\u001b[39m=\u001b[39;49m\u001b[39m\"\u001b[39;49m\u001b[39mii_light\u001b[39;49m\u001b[39m\"\u001b[39;49m, \n\u001b[1;32m      <a href='vscode-notebook-cell:/home/savchenk/grb221009/iilight.ipynb#W1sZmlsZQ%3D%3D?line=4'>5</a>\u001b[0m             prompt_delegate\u001b[39m=\u001b[39;49m\u001b[39mTrue\u001b[39;49;00m,\n\u001b[1;32m      <a href='vscode-notebook-cell:/home/savchenk/grb221009/iilight.ipynb#W1sZmlsZQ%3D%3D?line=5'>6</a>\u001b[0m             modules\u001b[39m=\u001b[39;49m[\u001b[39m\"\u001b[39;49m\u001b[39mgit://ddosa/staging-1-3\u001b[39;49m\u001b[39m\"\u001b[39;49m, \u001b[39m\"\u001b[39;49m\u001b[39mgit://findic/staging-1-3-icversion\u001b[39;49m\u001b[39m\"\u001b[39;49m, \u001b[39m\"\u001b[39;49m\u001b[39mgit://ddosa11/staging-1-3\u001b[39;49m\u001b[39m\"\u001b[39;49m, \u001b[39m\"\u001b[39;49m\u001b[39mgit://integral_all_private\u001b[39;49m\u001b[39m\"\u001b[39;49m, \u001b[39m\"\u001b[39;49m\u001b[39mgit://ii_light\u001b[39;49m\u001b[39m\"\u001b[39;49m, \u001b[39m\"\u001b[39;49m\u001b[39mgit://gencat\u001b[39;49m\u001b[39m\"\u001b[39;49m],\n\u001b[1;32m      <a href='vscode-notebook-cell:/home/savchenk/grb221009/iilight.ipynb#W1sZmlsZQ%3D%3D?line=6'>7</a>\u001b[0m             assume\u001b[39m=\u001b[39;49m[\u001b[39m'\u001b[39;49m\u001b[39mddosa.ScWData(input_scwid=\u001b[39;49m\u001b[39m\"\u001b[39;49m\u001b[39m{scw}\u001b[39;49;00m\u001b[39m.001\u001b[39;49m\u001b[39m\"\u001b[39;49m\u001b[39m)\u001b[39;49m\u001b[39m'\u001b[39;49m],\n\u001b[1;32m      <a href='vscode-notebook-cell:/home/savchenk/grb221009/iilight.ipynb#W1sZmlsZQ%3D%3D?line=7'>8</a>\u001b[0m             inject\u001b[39m=\u001b[39;49m[cat])\n\u001b[1;32m      <a href='vscode-notebook-cell:/home/savchenk/grb221009/iilight.ipynb#W1sZmlsZQ%3D%3D?line=8'>9</a>\u001b[0m     \u001b[39mbreak\u001b[39;00m\n",
      "File \u001b[0;32m~/miniconda-recent/lib/python3.9/site-packages/ddaclient.py:434\u001b[0m, in \u001b[0;36mRemoteDDA.query\u001b[0;34m(self, target, modules, assume, inject, prompt_delegate, callback, sync)\u001b[0m\n\u001b[1;32m    432\u001b[0m \u001b[39mfor\u001b[39;00m i \u001b[39min\u001b[39;00m \u001b[39mreversed\u001b[39m(\u001b[39mrange\u001b[39m(n_retries)):\n\u001b[1;32m    433\u001b[0m     \u001b[39mtry\u001b[39;00m:\n\u001b[0;32m--> 434\u001b[0m         \u001b[39mreturn\u001b[39;00m \u001b[39mself\u001b[39;49m\u001b[39m.\u001b[39;49m_query(target, modules, assume, inject, prompt_delegate, callback)\n\u001b[1;32m    435\u001b[0m     \u001b[39mexcept\u001b[39;00m NotAuthorizedOnDDA \u001b[39mas\u001b[39;00m e:\n\u001b[1;32m    436\u001b[0m         \u001b[39mraise\u001b[39;00m\n",
      "File \u001b[0;32m~/miniconda-recent/lib/python3.9/site-packages/ddaclient.py:491\u001b[0m, in \u001b[0;36mRemoteDDA._query\u001b[0;34m(self, target, modules, assume, inject, prompt_delegate, callback)\u001b[0m\n\u001b[1;32m    489\u001b[0m \u001b[39mtry\u001b[39;00m:\n\u001b[1;32m    490\u001b[0m     response_json \u001b[39m=\u001b[39m response\u001b[39m.\u001b[39mjson()\n\u001b[0;32m--> 491\u001b[0m     \u001b[39mreturn\u001b[39;00m DDAproduct(response_json, \u001b[39mself\u001b[39;49m\u001b[39m.\u001b[39;49mddcache_root_local, \u001b[39mself\u001b[39;49m)\n\u001b[1;32m    492\u001b[0m \u001b[39mexcept\u001b[39;00m WorkerException \u001b[39mas\u001b[39;00m e:\n\u001b[1;32m    493\u001b[0m     logger\u001b[39m.\u001b[39merror(\u001b[39m\"\u001b[39m\u001b[39mproblem interpretting request: \u001b[39m\u001b[39m%s\u001b[39;00m\u001b[39m\"\u001b[39m, e)\n",
      "File \u001b[0;32m~/miniconda-recent/lib/python3.9/site-packages/ddaclient.py:168\u001b[0m, in \u001b[0;36mDDAproduct.__init__\u001b[0;34m(self, dda_worker_response, ddcache_root_local, remote_dda)\u001b[0m\n\u001b[1;32m    166\u001b[0m \u001b[39mself\u001b[39m\u001b[39m.\u001b[39mddcache_root_local \u001b[39m=\u001b[39m ddcache_root_local\n\u001b[1;32m    167\u001b[0m \u001b[39mself\u001b[39m\u001b[39m.\u001b[39mremote_dda \u001b[39m=\u001b[39m remote_dda\n\u001b[0;32m--> 168\u001b[0m \u001b[39mself\u001b[39;49m\u001b[39m.\u001b[39;49minterpret_dda_worker_response(dda_worker_response)\n",
      "File \u001b[0;32m~/miniconda-recent/lib/python3.9/site-packages/ddaclient.py:201\u001b[0m, in \u001b[0;36mDDAproduct.interpret_dda_worker_response\u001b[0;34m(self, r)\u001b[0m\n\u001b[1;32m    194\u001b[0m \u001b[39mif\u001b[39;00m r[\u001b[39m'\u001b[39m\u001b[39mexceptions\u001b[39m\u001b[39m'\u001b[39m] \u001b[39m!=\u001b[39m [] \u001b[39mand\u001b[39;00m r[\u001b[39m'\u001b[39m\u001b[39mexceptions\u001b[39m\u001b[39m'\u001b[39m] \u001b[39m!=\u001b[39m \u001b[39m'\u001b[39m\u001b[39m'\u001b[39m \u001b[39mand\u001b[39;00m r[\u001b[39m'\u001b[39m\u001b[39mexceptions\u001b[39m\u001b[39m'\u001b[39m] \u001b[39mis\u001b[39;00m \u001b[39mnot\u001b[39;00m \u001b[39mNone\u001b[39;00m:\n\u001b[1;32m    195\u001b[0m     \u001b[39mif\u001b[39;00m r[\u001b[39m'\u001b[39m\u001b[39mexceptions\u001b[39m\u001b[39m'\u001b[39m][\u001b[39m'\u001b[39m\u001b[39mexception_type\u001b[39m\u001b[39m'\u001b[39m] \u001b[39m==\u001b[39m \u001b[39m\"\u001b[39m\u001b[39mdelegation\u001b[39m\u001b[39m\"\u001b[39m:\n\u001b[1;32m    196\u001b[0m \n\u001b[1;32m    197\u001b[0m         \u001b[39m# if 'delegation_state' not in r['exceptions']:\u001b[39;00m\n\u001b[1;32m    198\u001b[0m         \u001b[39m#json.dump(r['exceptions'], open(\"exception.yaml\", \"wt\"))\u001b[39;00m\n\u001b[1;32m    199\u001b[0m         \u001b[39m#raise Exception(\"exception is delegation but does not contain delegation state! dumped\")\u001b[39;00m\n\u001b[0;32m--> 201\u001b[0m         \u001b[39mraise\u001b[39;00m AnalysisDelegatedException(\n\u001b[1;32m    202\u001b[0m             r[\u001b[39m'\u001b[39m\u001b[39mexceptions\u001b[39m\u001b[39m'\u001b[39m]\u001b[39m.\u001b[39mget(\u001b[39m'\u001b[39m\u001b[39mdelegation_state\u001b[39m\u001b[39m'\u001b[39m, \u001b[39m'\u001b[39m\u001b[39munknown\u001b[39m\u001b[39m'\u001b[39m))\n\u001b[1;32m    204\u001b[0m     \u001b[39mif\u001b[39;00m r[\u001b[39m'\u001b[39m\u001b[39mexceptions\u001b[39m\u001b[39m'\u001b[39m][\u001b[39m'\u001b[39m\u001b[39mexception\u001b[39m\u001b[39m'\u001b[39m][\u001b[39m0\u001b[39m] \u001b[39m==\u001b[39m \u001b[39m'\u001b[39m\u001b[39mdataanalysis.core.AnalysisException\u001b[39m\u001b[39m'\u001b[39m:\n\u001b[1;32m    205\u001b[0m         \u001b[39mraise\u001b[39;00m AnalysisException\u001b[39m.\u001b[39mfrom_dda_analysis_exceptions(\n\u001b[1;32m    206\u001b[0m             [r[\u001b[39m'\u001b[39m\u001b[39mexceptions\u001b[39m\u001b[39m'\u001b[39m][\u001b[39m'\u001b[39m\u001b[39mexception\u001b[39m\u001b[39m'\u001b[39m]])\n",
      "\u001b[0;31mAnalysisDelegatedException\u001b[0m: submitted"
     ]
    }
   ],
   "source": [
    "\n",
    "\n",
    "for scw in scw_dict_all[scw_dict_all.SW_TYPE.str.strip()=='POINTING'].SWID:\n",
    "    print(scw)\n",
    "\n",
    "    ddac.query(target=\"ii_light\", \n",
    "            prompt_delegate=True,\n",
    "            modules=[\"git://ddosa/staging-1-3\", \"git://findic/staging-1-3-icversion\", \"git://ddosa11/staging-1-3\", \"git://integral_all_private\", \"git://ii_light\", \"git://gencat/staging-1-3\"],\n",
    "            assume=['ddosa.ScWData(input_scwid=\"{scw}.001\")'],\n",
    "            inject=[cat])\n",
    "    break"
   ]
  }
 ],
 "metadata": {
  "kernelspec": {
   "display_name": "base",
   "language": "python",
   "name": "python3"
  },
  "language_info": {
   "codemirror_mode": {
    "name": "ipython",
    "version": 3
   },
   "file_extension": ".py",
   "mimetype": "text/x-python",
   "name": "python",
   "nbconvert_exporter": "python",
   "pygments_lexer": "ipython3",
   "version": "3.9.13"
  },
  "orig_nbformat": 4,
  "vscode": {
   "interpreter": {
    "hash": "1892832a55cb9b21d693a1e0afb7563f6ad424a1b7b3da21728b3ea0874fe733"
   }
  }
 },
 "nbformat": 4,
 "nbformat_minor": 2
}
