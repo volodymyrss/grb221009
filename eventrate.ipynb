{
 "cells": [
  {
   "cell_type": "code",
   "execution_count": 2,
   "metadata": {},
   "outputs": [],
   "source": [
    "from astropy import cosmology \n",
    "from astropy import units as u"
   ]
  },
  {
   "cell_type": "code",
   "execution_count": 3,
   "metadata": {},
   "outputs": [],
   "source": [
    "cosmo = cosmology.WMAP9\n"
   ]
  },
  {
   "cell_type": "code",
   "execution_count": 4,
   "metadata": {},
   "outputs": [
    {
     "name": "stdout",
     "output_type": "stream",
     "text": [
      "{'facts': {'distance_Mpc': 726.5147796385771, 'eiso_erg': '2e+54', 'eiso_erg_cm2': '2e+54', 'eiso_erg_cm2_ref': 'gcn32648', 'eiso_erg_ref': 'gcn32648', 'grb_waiting_time_yr': 512, 'grb_waiting_time_yr_ref': 'gcn32793', 'opening_angle_deg': 3.5, 'redshift': 0.151, 'redshift_ref': 'gcn32648'}, 'gcn32648': {'redshift': 0.151}, 'gcn32793': {'data': {'grb_waiting_time_yr': 512}, 'url': 'https://gcn.gsfc.nasa.gov/gcn3/32793.gcn3'}}\n"
     ]
    }
   ],
   "source": [
    "from ddpaper import draftdata\n",
    "\n",
    "with draftdata.DraftData(\"literature\") as dd:\n",
    "    dd['gcn32648'] = {'redshift': 0.151}\n",
    "    print(dd)\n",
    "    dd['facts']['redshift'] = dd['gcn32648']['redshift']\n",
    "    dd['facts']['redshift_ref'] = 'gcn32648'\n",
    "    dd['facts']['eiso_erg'] = 2e54\n",
    "    dd['facts']['eiso_erg_ref'] = 'gcn32648'"
   ]
  },
  {
   "cell_type": "code",
   "execution_count": 5,
   "metadata": {},
   "outputs": [
    {
     "data": {
      "text/plain": [
       "{'facts': {'distance_Mpc': 726.5147796385771,\n",
       "  'eiso_erg': 2e+54,\n",
       "  'eiso_erg_cm2': '2e+54',\n",
       "  'eiso_erg_cm2_ref': 'gcn32648',\n",
       "  'eiso_erg_ref': 'gcn32648',\n",
       "  'grb_waiting_time_yr': 512,\n",
       "  'grb_waiting_time_yr_ref': 'gcn32793',\n",
       "  'opening_angle_deg': 3.5,\n",
       "  'redshift': 0.151,\n",
       "  'redshift_ref': 'gcn32648'},\n",
       " 'gcn32648': {'redshift': 0.151},\n",
       " 'gcn32793': {'data': {'grb_waiting_time_yr': 512},\n",
       "  'url': 'https://gcn.gsfc.nasa.gov/gcn3/32793.gcn3'}}"
      ]
     },
     "execution_count": 5,
     "metadata": {},
     "output_type": "execute_result"
    }
   ],
   "source": [
    "dd"
   ]
  },
  {
   "cell_type": "code",
   "execution_count": 6,
   "metadata": {},
   "outputs": [
    {
     "name": "stdout",
     "output_type": "stream",
     "text": [
      "726.5147796385771\n"
     ]
    }
   ],
   "source": [
    "# GCN 32648\n",
    "\n",
    "with draftdata.DraftData(\"literature\") as dd:\n",
    "    dd['facts']['distance_Mpc'] = cosmo.luminosity_distance(dd['facts']['redshift']).to(u.Mpc).value\n",
    "    print(dd['facts']['distance_Mpc'])"
   ]
  },
  {
   "cell_type": "code",
   "execution_count": 7,
   "metadata": {},
   "outputs": [],
   "source": [
    "import numpy as np\n"
   ]
  },
  {
   "cell_type": "code",
   "execution_count": 8,
   "metadata": {},
   "outputs": [],
   "source": [
    "area_at_distance = (dd['facts']['distance_Mpc']* u.Mpc)**2 *4*np.pi"
   ]
  },
  {
   "cell_type": "code",
   "execution_count": 9,
   "metadata": {},
   "outputs": [
    {
     "data": {
      "text/latex": [
       "$0.0020742644 \\; \\mathrm{erg}$"
      ],
      "text/plain": [
       "<Quantity 0.00207426 erg>"
      ]
     },
     "execution_count": 9,
     "metadata": {},
     "output_type": "execute_result"
    }
   ],
   "source": [
    "\n",
    "# icecube https://gcn.gsfc.nasa.gov/gcn3/32665.gcn3\n",
    "# We accordingly derive a time-integrated muon-neutrino flux upper limit for this source of E^2 dN/ dE = 4.1 x 10^-2 GeV cm^-2 at 90% CL\n",
    "# 800 GeV and 1 PeV\n",
    "\n",
    "(area_at_distance* 4.1 * 1e-2 * u.GeV * u.cm**-2).to(u.erg) / dd['facts']['eiso_erg']"
   ]
  },
  {
   "cell_type": "code",
   "execution_count": 14,
   "metadata": {},
   "outputs": [],
   "source": [
    "# GCN 32755 jet break\n",
    "\n",
    "with draftdata.DraftData(\"literature\") as dd_literature:\n",
    "    dd_literature['facts']['opening_angle_deg'] = 3.5 "
   ]
  },
  {
   "cell_type": "code",
   "execution_count": 22,
   "metadata": {},
   "outputs": [
    {
     "name": "stdout",
     "output_type": "stream",
     "text": [
      "{'on_axis_rate_fraction': 3367.5886734219816, 'typical_distance_offaxis_samerate': 49.79998023792378, 'typical_time_offaxis_samedist': 0.15203757039595048, 'typical_waiting_time_offaxis_samedist': 0.15203757039595048}\n"
     ]
    }
   ],
   "source": [
    "\n",
    "with draftdata.DraftData(\"eventrate\") as dd:\n",
    "    dd['on_axis_rate_fraction'] = (1 / ((dd_literature['facts']['opening_angle_deg']/180*np.pi)**2/(4*np.pi)))\n",
    "\n",
    "    dd['typical_distance_offaxis_samerate'] = dd_literature['facts']['distance_Mpc'] / dd['on_axis_rate_fraction']**0.33\n",
    "    dd['typical_waiting_time_offaxis_samedist'] = dd_literature['facts']['grb_waiting_time_yr']  / dd['on_axis_rate_fraction']\n",
    "\n",
    "print(dd)"
   ]
  }
 ],
 "metadata": {
  "kernelspec": {
   "display_name": "base",
   "language": "python",
   "name": "python3"
  },
  "language_info": {
   "codemirror_mode": {
    "name": "ipython",
    "version": 3
   },
   "file_extension": ".py",
   "mimetype": "text/x-python",
   "name": "python",
   "nbconvert_exporter": "python",
   "pygments_lexer": "ipython3",
   "version": "3.9.13 | packaged by conda-forge | (main, May 27 2022, 16:56:21) \n[GCC 10.3.0]"
  },
  "orig_nbformat": 4,
  "vscode": {
   "interpreter": {
    "hash": "1892832a55cb9b21d693a1e0afb7563f6ad424a1b7b3da21728b3ea0874fe733"
   }
  }
 },
 "nbformat": 4,
 "nbformat_minor": 2
}
