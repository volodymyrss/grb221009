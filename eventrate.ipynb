{
  "cells": [
    {
      "cell_type": "code",
      "execution_count": 1,
      "id": "423799c6",
      "metadata": {
        "execution": {
          "iopub.execute_input": "2023-01-27T16:27:36.796801Z",
          "iopub.status.busy": "2023-01-27T16:27:36.796096Z",
          "iopub.status.idle": "2023-01-27T16:27:37.877805Z",
          "shell.execute_reply": "2023-01-27T16:27:37.876986Z"
        },
        "papermill": {
          "duration": 1.090519,
          "end_time": "2023-01-27T16:27:37.879680",
          "exception": false,
          "start_time": "2023-01-27T16:27:36.789161",
          "status": "completed"
        },
        "tags": []
      },
      "outputs": [],
      "source": [
        "from astropy import cosmology \n",
        "from astropy import units as u"
      ]
    },
    {
      "cell_type": "code",
      "execution_count": 2,
      "id": "541e45c0",
      "metadata": {
        "execution": {
          "iopub.execute_input": "2023-01-27T16:27:37.886605Z",
          "iopub.status.busy": "2023-01-27T16:27:37.886336Z",
          "iopub.status.idle": "2023-01-27T16:27:37.910397Z",
          "shell.execute_reply": "2023-01-27T16:27:37.909331Z"
        },
        "papermill": {
          "duration": 0.030311,
          "end_time": "2023-01-27T16:27:37.912858",
          "exception": false,
          "start_time": "2023-01-27T16:27:37.882547",
          "status": "completed"
        },
        "tags": []
      },
      "outputs": [],
      "source": [
        "cosmo = cosmology.WMAP9\n"
      ]
    },
    {
      "cell_type": "code",
      "execution_count": 3,
      "id": "1dffad6e",
      "metadata": {
        "execution": {
          "iopub.execute_input": "2023-01-27T16:27:37.922118Z",
          "iopub.status.busy": "2023-01-27T16:27:37.921832Z",
          "iopub.status.idle": "2023-01-27T16:27:37.925462Z",
          "shell.execute_reply": "2023-01-27T16:27:37.924497Z"
        },
        "papermill": {
          "duration": 0.010508,
          "end_time": "2023-01-27T16:27:37.927510",
          "exception": false,
          "start_time": "2023-01-27T16:27:37.917002",
          "status": "completed"
        },
        "tags": [
          "parameters"
        ]
      },
      "outputs": [],
      "source": [
        "# oda:version \"v0.2\""
      ]
    },
    {
      "cell_type": "code",
      "execution_count": 4,
      "id": "201585fc",
      "metadata": {
        "execution": {
          "iopub.execute_input": "2023-01-27T16:27:37.936785Z",
          "iopub.status.busy": "2023-01-27T16:27:37.936052Z",
          "iopub.status.idle": "2023-01-27T16:27:37.944683Z",
          "shell.execute_reply": "2023-01-27T16:27:37.944029Z"
        },
        "papermill": {
          "duration": 0.015857,
          "end_time": "2023-01-27T16:27:37.947272",
          "exception": false,
          "start_time": "2023-01-27T16:27:37.931415",
          "status": "completed"
        },
        "tags": []
      },
      "outputs": [
        {
          "name": "stdout",
          "output_type": "stream",
          "text": [
            "{'facts': {'distance_Mpc': 726.5147796385771, 'eiso_erg': 2e+54, 'eiso_erg_ref': 'gcn32648', 'grb_waiting_time_yr': 500, 'opening_angle_deg': 3.5, 'redshift': 0.151, 'redshift_ref': 'gcn32648'}, 'gcn32648': {'redshift': 0.151}}\n"
          ]
        }
      ],
      "source": [
        "from ddpaper import draftdata\n",
        "\n",
        "with draftdata.DraftData(\"literature\") as dd:\n",
        "    dd['gcn32648'] = {'redshift': 0.151}\n",
        "    print(dd)\n",
        "    if 'facts' not in dd:\n",
        "        dd['facts'] = {}\n",
        "    dd['facts']['redshift'] = dd['gcn32648']['redshift']\n",
        "    dd['facts']['redshift_ref'] = 'gcn32648'\n",
        "    dd['facts']['eiso_erg'] = 2e54\n",
        "    dd['facts']['eiso_erg_ref'] = 'gcn32648'"
      ]
    },
    {
      "cell_type": "code",
      "execution_count": 5,
      "id": "a55b739d",
      "metadata": {
        "execution": {
          "iopub.execute_input": "2023-01-27T16:27:37.956664Z",
          "iopub.status.busy": "2023-01-27T16:27:37.956387Z",
          "iopub.status.idle": "2023-01-27T16:27:37.967194Z",
          "shell.execute_reply": "2023-01-27T16:27:37.966272Z"
        },
        "papermill": {
          "duration": 0.017661,
          "end_time": "2023-01-27T16:27:37.969000",
          "exception": false,
          "start_time": "2023-01-27T16:27:37.951339",
          "status": "completed"
        },
        "tags": []
      },
      "outputs": [
        {
          "data": {
            "text/plain": [
              "{'facts': {'distance_Mpc': 726.5147796385771,\n",
              "  'eiso_erg': 2e+54,\n",
              "  'eiso_erg_ref': 'gcn32648',\n",
              "  'grb_waiting_time_yr': 500,\n",
              "  'opening_angle_deg': 3.5,\n",
              "  'redshift': 0.151,\n",
              "  'redshift_ref': 'gcn32648'},\n",
              " 'gcn32648': {'redshift': 0.151}}"
            ]
          },
          "execution_count": 5,
          "metadata": {},
          "output_type": "execute_result"
        }
      ],
      "source": [
        "dd"
      ]
    },
    {
      "cell_type": "code",
      "execution_count": 6,
      "id": "0667f342",
      "metadata": {
        "execution": {
          "iopub.execute_input": "2023-01-27T16:27:37.976564Z",
          "iopub.status.busy": "2023-01-27T16:27:37.976208Z",
          "iopub.status.idle": "2023-01-27T16:27:37.986149Z",
          "shell.execute_reply": "2023-01-27T16:27:37.985259Z"
        },
        "papermill": {
          "duration": 0.015693,
          "end_time": "2023-01-27T16:27:37.988147",
          "exception": false,
          "start_time": "2023-01-27T16:27:37.972454",
          "status": "completed"
        },
        "tags": []
      },
      "outputs": [
        {
          "name": "stdout",
          "output_type": "stream",
          "text": [
            "726.5147796385771\n"
          ]
        }
      ],
      "source": [
        "# GCN 32648\n",
        "\n",
        "with draftdata.DraftData(\"literature\") as dd:\n",
        "    dd['facts']['distance_Mpc'] = cosmo.luminosity_distance(dd['facts']['redshift']).to(u.Mpc).value\n",
        "    print(dd['facts']['distance_Mpc'])"
      ]
    },
    {
      "cell_type": "code",
      "execution_count": 7,
      "id": "a2dc5394",
      "metadata": {
        "execution": {
          "iopub.execute_input": "2023-01-27T16:27:37.995694Z",
          "iopub.status.busy": "2023-01-27T16:27:37.995425Z",
          "iopub.status.idle": "2023-01-27T16:27:37.999054Z",
          "shell.execute_reply": "2023-01-27T16:27:37.998300Z"
        },
        "papermill": {
          "duration": 0.009432,
          "end_time": "2023-01-27T16:27:38.000628",
          "exception": false,
          "start_time": "2023-01-27T16:27:37.991196",
          "status": "completed"
        },
        "tags": []
      },
      "outputs": [],
      "source": [
        "import numpy as np\n"
      ]
    },
    {
      "cell_type": "code",
      "execution_count": 8,
      "id": "8f3846c8",
      "metadata": {
        "execution": {
          "iopub.execute_input": "2023-01-27T16:27:38.008434Z",
          "iopub.status.busy": "2023-01-27T16:27:38.007779Z",
          "iopub.status.idle": "2023-01-27T16:27:38.012002Z",
          "shell.execute_reply": "2023-01-27T16:27:38.011162Z"
        },
        "papermill": {
          "duration": 0.009715,
          "end_time": "2023-01-27T16:27:38.013663",
          "exception": false,
          "start_time": "2023-01-27T16:27:38.003948",
          "status": "completed"
        },
        "tags": []
      },
      "outputs": [],
      "source": [
        "area_at_distance = (dd['facts']['distance_Mpc']* u.Mpc)**2 *4*np.pi"
      ]
    },
    {
      "cell_type": "code",
      "execution_count": 9,
      "id": "b2f2eca3",
      "metadata": {
        "execution": {
          "iopub.execute_input": "2023-01-27T16:27:38.020795Z",
          "iopub.status.busy": "2023-01-27T16:27:38.020310Z",
          "iopub.status.idle": "2023-01-27T16:27:38.027143Z",
          "shell.execute_reply": "2023-01-27T16:27:38.026013Z"
        },
        "papermill": {
          "duration": 0.013032,
          "end_time": "2023-01-27T16:27:38.029627",
          "exception": false,
          "start_time": "2023-01-27T16:27:38.016595",
          "status": "completed"
        },
        "tags": []
      },
      "outputs": [
        {
          "data": {
            "text/latex": [
              "$0.0020742644 \\; \\mathrm{erg}$"
            ],
            "text/plain": [
              "<Quantity 0.00207426 erg>"
            ]
          },
          "execution_count": 9,
          "metadata": {},
          "output_type": "execute_result"
        }
      ],
      "source": [
        "\n",
        "# icecube https://gcn.gsfc.nasa.gov/gcn3/32665.gcn3\n",
        "# We accordingly derive a time-integrated muon-neutrino flux upper limit for this source of E^2 dN/ dE = 4.1 x 10^-2 GeV cm^-2 at 90% CL\n",
        "# 800 GeV and 1 PeV\n",
        "\n",
        "(area_at_distance* 4.1 * 1e-2 * u.GeV * u.cm**-2).to(u.erg) / dd['facts']['eiso_erg']"
      ]
    },
    {
      "cell_type": "code",
      "execution_count": 10,
      "id": "02055ec6",
      "metadata": {
        "execution": {
          "iopub.execute_input": "2023-01-27T16:27:38.040832Z",
          "iopub.status.busy": "2023-01-27T16:27:38.040552Z",
          "iopub.status.idle": "2023-01-27T16:27:38.046483Z",
          "shell.execute_reply": "2023-01-27T16:27:38.045881Z"
        },
        "papermill": {
          "duration": 0.01341,
          "end_time": "2023-01-27T16:27:38.047994",
          "exception": false,
          "start_time": "2023-01-27T16:27:38.034584",
          "status": "completed"
        },
        "tags": []
      },
      "outputs": [],
      "source": [
        "# GCN 32755 jet break\n",
        "\n",
        "with draftdata.DraftData(\"literature\") as dd_literature:\n",
        "    dd_literature['facts']['opening_angle_deg'] = 3.5 \n",
        "    dd_literature['facts']['grb_waiting_time_yr'] = 500 # CHECK!\n"
      ]
    },
    {
      "cell_type": "code",
      "execution_count": 11,
      "id": "6d84ccaf",
      "metadata": {
        "execution": {
          "iopub.execute_input": "2023-01-27T16:27:38.085672Z",
          "iopub.status.busy": "2023-01-27T16:27:38.085410Z",
          "iopub.status.idle": "2023-01-27T16:27:38.090678Z",
          "shell.execute_reply": "2023-01-27T16:27:38.089968Z"
        },
        "papermill": {
          "duration": 0.01194,
          "end_time": "2023-01-27T16:27:38.092945",
          "exception": false,
          "start_time": "2023-01-27T16:27:38.081005",
          "status": "completed"
        },
        "tags": []
      },
      "outputs": [],
      "source": [
        "\n",
        "with draftdata.DraftData(\"eventrate\") as eventrate:\n",
        "    eventrate['on_axis_rate_fraction'] = (1 / ((dd_literature['facts']['opening_angle_deg']/180*np.pi)**2/(4*np.pi)))\n",
        "\n",
        "    eventrate['typical_distance_offaxis_samerate'] = dd_literature['facts']['distance_Mpc'] / eventrate['on_axis_rate_fraction']**0.33\n",
        "    eventrate['typical_waiting_time_offaxis_samedist'] = dd_literature['facts']['grb_waiting_time_yr']  / eventrate['on_axis_rate_fraction']\n"
      ]
    },
    {
      "cell_type": "code",
      "execution_count": 12,
      "id": "3165a98f",
      "metadata": {
        "execution": {
          "iopub.execute_input": "2023-01-27T16:27:38.100562Z",
          "iopub.status.busy": "2023-01-27T16:27:38.100299Z",
          "iopub.status.idle": "2023-01-27T16:27:38.104128Z",
          "shell.execute_reply": "2023-01-27T16:27:38.103323Z"
        },
        "papermill": {
          "duration": 0.009815,
          "end_time": "2023-01-27T16:27:38.106288",
          "exception": false,
          "start_time": "2023-01-27T16:27:38.096473",
          "status": "completed"
        },
        "tags": [
          "outputs"
        ]
      },
      "outputs": [],
      "source": [
        "eventrate=eventrate"
      ]
    }
  ],
  "metadata": {
    "kernelspec": {
      "display_name": "base",
      "language": "python",
      "name": "python3"
    },
    "language_info": {
      "codemirror_mode": {
        "name": "ipython",
        "version": 3
      },
      "file_extension": ".py",
      "mimetype": "text/x-python",
      "name": "python",
      "nbconvert_exporter": "python",
      "pygments_lexer": "ipython3",
      "version": "3.9.13 | packaged by conda-forge | (main, May 27 2022, 16:56:21) \n[GCC 10.3.0]"
    },
    "papermill": {
      "default_parameters": {},
      "duration": 6.071788,
      "end_time": "2023-01-27T16:27:40.974561",
      "environment_variables": {},
      "exception": null,
      "input_path": "/tmp/nb2w-dk4q8vvl/eventrate_preproc.ipynb",
      "output_path": "/tmp/nb2w-dk4q8vvl/eventrate_output.ipynb",
      "parameters": {},
      "start_time": "2023-01-27T16:27:34.902773",
      "version": "2.4.0"
    },
    "vscode": {
      "interpreter": {
        "hash": "1892832a55cb9b21d693a1e0afb7563f6ad424a1b7b3da21728b3ea0874fe733"
      }
    }
  },
  "nbformat": 4,
  "nbformat_minor": 5
}
