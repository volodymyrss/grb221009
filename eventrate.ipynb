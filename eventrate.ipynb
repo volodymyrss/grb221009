{
 "cells": [
  {
   "cell_type": "code",
   "execution_count": 5,
   "metadata": {},
   "outputs": [],
   "source": [
    "from astropy import cosmology \n",
    "from astropy import units as u"
   ]
  },
  {
   "cell_type": "code",
   "execution_count": 6,
   "metadata": {},
   "outputs": [],
   "source": [
    "cosmo = cosmology.WMAP9\n"
   ]
  },
  {
   "cell_type": "code",
   "execution_count": 7,
   "metadata": {},
   "outputs": [
    {
     "name": "stdout",
     "output_type": "stream",
     "text": [
      "{'facts': {'eiso_erg': 2e+54, 'eiso_erg_ref': 'gcn32648', 'redshift': 0.151, 'redshift_ref': 'gcn32648'}, 'gcn32648': {'redshift': 0.151}}\n"
     ]
    }
   ],
   "source": [
    "from ddpaper import draftdata\n",
    "\n",
    "with draftdata.DraftData(\"literature\") as dd:\n",
    "    dd['gcn32648'] = {'redshift': 0.151}\n",
    "    print(dd)\n",
    "    if 'facts' not in dd:\n",
    "        dd['facts'] = {}\n",
    "    dd['facts']['redshift'] = dd['gcn32648']['redshift']\n",
    "    dd['facts']['redshift_ref'] = 'gcn32648'\n",
    "    dd['facts']['eiso_erg'] = 2e54\n",
    "    dd['facts']['eiso_erg_ref'] = 'gcn32648'"
   ]
  },
  {
   "cell_type": "code",
   "execution_count": 8,
   "metadata": {},
   "outputs": [
    {
     "data": {
      "text/plain": [
       "{'facts': {'eiso_erg': 2e+54,\n",
       "  'eiso_erg_ref': 'gcn32648',\n",
       "  'redshift': 0.151,\n",
       "  'redshift_ref': 'gcn32648'},\n",
       " 'gcn32648': {'redshift': 0.151}}"
      ]
     },
     "execution_count": 8,
     "metadata": {},
     "output_type": "execute_result"
    }
   ],
   "source": [
    "dd"
   ]
  },
  {
   "cell_type": "code",
   "execution_count": 9,
   "metadata": {},
   "outputs": [
    {
     "name": "stdout",
     "output_type": "stream",
     "text": [
      "726.5147796385771\n"
     ]
    }
   ],
   "source": [
    "# GCN 32648\n",
    "\n",
    "with draftdata.DraftData(\"literature\") as dd:\n",
    "    dd['facts']['distance_Mpc'] = cosmo.luminosity_distance(dd['facts']['redshift']).to(u.Mpc).value\n",
    "    print(dd['facts']['distance_Mpc'])"
   ]
  },
  {
   "cell_type": "code",
   "execution_count": 10,
   "metadata": {},
   "outputs": [],
   "source": [
    "import numpy as np\n"
   ]
  },
  {
   "cell_type": "code",
   "execution_count": 11,
   "metadata": {},
   "outputs": [],
   "source": [
    "area_at_distance = (dd['facts']['distance_Mpc']* u.Mpc)**2 *4*np.pi"
   ]
  },
  {
   "cell_type": "code",
   "execution_count": 12,
   "metadata": {},
   "outputs": [
    {
     "data": {
      "text/latex": [
       "$0.0020742644 \\; \\mathrm{erg}$"
      ],
      "text/plain": [
       "<Quantity 0.00207426 erg>"
      ]
     },
     "execution_count": 12,
     "metadata": {},
     "output_type": "execute_result"
    }
   ],
   "source": [
    "\n",
    "# icecube https://gcn.gsfc.nasa.gov/gcn3/32665.gcn3\n",
    "# We accordingly derive a time-integrated muon-neutrino flux upper limit for this source of E^2 dN/ dE = 4.1 x 10^-2 GeV cm^-2 at 90% CL\n",
    "# 800 GeV and 1 PeV\n",
    "\n",
    "(area_at_distance* 4.1 * 1e-2 * u.GeV * u.cm**-2).to(u.erg) / dd['facts']['eiso_erg']"
   ]
  },
  {
   "cell_type": "code",
   "execution_count": 13,
   "metadata": {},
   "outputs": [],
   "source": [
    "# GCN 32755 jet break\n",
    "\n",
    "with draftdata.DraftData(\"literature\") as dd_literature:\n",
    "    dd_literature['facts']['opening_angle_deg'] = 3.5 "
   ]
  },
  {
   "cell_type": "code",
   "execution_count": 14,
   "metadata": {},
   "outputs": [
    {
     "ename": "KeyError",
     "evalue": "'grb_waiting_time_yr'",
     "output_type": "error",
     "traceback": [
      "\u001b[0;31m---------------------------------------------------------------------------\u001b[0m",
      "\u001b[0;31mKeyError\u001b[0m                                  Traceback (most recent call last)",
      "\u001b[1;32m/home/savchenk/grb221009/eventrate.ipynb Cell 10\u001b[0m in \u001b[0;36m<cell line: 1>\u001b[0;34m()\u001b[0m\n\u001b[1;32m      <a href='vscode-notebook-cell:/home/savchenk/grb221009/eventrate.ipynb#X12sZmlsZQ%3D%3D?line=1'>2</a>\u001b[0m     dd[\u001b[39m'\u001b[39m\u001b[39mon_axis_rate_fraction\u001b[39m\u001b[39m'\u001b[39m] \u001b[39m=\u001b[39m (\u001b[39m1\u001b[39m \u001b[39m/\u001b[39m ((dd_literature[\u001b[39m'\u001b[39m\u001b[39mfacts\u001b[39m\u001b[39m'\u001b[39m][\u001b[39m'\u001b[39m\u001b[39mopening_angle_deg\u001b[39m\u001b[39m'\u001b[39m]\u001b[39m/\u001b[39m\u001b[39m180\u001b[39m\u001b[39m*\u001b[39mnp\u001b[39m.\u001b[39mpi)\u001b[39m*\u001b[39m\u001b[39m*\u001b[39m\u001b[39m2\u001b[39m\u001b[39m/\u001b[39m(\u001b[39m4\u001b[39m\u001b[39m*\u001b[39mnp\u001b[39m.\u001b[39mpi)))\n\u001b[1;32m      <a href='vscode-notebook-cell:/home/savchenk/grb221009/eventrate.ipynb#X12sZmlsZQ%3D%3D?line=3'>4</a>\u001b[0m     dd[\u001b[39m'\u001b[39m\u001b[39mtypical_distance_offaxis_samerate\u001b[39m\u001b[39m'\u001b[39m] \u001b[39m=\u001b[39m dd_literature[\u001b[39m'\u001b[39m\u001b[39mfacts\u001b[39m\u001b[39m'\u001b[39m][\u001b[39m'\u001b[39m\u001b[39mdistance_Mpc\u001b[39m\u001b[39m'\u001b[39m] \u001b[39m/\u001b[39m dd[\u001b[39m'\u001b[39m\u001b[39mon_axis_rate_fraction\u001b[39m\u001b[39m'\u001b[39m]\u001b[39m*\u001b[39m\u001b[39m*\u001b[39m\u001b[39m0.33\u001b[39m\n\u001b[0;32m----> <a href='vscode-notebook-cell:/home/savchenk/grb221009/eventrate.ipynb#X12sZmlsZQ%3D%3D?line=4'>5</a>\u001b[0m     dd[\u001b[39m'\u001b[39m\u001b[39mtypical_waiting_time_offaxis_samedist\u001b[39m\u001b[39m'\u001b[39m] \u001b[39m=\u001b[39m dd_literature[\u001b[39m'\u001b[39;49m\u001b[39mfacts\u001b[39;49m\u001b[39m'\u001b[39;49m][\u001b[39m'\u001b[39;49m\u001b[39mgrb_waiting_time_yr\u001b[39;49m\u001b[39m'\u001b[39;49m]  \u001b[39m/\u001b[39m dd[\u001b[39m'\u001b[39m\u001b[39mon_axis_rate_fraction\u001b[39m\u001b[39m'\u001b[39m]\n\u001b[1;32m      <a href='vscode-notebook-cell:/home/savchenk/grb221009/eventrate.ipynb#X12sZmlsZQ%3D%3D?line=6'>7</a>\u001b[0m \u001b[39mprint\u001b[39m(dd)\n",
      "\u001b[0;31mKeyError\u001b[0m: 'grb_waiting_time_yr'"
     ]
    }
   ],
   "source": [
    "\n",
    "with draftdata.DraftData(\"eventrate\") as eventrate:\n",
    "    dd['on_axis_rate_fraction'] = (1 / ((dd_literature['facts']['opening_angle_deg']/180*np.pi)**2/(4*np.pi)))\n",
    "\n",
    "    dd['typical_distance_offaxis_samerate'] = dd_literature['facts']['distance_Mpc'] / dd['on_axis_rate_fraction']**0.33\n",
    "    dd['typical_waiting_time_offaxis_samedist'] = dd_literature['facts']['grb_waiting_time_yr']  / dd['on_axis_rate_fraction']\n",
    "\n",
    "print(dd)"
   ]
  },
  {
   "cell_type": "code",
   "execution_count": null,
   "metadata": {
    "tags": [
     "outputs"
    ]
   },
   "outputs": [
    {
     "data": {
      "text/plain": [
       "{'on_axis_rate_fraction': 3367.5886734219816,\n",
       " 'typical_distance_offaxis_samerate': 49.79998023792378,\n",
       " 'typical_time_offaxis_samedist': 0.15203757039595048,\n",
       " 'typical_waiting_time_offaxis_samedist': 0.15203757039595048}"
      ]
     },
     "execution_count": 11,
     "metadata": {},
     "output_type": "execute_result"
    }
   ],
   "source": [
    "eventrate=eventrate"
   ]
  }
 ],
 "metadata": {
  "kernelspec": {
   "display_name": "base",
   "language": "python",
   "name": "python3"
  },
  "language_info": {
   "codemirror_mode": {
    "name": "ipython",
    "version": 3
   },
   "file_extension": ".py",
   "mimetype": "text/x-python",
   "name": "python",
   "nbconvert_exporter": "python",
   "pygments_lexer": "ipython3",
   "version": "3.9.13"
  },
  "orig_nbformat": 4,
  "vscode": {
   "interpreter": {
    "hash": "1892832a55cb9b21d693a1e0afb7563f6ad424a1b7b3da21728b3ea0874fe733"
   }
  }
 },
 "nbformat": 4,
 "nbformat_minor": 2
}
