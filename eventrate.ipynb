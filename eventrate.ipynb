{
  "cells": [
    {
      "cell_type": "code",
      "execution_count": 1,
      "id": "423799c6",
      "metadata": {
        "execution": {
          "iopub.execute_input": "2023-01-27T16:27:36.796801Z",
          "iopub.status.busy": "2023-01-27T16:27:36.796096Z",
          "iopub.status.idle": "2023-01-27T16:27:37.877805Z",
          "shell.execute_reply": "2023-01-27T16:27:37.876986Z"
        },
        "papermill": {
          "duration": 1.090519,
          "end_time": "2023-01-27T16:27:37.879680",
          "exception": false,
          "start_time": "2023-01-27T16:27:36.789161",
          "status": "completed"
        },
        "tags": []
      },
      "outputs": [],
      "source": [
        "from astropy import cosmology \n",
        "from astropy import units as u"
      ]
    },
    {
      "cell_type": "code",
      "execution_count": 2,
      "id": "541e45c0",
      "metadata": {
        "execution": {
          "iopub.execute_input": "2023-01-27T16:27:37.886605Z",
          "iopub.status.busy": "2023-01-27T16:27:37.886336Z",
          "iopub.status.idle": "2023-01-27T16:27:37.910397Z",
          "shell.execute_reply": "2023-01-27T16:27:37.909331Z"
        },
        "papermill": {
          "duration": 0.030311,
          "end_time": "2023-01-27T16:27:37.912858",
          "exception": false,
          "start_time": "2023-01-27T16:27:37.882547",
          "status": "completed"
        },
        "tags": []
      },
      "outputs": [],
      "source": [
        "cosmo = cosmology.WMAP9\n"
      ]
    },
    {
      "cell_type": "code",
      "execution_count": 3,
      "id": "1dffad6e",
      "metadata": {
        "execution": {
          "iopub.execute_input": "2023-01-27T16:27:37.922118Z",
          "iopub.status.busy": "2023-01-27T16:27:37.921832Z",
          "iopub.status.idle": "2023-01-27T16:27:37.925462Z",
          "shell.execute_reply": "2023-01-27T16:27:37.924497Z"
        },
        "papermill": {
          "duration": 0.010508,
          "end_time": "2023-01-27T16:27:37.927510",
          "exception": false,
          "start_time": "2023-01-27T16:27:37.917002",
          "status": "completed"
        },
        "tags": [
          "parameters"
        ]
      },
      "outputs": [],
      "source": [
        "# oda:version \"v0.2.2\""
      ]
    },
    {
      "cell_type": "code",
      "execution_count": 4,
      "id": "201585fc",
      "metadata": {
        "execution": {
          "iopub.execute_input": "2023-01-27T16:27:37.936785Z",
          "iopub.status.busy": "2023-01-27T16:27:37.936052Z",
          "iopub.status.idle": "2023-01-27T16:27:37.944683Z",
          "shell.execute_reply": "2023-01-27T16:27:37.944029Z"
        },
        "papermill": {
          "duration": 0.015857,
          "end_time": "2023-01-27T16:27:37.947272",
          "exception": false,
          "start_time": "2023-01-27T16:27:37.931415",
          "status": "completed"
        },
        "tags": []
      },
      "outputs": [
        {
          "name": "stdout",
          "output_type": "stream",
          "text": [
            "{'gcn32648': {'redshift': 0.151}}\n"
          ]
        }
      ],
      "source": [
        "dd = {}\n",
        "dd['gcn32648'] = {'redshift': 0.151}\n",
        "print(dd)\n",
        "if 'facts' not in dd:\n",
        "    dd['facts'] = {}\n",
        "dd['facts']['redshift'] = dd['gcn32648']['redshift']\n",
        "dd['facts']['redshift_ref'] = 'gcn32648'\n",
        "dd['facts']['eiso_erg'] = 2e54\n",
        "dd['facts']['eiso_erg_ref'] = 'gcn32648'"
      ]
    },
    {
      "cell_type": "code",
      "execution_count": 5,
      "id": "0667f342",
      "metadata": {
        "execution": {
          "iopub.execute_input": "2023-01-27T16:27:37.976564Z",
          "iopub.status.busy": "2023-01-27T16:27:37.976208Z",
          "iopub.status.idle": "2023-01-27T16:27:37.986149Z",
          "shell.execute_reply": "2023-01-27T16:27:37.985259Z"
        },
        "papermill": {
          "duration": 0.015693,
          "end_time": "2023-01-27T16:27:37.988147",
          "exception": false,
          "start_time": "2023-01-27T16:27:37.972454",
          "status": "completed"
        },
        "tags": []
      },
      "outputs": [
        {
          "name": "stdout",
          "output_type": "stream",
          "text": [
            "726.5147796385771\n"
          ]
        }
      ],
      "source": [
        "# GCN 32648\n",
        "\n",
        "dd['facts']['distance_Mpc'] = cosmo.luminosity_distance(dd['facts']['redshift']).to(u.Mpc).value\n",
        "print(dd['facts']['distance_Mpc'])"
      ]
    },
    {
      "cell_type": "code",
      "execution_count": 6,
      "id": "a2dc5394",
      "metadata": {
        "execution": {
          "iopub.execute_input": "2023-01-27T16:27:37.995694Z",
          "iopub.status.busy": "2023-01-27T16:27:37.995425Z",
          "iopub.status.idle": "2023-01-27T16:27:37.999054Z",
          "shell.execute_reply": "2023-01-27T16:27:37.998300Z"
        },
        "papermill": {
          "duration": 0.009432,
          "end_time": "2023-01-27T16:27:38.000628",
          "exception": false,
          "start_time": "2023-01-27T16:27:37.991196",
          "status": "completed"
        },
        "tags": []
      },
      "outputs": [],
      "source": [
        "import numpy as np\n"
      ]
    },
    {
      "cell_type": "code",
      "execution_count": 9,
      "id": "952f2682",
      "metadata": {},
      "outputs": [
        {
          "name": "stdout",
          "output_type": "stream",
          "text": [
            "Defaulting to user installation because normal site-packages is not writeable\n",
            "Processing /home/savchenk/oda-function\n",
            "  Installing build dependencies ... \u001b[?25ldone\n",
            "\u001b[?25h  Getting requirements to build wheel ... \u001b[?25ldone\n",
            "\u001b[?25h  Preparing metadata (pyproject.toml) ... \u001b[?25ldone\n",
            "\u001b[?25hRequirement already satisfied: rdflib in /home/savchenk/.local/lib/python3.10/site-packages (from odafunction==0.1.0) (6.3.2)\n",
            "Requirement already satisfied: nb2workflow[rdf,service] in /home/savchenk/.local/lib/python3.10/site-packages (from odafunction==0.1.0) (1.3.46)\n",
            "Requirement already satisfied: logging_tree in /home/savchenk/.local/lib/python3.10/site-packages (from odafunction==0.1.0) (1.9)\n",
            "Requirement already satisfied: nbconvert in /home/savchenk/.local/lib/python3.10/site-packages (from nb2workflow[rdf,service]->odafunction==0.1.0) (7.2.6)\n",
            "Requirement already satisfied: requests in /usr/lib/python3/dist-packages (from nb2workflow[rdf,service]->odafunction==0.1.0) (2.25.1)\n",
            "Requirement already satisfied: werkzeug==2.0.3 in /home/savchenk/.local/lib/python3.10/site-packages (from nb2workflow[rdf,service]->odafunction==0.1.0) (2.0.3)\n",
            "Requirement already satisfied: psutil in /usr/lib/python3/dist-packages (from nb2workflow[rdf,service]->odafunction==0.1.0) (5.9.0)\n",
            "Requirement already satisfied: sentry-sdk in /home/savchenk/.local/lib/python3.10/site-packages (from nb2workflow[rdf,service]->odafunction==0.1.0) (1.11.1)\n",
            "Requirement already satisfied: papermill in /home/savchenk/.local/lib/python3.10/site-packages (from nb2workflow[rdf,service]->odafunction==0.1.0) (2.4.0)\n",
            "Requirement already satisfied: ipykernel in /home/savchenk/.local/lib/python3.10/site-packages (from nb2workflow[rdf,service]->odafunction==0.1.0) (6.17.0)\n",
            "Requirement already satisfied: scrapbook in /home/savchenk/.local/lib/python3.10/site-packages (from nb2workflow[rdf,service]->odafunction==0.1.0) (0.5.0)\n",
            "Requirement already satisfied: diskcache in /home/savchenk/.local/lib/python3.10/site-packages (from nb2workflow[rdf,service]->odafunction==0.1.0) (5.4.0)\n",
            "Requirement already satisfied: pyyaml in /usr/lib/python3/dist-packages (from nb2workflow[rdf,service]->odafunction==0.1.0) (5.4.1)\n",
            "Requirement already satisfied: python-consul in /home/savchenk/.local/lib/python3.10/site-packages (from nb2workflow[rdf,service]->odafunction==0.1.0) (1.1.0)\n",
            "Requirement already satisfied: flask in /home/savchenk/.local/lib/python3.10/site-packages (from nb2workflow[rdf,service]->odafunction==0.1.0) (2.1.3)\n",
            "Requirement already satisfied: flasgger in /home/savchenk/.local/lib/python3.10/site-packages (from nb2workflow[rdf,service]->odafunction==0.1.0) (0.9.7.1)\n",
            "Requirement already satisfied: pytest-flask in /home/savchenk/.local/lib/python3.10/site-packages (from nb2workflow[rdf,service]->odafunction==0.1.0) (1.2.0)\n",
            "Requirement already satisfied: flask-caching in /home/savchenk/.local/lib/python3.10/site-packages (from nb2workflow[rdf,service]->odafunction==0.1.0) (2.0.2)\n",
            "Requirement already satisfied: flask-cors in /home/savchenk/.local/lib/python3.10/site-packages (from nb2workflow[rdf,service]->odafunction==0.1.0) (3.0.10)\n",
            "Requirement already satisfied: apscheduler in /home/savchenk/.local/lib/python3.10/site-packages (from nb2workflow[rdf,service]->odafunction==0.1.0) (3.10.1)\n",
            "Requirement already satisfied: oda-knowledge-base in /home/savchenk/.local/lib/python3.10/site-packages (from nb2workflow[rdf,service]->odafunction==0.1.0) (0.7.28)\n",
            "Requirement already satisfied: owlready2==0.11 in /home/savchenk/.local/lib/python3.10/site-packages (from nb2workflow[rdf,service]->odafunction==0.1.0) (0.11)\n",
            "Requirement already satisfied: isodate<0.7.0,>=0.6.0 in /home/savchenk/.local/lib/python3.10/site-packages (from rdflib->odafunction==0.1.0) (0.6.1)\n",
            "Requirement already satisfied: pyparsing<4,>=2.1.0 in /usr/lib/python3/dist-packages (from rdflib->odafunction==0.1.0) (2.4.7)\n",
            "Requirement already satisfied: six in /usr/lib/python3/dist-packages (from isodate<0.7.0,>=0.6.0->rdflib->odafunction==0.1.0) (1.16.0)\n",
            "Requirement already satisfied: pytz in /usr/lib/python3/dist-packages (from apscheduler->nb2workflow[rdf,service]->odafunction==0.1.0) (2022.1)\n",
            "Requirement already satisfied: tzlocal!=3.*,>=2.0 in /home/savchenk/.local/lib/python3.10/site-packages (from apscheduler->nb2workflow[rdf,service]->odafunction==0.1.0) (5.0.1)\n",
            "Requirement already satisfied: setuptools>=0.7 in /usr/lib/python3/dist-packages (from apscheduler->nb2workflow[rdf,service]->odafunction==0.1.0) (59.6.0)\n",
            "Requirement already satisfied: packaging in /usr/lib/python3/dist-packages (from flasgger->nb2workflow[rdf,service]->odafunction==0.1.0) (21.3)\n",
            "Requirement already satisfied: jsonschema>=3.0.1 in /home/savchenk/.local/lib/python3.10/site-packages (from flasgger->nb2workflow[rdf,service]->odafunction==0.1.0) (4.17.0)\n",
            "Requirement already satisfied: mistune in /home/savchenk/.local/lib/python3.10/site-packages (from flasgger->nb2workflow[rdf,service]->odafunction==0.1.0) (2.0.4)\n",
            "Requirement already satisfied: Jinja2>=3.0 in /usr/lib/python3/dist-packages (from flask->nb2workflow[rdf,service]->odafunction==0.1.0) (3.0.3)\n",
            "Requirement already satisfied: itsdangerous>=2.0 in /home/savchenk/.local/lib/python3.10/site-packages (from flask->nb2workflow[rdf,service]->odafunction==0.1.0) (2.1.2)\n",
            "Requirement already satisfied: click>=8.0 in /usr/lib/python3/dist-packages (from flask->nb2workflow[rdf,service]->odafunction==0.1.0) (8.0.3)\n",
            "Requirement already satisfied: cachelib<0.10.0,>=0.9.0 in /home/savchenk/.local/lib/python3.10/site-packages (from flask-caching->nb2workflow[rdf,service]->odafunction==0.1.0) (0.9.0)\n",
            "Requirement already satisfied: traitlets>=5.1.0 in /home/savchenk/.local/lib/python3.10/site-packages (from ipykernel->nb2workflow[rdf,service]->odafunction==0.1.0) (5.5.0)\n",
            "Requirement already satisfied: jupyter-client>=6.1.12 in /home/savchenk/.local/lib/python3.10/site-packages (from ipykernel->nb2workflow[rdf,service]->odafunction==0.1.0) (7.4.4)\n",
            "Requirement already satisfied: debugpy>=1.0 in /home/savchenk/.local/lib/python3.10/site-packages (from ipykernel->nb2workflow[rdf,service]->odafunction==0.1.0) (1.6.3)\n",
            "Requirement already satisfied: nest-asyncio in /home/savchenk/.local/lib/python3.10/site-packages (from ipykernel->nb2workflow[rdf,service]->odafunction==0.1.0) (1.5.6)\n",
            "Requirement already satisfied: pyzmq>=17 in /home/savchenk/.local/lib/python3.10/site-packages (from ipykernel->nb2workflow[rdf,service]->odafunction==0.1.0) (24.0.1)\n",
            "Requirement already satisfied: ipython>=7.23.1 in /home/savchenk/.local/lib/python3.10/site-packages (from ipykernel->nb2workflow[rdf,service]->odafunction==0.1.0) (8.6.0)\n",
            "Requirement already satisfied: tornado>=6.1 in /home/savchenk/.local/lib/python3.10/site-packages (from ipykernel->nb2workflow[rdf,service]->odafunction==0.1.0) (6.2)\n",
            "Requirement already satisfied: matplotlib-inline>=0.1 in /home/savchenk/.local/lib/python3.10/site-packages (from ipykernel->nb2workflow[rdf,service]->odafunction==0.1.0) (0.1.6)\n",
            "Requirement already satisfied: jupyterlab-pygments in /home/savchenk/.local/lib/python3.10/site-packages (from nbconvert->nb2workflow[rdf,service]->odafunction==0.1.0) (0.2.2)\n",
            "Requirement already satisfied: bleach in /home/savchenk/.local/lib/python3.10/site-packages (from nbconvert->nb2workflow[rdf,service]->odafunction==0.1.0) (5.0.1)\n",
            "Requirement already satisfied: markupsafe>=2.0 in /usr/lib/python3/dist-packages (from nbconvert->nb2workflow[rdf,service]->odafunction==0.1.0) (2.0.1)\n",
            "Requirement already satisfied: nbclient>=0.5.0 in /home/savchenk/.local/lib/python3.10/site-packages (from nbconvert->nb2workflow[rdf,service]->odafunction==0.1.0) (0.7.2)\n",
            "Requirement already satisfied: tinycss2 in /home/savchenk/.local/lib/python3.10/site-packages (from nbconvert->nb2workflow[rdf,service]->odafunction==0.1.0) (1.2.1)\n",
            "Requirement already satisfied: pandocfilters>=1.4.1 in /home/savchenk/.local/lib/python3.10/site-packages (from nbconvert->nb2workflow[rdf,service]->odafunction==0.1.0) (1.5.0)\n",
            "Requirement already satisfied: jupyter-core>=4.7 in /home/savchenk/.local/lib/python3.10/site-packages (from nbconvert->nb2workflow[rdf,service]->odafunction==0.1.0) (5.1.0)\n",
            "Requirement already satisfied: nbformat>=5.1 in /home/savchenk/.local/lib/python3.10/site-packages (from nbconvert->nb2workflow[rdf,service]->odafunction==0.1.0) (5.9.2)\n",
            "Requirement already satisfied: beautifulsoup4 in /home/savchenk/.local/lib/python3.10/site-packages (from nbconvert->nb2workflow[rdf,service]->odafunction==0.1.0) (4.11.1)\n",
            "Requirement already satisfied: pygments>=2.4.1 in /usr/lib/python3/dist-packages (from nbconvert->nb2workflow[rdf,service]->odafunction==0.1.0) (2.11.2)\n",
            "Requirement already satisfied: defusedxml in /home/savchenk/.local/lib/python3.10/site-packages (from nbconvert->nb2workflow[rdf,service]->odafunction==0.1.0) (0.7.1)\n",
            "Requirement already satisfied: pluggy in /usr/lib/python3/dist-packages (from oda-knowledge-base->nb2workflow[rdf,service]->odafunction==0.1.0) (0.13.0)\n",
            "Requirement already satisfied: click-aliases in /home/savchenk/.local/lib/python3.10/site-packages (from oda-knowledge-base->nb2workflow[rdf,service]->odafunction==0.1.0) (1.0.1)\n",
            "Requirement already satisfied: lxml in /usr/lib/python3/dist-packages (from oda-knowledge-base->nb2workflow[rdf,service]->odafunction==0.1.0) (4.8.0)\n",
            "Requirement already satisfied: path.py in /home/savchenk/.local/lib/python3.10/site-packages (from oda-knowledge-base->nb2workflow[rdf,service]->odafunction==0.1.0) (12.5.0)\n",
            "Requirement already satisfied: coloredlogs in /home/savchenk/.local/lib/python3.10/site-packages (from oda-knowledge-base->nb2workflow[rdf,service]->odafunction==0.1.0) (15.0.1)\n",
            "Requirement already satisfied: minio<7.0.0 in /home/savchenk/.local/lib/python3.10/site-packages (from oda-knowledge-base->nb2workflow[rdf,service]->odafunction==0.1.0) (6.0.2)\n",
            "Requirement already satisfied: html2text in /home/savchenk/.local/lib/python3.10/site-packages (from oda-knowledge-base->nb2workflow[rdf,service]->odafunction==0.1.0) (2020.1.16)\n",
            "Requirement already satisfied: numpy in /home/savchenk/.local/lib/python3.10/site-packages (from oda-knowledge-base->nb2workflow[rdf,service]->odafunction==0.1.0) (1.24.3)\n",
            "Requirement already satisfied: keyring in /usr/lib/python3/dist-packages (from oda-knowledge-base->nb2workflow[rdf,service]->odafunction==0.1.0) (23.5.0)\n",
            "Requirement already satisfied: dynaconf in /home/savchenk/.local/lib/python3.10/site-packages (from oda-knowledge-base->nb2workflow[rdf,service]->odafunction==0.1.0) (3.1.12)\n",
            "Requirement already satisfied: keyrings.cryptfile in /home/savchenk/.local/lib/python3.10/site-packages (from oda-knowledge-base->nb2workflow[rdf,service]->odafunction==0.1.0) (1.3.9)\n",
            "Requirement already satisfied: tqdm>=4.32.2 in /home/savchenk/.local/lib/python3.10/site-packages (from papermill->nb2workflow[rdf,service]->odafunction==0.1.0) (4.66.1)\n",
            "Requirement already satisfied: entrypoints in /home/savchenk/.local/lib/python3.10/site-packages (from papermill->nb2workflow[rdf,service]->odafunction==0.1.0) (0.4)\n",
            "Requirement already satisfied: tenacity in /home/savchenk/.local/lib/python3.10/site-packages (from papermill->nb2workflow[rdf,service]->odafunction==0.1.0) (8.1.0)\n",
            "Requirement already satisfied: ansiwrap in /home/savchenk/.local/lib/python3.10/site-packages (from papermill->nb2workflow[rdf,service]->odafunction==0.1.0) (0.8.4)\n",
            "Requirement already satisfied: pytest>=5.2 in /usr/lib/python3/dist-packages (from pytest-flask->nb2workflow[rdf,service]->odafunction==0.1.0) (6.2.5)\n",
            "Requirement already satisfied: pandas in /home/savchenk/.local/lib/python3.10/site-packages (from scrapbook->nb2workflow[rdf,service]->odafunction==0.1.0) (2.1.1)\n",
            "Requirement already satisfied: pyarrow in /home/savchenk/.local/lib/python3.10/site-packages (from scrapbook->nb2workflow[rdf,service]->odafunction==0.1.0) (10.0.1)\n",
            "Requirement already satisfied: certifi in /usr/lib/python3/dist-packages (from sentry-sdk->nb2workflow[rdf,service]->odafunction==0.1.0) (2020.6.20)\n",
            "Requirement already satisfied: urllib3>=1.26.11 in /home/savchenk/.local/lib/python3.10/site-packages (from sentry-sdk->nb2workflow[rdf,service]->odafunction==0.1.0) (1.26.13)\n",
            "Requirement already satisfied: pickleshare in /home/savchenk/.local/lib/python3.10/site-packages (from ipython>=7.23.1->ipykernel->nb2workflow[rdf,service]->odafunction==0.1.0) (0.7.5)\n",
            "Requirement already satisfied: prompt-toolkit<3.1.0,>3.0.1 in /usr/lib/python3/dist-packages (from ipython>=7.23.1->ipykernel->nb2workflow[rdf,service]->odafunction==0.1.0) (3.0.28)\n",
            "Requirement already satisfied: pexpect>4.3 in /usr/lib/python3/dist-packages (from ipython>=7.23.1->ipykernel->nb2workflow[rdf,service]->odafunction==0.1.0) (4.8.0)\n",
            "Requirement already satisfied: decorator in /home/savchenk/.local/lib/python3.10/site-packages (from ipython>=7.23.1->ipykernel->nb2workflow[rdf,service]->odafunction==0.1.0) (5.1.1)\n",
            "Requirement already satisfied: stack-data in /home/savchenk/.local/lib/python3.10/site-packages (from ipython>=7.23.1->ipykernel->nb2workflow[rdf,service]->odafunction==0.1.0) (0.6.0)\n",
            "Requirement already satisfied: backcall in /home/savchenk/.local/lib/python3.10/site-packages (from ipython>=7.23.1->ipykernel->nb2workflow[rdf,service]->odafunction==0.1.0) (0.2.0)\n",
            "Requirement already satisfied: jedi>=0.16 in /home/savchenk/.local/lib/python3.10/site-packages (from ipython>=7.23.1->ipykernel->nb2workflow[rdf,service]->odafunction==0.1.0) (0.18.1)\n",
            "Requirement already satisfied: attrs>=17.4.0 in /home/savchenk/.local/lib/python3.10/site-packages (from jsonschema>=3.0.1->flasgger->nb2workflow[rdf,service]->odafunction==0.1.0) (22.1.0)\n",
            "Requirement already satisfied: pyrsistent!=0.17.0,!=0.17.1,!=0.17.2,>=0.14.0 in /home/savchenk/.local/lib/python3.10/site-packages (from jsonschema>=3.0.1->flasgger->nb2workflow[rdf,service]->odafunction==0.1.0) (0.19.2)\n",
            "Requirement already satisfied: python-dateutil>=2.8.2 in /home/savchenk/.local/lib/python3.10/site-packages (from jupyter-client>=6.1.12->ipykernel->nb2workflow[rdf,service]->odafunction==0.1.0) (2.8.2)\n",
            "Requirement already satisfied: platformdirs>=2.5 in /usr/lib/python3/dist-packages (from jupyter-core>=4.7->nbconvert->nb2workflow[rdf,service]->odafunction==0.1.0) (2.5.1)\n",
            "Requirement already satisfied: configparser in /home/savchenk/.local/lib/python3.10/site-packages (from minio<7.0.0->oda-knowledge-base->nb2workflow[rdf,service]->odafunction==0.1.0) (5.3.0)\n",
            "Requirement already satisfied: fastjsonschema in /home/savchenk/.local/lib/python3.10/site-packages (from nbformat>=5.1->nbconvert->nb2workflow[rdf,service]->odafunction==0.1.0) (2.16.2)\n",
            "Requirement already satisfied: textwrap3>=0.9.2 in /home/savchenk/.local/lib/python3.10/site-packages (from ansiwrap->papermill->nb2workflow[rdf,service]->odafunction==0.1.0) (0.9.2)\n",
            "Requirement already satisfied: soupsieve>1.2 in /home/savchenk/.local/lib/python3.10/site-packages (from beautifulsoup4->nbconvert->nb2workflow[rdf,service]->odafunction==0.1.0) (2.3.2.post1)\n",
            "Requirement already satisfied: webencodings in /home/savchenk/.local/lib/python3.10/site-packages (from bleach->nbconvert->nb2workflow[rdf,service]->odafunction==0.1.0) (0.5.1)\n",
            "Requirement already satisfied: humanfriendly>=9.1 in /home/savchenk/.local/lib/python3.10/site-packages (from coloredlogs->oda-knowledge-base->nb2workflow[rdf,service]->odafunction==0.1.0) (10.0)\n",
            "Requirement already satisfied: jaraco.classes in /home/savchenk/.local/lib/python3.10/site-packages (from keyrings.cryptfile->oda-knowledge-base->nb2workflow[rdf,service]->odafunction==0.1.0) (3.2.3)\n",
            "Requirement already satisfied: pycryptodome in /home/savchenk/.local/lib/python3.10/site-packages (from keyrings.cryptfile->oda-knowledge-base->nb2workflow[rdf,service]->odafunction==0.1.0) (3.18.0)\n",
            "Requirement already satisfied: argon2-cffi in /home/savchenk/.local/lib/python3.10/site-packages (from keyrings.cryptfile->oda-knowledge-base->nb2workflow[rdf,service]->odafunction==0.1.0) (21.3.0)\n",
            "Requirement already satisfied: tzdata>=2022.1 in /home/savchenk/.local/lib/python3.10/site-packages (from pandas->scrapbook->nb2workflow[rdf,service]->odafunction==0.1.0) (2023.3)\n",
            "Requirement already satisfied: path in /home/savchenk/.local/lib/python3.10/site-packages (from path.py->oda-knowledge-base->nb2workflow[rdf,service]->odafunction==0.1.0) (16.6.0)\n",
            "Requirement already satisfied: parso<0.9.0,>=0.8.0 in /home/savchenk/.local/lib/python3.10/site-packages (from jedi>=0.16->ipython>=7.23.1->ipykernel->nb2workflow[rdf,service]->odafunction==0.1.0) (0.8.3)\n",
            "Requirement already satisfied: argon2-cffi-bindings in /home/savchenk/.local/lib/python3.10/site-packages (from argon2-cffi->keyrings.cryptfile->oda-knowledge-base->nb2workflow[rdf,service]->odafunction==0.1.0) (21.2.0)\n",
            "Requirement already satisfied: more-itertools in /usr/lib/python3/dist-packages (from jaraco.classes->keyrings.cryptfile->oda-knowledge-base->nb2workflow[rdf,service]->odafunction==0.1.0) (8.10.0)\n",
            "Requirement already satisfied: pure-eval in /home/savchenk/.local/lib/python3.10/site-packages (from stack-data->ipython>=7.23.1->ipykernel->nb2workflow[rdf,service]->odafunction==0.1.0) (0.2.2)\n",
            "Requirement already satisfied: executing>=1.2.0 in /home/savchenk/.local/lib/python3.10/site-packages (from stack-data->ipython>=7.23.1->ipykernel->nb2workflow[rdf,service]->odafunction==0.1.0) (1.2.0)\n",
            "Requirement already satisfied: asttokens>=2.1.0 in /home/savchenk/.local/lib/python3.10/site-packages (from stack-data->ipython>=7.23.1->ipykernel->nb2workflow[rdf,service]->odafunction==0.1.0) (2.1.0)\n",
            "Requirement already satisfied: cffi>=1.0.1 in /home/savchenk/.local/lib/python3.10/site-packages (from argon2-cffi-bindings->argon2-cffi->keyrings.cryptfile->oda-knowledge-base->nb2workflow[rdf,service]->odafunction==0.1.0) (1.15.1)\n",
            "Requirement already satisfied: pycparser in /home/savchenk/.local/lib/python3.10/site-packages (from cffi>=1.0.1->argon2-cffi-bindings->argon2-cffi->keyrings.cryptfile->oda-knowledge-base->nb2workflow[rdf,service]->odafunction==0.1.0) (2.21)\n",
            "Building wheels for collected packages: odafunction\n",
            "  Building wheel for odafunction (pyproject.toml) ... \u001b[?25ldone\n",
            "\u001b[?25h  Created wheel for odafunction: filename=odafunction-0.1.0-py3-none-any.whl size=12407 sha256=a09f0b00f7e88778459cb15d6f44b6d9bda3bb782f500beb26e6836583c17935\n",
            "  Stored in directory: /home/savchenk/.cache/pip/wheels/96/35/7b/85cd23eaaab08f24f515c306e6010bec7039102db4202739be\n",
            "Successfully built odafunction\n",
            "Installing collected packages: odafunction\n",
            "  Attempting uninstall: odafunction\n",
            "    Found existing installation: odafunction 0.1.0\n",
            "    Uninstalling odafunction-0.1.0:\n",
            "      Successfully uninstalled odafunction-0.1.0\n",
            "Successfully installed odafunction-0.1.0\n"
          ]
        },
        {
          "name": "stderr",
          "output_type": "stream",
          "text": [
            "WARNING:odafunction.func.urifunc:asked to [red]write_to_uri[/] [b][URIPythonFunction][()][prov: [('partial', ('args', ()), ('kwargs', {}), ([URIipynbFunction][()]:[file:///home/savchenk/grb221009/literature.ipynb@oda_version=v0.1.3], None))]]:[file:///tmp/urivalue//5bd5c664//home/savchenk/grb221009/literature/oda_version=v0.1.3][/] but this function has no persistent representation\n"
          ]
        },
        {
          "name": "stdout",
          "output_type": "stream",
          "text": [
            "nba <nb2workflow.nbadapter.NotebookAdapter object at 0x7fe9ca1d7970>\n"
          ]
        },
        {
          "name": "stderr",
          "output_type": "stream",
          "text": [
            "Cloning into '/tmp/nb2w-xzkgip3k'...\n",
            "done.\n",
            "Submodule '634522c9c32e5b2d52230e81' (https://git.overleaf.com/634522c9c32e5b2d52230e81) registered for path '634522c9c32e5b2d52230e81'\n",
            "Submodule 'grb221009-picture' (git@github.com:volodymyrss/grb221009-picture.git) registered for path 'grb221009-picture'\n",
            "Submodule 'grb221009a-ipom' (git@github.com:volodymyrss/grb221009a-ipom.git) registered for path 'grb221009a-ipom'\n",
            "Submodule 'paper-ej' (https://git.overleaf.com/63f927f82043599b6917ac65) registered for path 'paper-ej'\n",
            "Submodule 'paper-pu' (https://git.overleaf.com/63f92982204359937817c120) registered for path 'paper-pu'\n",
            "Cloning into '/tmp/nb2w-xzkgip3k/634522c9c32e5b2d52230e81'...\n",
            "Cloning into '/tmp/nb2w-xzkgip3k/grb221009-picture'...\n",
            "Cloning into '/tmp/nb2w-xzkgip3k/grb221009a-ipom'...\n",
            "Cloning into '/tmp/nb2w-xzkgip3k/paper-ej'...\n",
            "Cloning into '/tmp/nb2w-xzkgip3k/paper-pu'...\n",
            "WARNING:nb2workflow.nbadapter:will attempt to convert, but expect other warnings!\n",
            "WARNING:papermill:<>:24: SyntaxWarning: \"is\" with a literal. Did you mean \"==\"?\n",
            "<>:24: SyntaxWarning: \"is\" with a literal. Did you mean \"==\"?\n",
            "\n",
            "WARNING:papermill:/tmp/ipykernel_2193034/240692045.py:24: SyntaxWarning: \"is\" with a literal. Did you mean \"==\"?\n",
            "  if 1048576 is None or len(content) < 1048576:\n",
            "\n"
          ]
        }
      ],
      "source": [
        "# !pip install ~/oda-function\n",
        "from odafunction.executors import default_execute_to_value\n",
        "from odafunction.func.urifunc import URIipynbFunction, URIValue\n",
        "\n",
        "# focus_obs_name='r25589'\n",
        "\n",
        "# TODO: set version restriction here\n",
        "# TODO: make nb2workflow store in remote storages\n",
        "# TODO: make possible to disrupt equivalence with indications\n",
        "# TODO: make common fd/fc depending on\n",
        "\n",
        "v = default_execute_to_value(URIipynbFunction.from_generic_uri(\"file:///home/savchenk/grb221009/literature.ipynb\")(), valueclass=URIValue, cached=True)"
      ]
    },
    {
      "cell_type": "code",
      "execution_count": 14,
      "id": "1d9ddeaa",
      "metadata": {},
      "outputs": [
        {
          "data": {
            "text/plain": [
              "{'facts': {'T0_ijd': 8317.553472222222,\n",
              "  'T0_isot': '2022-10-09T13:17:00',\n",
              "  'distance_Mpc': 726.5147796385771,\n",
              "  'eiso_erg': 2e+54,\n",
              "  'eiso_erg_ref': 'gcn32648',\n",
              "  'grb_waiting_time_yr': 10000,\n",
              "  'jet_break_s': 79000,\n",
              "  'jet_break_s_ref': 'arXiv:2302.03642',\n",
              "  'opening_angle_deg': 4,\n",
              "  'redshift': 0.151,\n",
              "  'redshift_ref': 'gcn:32648'}}"
            ]
          },
          "execution_count": 14,
          "metadata": {},
          "output_type": "execute_result"
        }
      ],
      "source": [
        "literature = v['output_values']\n",
        "literature"
      ]
    },
    {
      "cell_type": "code",
      "execution_count": null,
      "id": "8f3846c8",
      "metadata": {
        "execution": {
          "iopub.execute_input": "2023-01-27T16:27:38.008434Z",
          "iopub.status.busy": "2023-01-27T16:27:38.007779Z",
          "iopub.status.idle": "2023-01-27T16:27:38.012002Z",
          "shell.execute_reply": "2023-01-27T16:27:38.011162Z"
        },
        "papermill": {
          "duration": 0.009715,
          "end_time": "2023-01-27T16:27:38.013663",
          "exception": false,
          "start_time": "2023-01-27T16:27:38.003948",
          "status": "completed"
        },
        "tags": []
      },
      "outputs": [],
      "source": [
        "area_at_distance = (dd['facts']['distance_Mpc']* u.Mpc)**2 *4*np.pi"
      ]
    },
    {
      "cell_type": "code",
      "execution_count": null,
      "id": "b2f2eca3",
      "metadata": {
        "execution": {
          "iopub.execute_input": "2023-01-27T16:27:38.020795Z",
          "iopub.status.busy": "2023-01-27T16:27:38.020310Z",
          "iopub.status.idle": "2023-01-27T16:27:38.027143Z",
          "shell.execute_reply": "2023-01-27T16:27:38.026013Z"
        },
        "papermill": {
          "duration": 0.013032,
          "end_time": "2023-01-27T16:27:38.029627",
          "exception": false,
          "start_time": "2023-01-27T16:27:38.016595",
          "status": "completed"
        },
        "tags": []
      },
      "outputs": [],
      "source": [
        "\n",
        "# icecube https://gcn.gsfc.nasa.gov/gcn3/32665.gcn3\n",
        "# We accordingly derive a time-integrated muon-neutrino flux upper limit for this source of E^2 dN/ dE = 4.1 x 10^-2 GeV cm^-2 at 90% CL\n",
        "# 800 GeV and 1 PeV\n",
        "\n",
        "(area_at_distance* 4.1 * 1e-2 * u.GeV * u.cm**-2).to(u.erg) / dd['facts']['eiso_erg']"
      ]
    },
    {
      "cell_type": "code",
      "execution_count": null,
      "id": "6d84ccaf",
      "metadata": {
        "execution": {
          "iopub.execute_input": "2023-01-27T16:27:38.085672Z",
          "iopub.status.busy": "2023-01-27T16:27:38.085410Z",
          "iopub.status.idle": "2023-01-27T16:27:38.090678Z",
          "shell.execute_reply": "2023-01-27T16:27:38.089968Z"
        },
        "papermill": {
          "duration": 0.01194,
          "end_time": "2023-01-27T16:27:38.092945",
          "exception": false,
          "start_time": "2023-01-27T16:27:38.081005",
          "status": "completed"
        },
        "tags": []
      },
      "outputs": [],
      "source": [
        "\n",
        "eventrate = {}\n",
        "eventrate['on_axis_rate_fraction'] = (1 / ((literature['facts']['opening_angle_deg']/180*np.pi)**2/(4*np.pi)))\n",
        "\n",
        "eventrate['typical_distance_offaxis_samerate_mpc'] = literature['facts']['distance_Mpc'] / eventrate['on_axis_rate_fraction']**0.33\n",
        "eventrate['typical_waiting_time_offaxis_samedist_yr'] = literature['facts']['grb_waiting_time_yr']  / eventrate['on_axis_rate_fraction']\n",
        "\n",
        "eventrate"
      ]
    },
    {
      "cell_type": "code",
      "execution_count": null,
      "id": "3165a98f",
      "metadata": {
        "execution": {
          "iopub.execute_input": "2023-01-27T16:27:38.100562Z",
          "iopub.status.busy": "2023-01-27T16:27:38.100299Z",
          "iopub.status.idle": "2023-01-27T16:27:38.104128Z",
          "shell.execute_reply": "2023-01-27T16:27:38.103323Z"
        },
        "papermill": {
          "duration": 0.009815,
          "end_time": "2023-01-27T16:27:38.106288",
          "exception": false,
          "start_time": "2023-01-27T16:27:38.096473",
          "status": "completed"
        },
        "tags": [
          "outputs"
        ]
      },
      "outputs": [],
      "source": [
        "eventrate=eventrate\n",
        "opening_angle_deg = literature['facts']['opening_angle_deg']"
      ]
    }
  ],
  "metadata": {
    "kernelspec": {
      "display_name": "base",
      "language": "python",
      "name": "python3"
    },
    "language_info": {
      "codemirror_mode": {
        "name": "ipython",
        "version": 3
      },
      "file_extension": ".py",
      "mimetype": "text/x-python",
      "name": "python",
      "nbconvert_exporter": "python",
      "pygments_lexer": "ipython3",
      "version": "3.10.12"
    },
    "papermill": {
      "default_parameters": {},
      "duration": 6.071788,
      "end_time": "2023-01-27T16:27:40.974561",
      "environment_variables": {},
      "exception": null,
      "input_path": "/tmp/nb2w-dk4q8vvl/eventrate_preproc.ipynb",
      "output_path": "/tmp/nb2w-dk4q8vvl/eventrate_output.ipynb",
      "parameters": {},
      "start_time": "2023-01-27T16:27:34.902773",
      "version": "2.4.0"
    },
    "vscode": {
      "interpreter": {
        "hash": "1892832a55cb9b21d693a1e0afb7563f6ad424a1b7b3da21728b3ea0874fe733"
      }
    }
  },
  "nbformat": 4,
  "nbformat_minor": 5
}
