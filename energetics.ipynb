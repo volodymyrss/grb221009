{
 "cells": [
  {
   "cell_type": "code",
   "execution_count": 6,
   "metadata": {
    "tags": [
     "parameters"
    ]
   },
   "outputs": [],
   "source": [
    "# oda:version \"0.1.0\""
   ]
  },
  {
   "cell_type": "code",
   "execution_count": 12,
   "metadata": {},
   "outputs": [
    {
     "name": "stderr",
     "output_type": "stream",
     "text": [
      "WARNING:odafunction.func.urifunc:asked to [red]write_to_uri[/] [b][URIPythonFunction][()][prov: [('partial', ('args', ()), ('kwargs', {'focus_obs_name': 'r2558'}), ([URIipynbFunction][(*, focus_obs_name='r25589', sampler_steps=50)]:[file:///home/savchenk/grb221009/spectrum.ipynb@oda_version=v0.1.29], None))]]:[file:///home/savchenk/urivalue//6d532aca//home/savchenk/grb221009/spectrum/oda_version=v0.1.29][/] but this function has no persistent representation\n"
     ]
    }
   ],
   "source": [
    "from odafunction.executors import default_execute_to_value\n",
    "from odafunction.func.urifunc import URIipynbFunction, URIValue\n",
    "\n",
    "v = default_execute_to_value(URIipynbFunction.from_generic_uri(\"file:///home/savchenk/grb221009/spectrum.ipynb\")(focus_obs_name=\"r2558\"), valueclass=URIValue, cached=True)\n",
    "\n",
    "import io\n",
    "import tempfile\n",
    "import base64\n",
    "import tarfile\n",
    "    "
   ]
  },
  {
   "cell_type": "code",
   "execution_count": 27,
   "metadata": {},
   "outputs": [
    {
     "name": "stdout",
     "output_type": "stream",
     "text": [
      "3.3851849389188845e-12 erg / (cm2 s)\n"
     ]
    },
    {
     "data": {
      "text/latex": [
       "$1.2089946 \\times 10^{-8} \\; \\mathrm{\\frac{1}{s}}$"
      ],
      "text/plain": [
       "<Quantity 1.20899462e-08 1 / s>"
      ]
     },
     "execution_count": 27,
     "metadata": {},
     "output_type": "execute_result"
    }
   ],
   "source": [
    "\n",
    "from astropy import units as u\n",
    "from astropy import constants as const\n",
    "\n",
    "# Martin-Carillo 2014 fig 4\n",
    "grb120711a_1d_ibis_flux = (0.7e-4 * u.mJy * (20*u.keV / const.h).to(u.Hz)).to(u.erg / (u.cm**2 * u.s))\n",
    "print(grb120711a_1d_ibis_flux)\n",
    "grb120711a_fluence = 2.8e-4 * u.erg / u.cm**2 # 20 - 8000 keV \n",
    "\n",
    "grb120711a_1d_ibis_flux / grb120711a_1d_fluence"
   ]
  },
  {
   "cell_type": "code",
   "execution_count": 24,
   "metadata": {},
   "outputs": [
    {
     "data": {
      "text/latex": [
       "$1.3981481 \\times 10^{-9} \\; \\mathrm{\\frac{1}{s}}$"
      ],
      "text/plain": [
       "<Quantity 1.39814806e-09 1 / s>"
      ]
     },
     "execution_count": 24,
     "metadata": {},
     "output_type": "execute_result"
    }
   ],
   "source": [
    "v['output_values']['flux_3_200_keV_ecs']['mean'] / 2  * u.erg / (u.cm**2 * u.s) / (0.2 * u.erg / u.cm**2) "
   ]
  }
 ],
 "metadata": {
  "kernelspec": {
   "display_name": "Python 3",
   "language": "python",
   "name": "python3"
  },
  "language_info": {
   "codemirror_mode": {
    "name": "ipython",
    "version": 3
   },
   "file_extension": ".py",
   "mimetype": "text/x-python",
   "name": "python",
   "nbconvert_exporter": "python",
   "pygments_lexer": "ipython3",
   "version": "3.10.12"
  },
  "orig_nbformat": 4
 },
 "nbformat": 4,
 "nbformat_minor": 2
}
